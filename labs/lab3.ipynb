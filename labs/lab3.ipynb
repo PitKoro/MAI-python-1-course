{
 "cells": [
  {
   "cell_type": "markdown",
   "metadata": {},
   "source": [
    "# Лабораторная работа №3"
   ]
  },
  {
   "cell_type": "markdown",
   "metadata": {},
   "source": [
    "## Задание 1\n",
    "Напишите функцию, которая принимает массив из 10 чисел и возвращает их сумму."
   ]
  },
  {
   "cell_type": "markdown",
   "metadata": {},
   "source": [
    "## Задание 2\n",
    "Напишите функцию, которая принимает массив чисел и возвращает количество чисел равных нулю."
   ]
  },
  {
   "cell_type": "markdown",
   "metadata": {},
   "source": [
    "## Задание 3\n",
    "Напишите программу, в которой задается натуральное число n и выводится лестница из n ступенек, i-я ступенька должна состоять из чисел от 1 до i без пробелов.\n",
    "\n",
    "Результат:\n",
    "```\n",
    "1\n",
    "12\n",
    "123\n",
    "1234\n",
    "12345\n",
    "123456\n",
    "1234567\n",
    "12345678\n",
    "123456789\n",
    "```"
   ]
  },
  {
   "cell_type": "markdown",
   "metadata": {},
   "source": [
    "## Задание 4\n",
    "Напишите программу, в которой задается натуральное число n и выводится пирамида из n ступенек, i-я ступень должна состоять из чисел от 1 до i и обратно без пробелов.\n",
    "\n",
    "Результат:\n",
    "```\n",
    "        1\n",
    "       121\n",
    "      12321\n",
    "     1234321\n",
    "    123454321\n",
    "   12345654321\n",
    "  1234567654321\n",
    " 123456787654321\n",
    "12345678987654321\n",
    "```"
   ]
  }
 ],
 "metadata": {
  "kernelspec": {
   "display_name": "Python 3.8.13 ('python38')",
   "language": "python",
   "name": "python3"
  },
  "language_info": {
   "codemirror_mode": {
    "name": "ipython",
    "version": 3
   },
   "file_extension": ".py",
   "mimetype": "text/x-python",
   "name": "python",
   "nbconvert_exporter": "python",
   "pygments_lexer": "ipython3",
   "version": "3.8.13"
  },
  "orig_nbformat": 4,
  "vscode": {
   "interpreter": {
    "hash": "3c64582adca0c184f06dcdfce30970f487115dc8b326ec6092605797537ca17c"
   }
  }
 },
 "nbformat": 4,
 "nbformat_minor": 2
}
