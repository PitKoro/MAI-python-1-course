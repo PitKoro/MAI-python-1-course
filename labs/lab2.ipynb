{
  "nbformat": 4,
  "nbformat_minor": 0,
  "metadata": {
    "colab": {
      "provenance": [],
      "authorship_tag": "ABX9TyO4XbVTX3yGnSK0oIAM9ibf"
    },
    "kernelspec": {
      "name": "python3",
      "display_name": "Python 3"
    },
    "language_info": {
      "name": "python"
    }
  },
  "cells": [
    {
      "cell_type": "markdown",
      "source": [
        "# Лабораторная работа №2\n",
        "\n",
        "## Задание 1\n",
        "\n",
        "Потренируйтесь c логическими и побитовыми операторами."
      ],
      "metadata": {
        "id": "Fgt_OQlIwflr"
      }
    },
    {
      "cell_type": "code",
      "source": [
        "a = True\n",
        "\n",
        "b = False"
      ],
      "metadata": {
        "id": "71R_pIjSwnKz"
      },
      "execution_count": 1,
      "outputs": []
    },
    {
      "cell_type": "markdown",
      "source": [
        "Решите:\n",
        "\n",
        "1. ```a and b```\n",
        "\n",
        "2. ```(a and b) or b```\n",
        "\n",
        "3. ```(a and b) or not (a and b)```\n",
        "\n",
        "4. ```a and b or not (a or b) or b```\n",
        "\n",
        "5. ```b and b or not a and (a or b or a) or not (a or b)```\n",
        "\n",
        "6. ```1 << 2```\n",
        "\n",
        "7. ```1 & 0 | 1 >> 1```\n",
        "\n",
        "8. ```1 & 0 | 1 >> 0```\n",
        "\n",
        "9. ```0b101 & 0b111 ^ 0b111 | 0b010``` \n",
        "\n",
        "Комментарий: \"0b101\" - запись числа \"5\" на языке Python в двоичном виде"
      ],
      "metadata": {
        "id": "U1CAe9ijw9hm"
      }
    },
    {
      "cell_type": "markdown",
      "source": [
        "## Задание 2\n",
        "\n",
        "Напишите программу, которая принимает с клавиатуры 2 числа, сравнивает между собой и выводит на экран наименьшее."
      ],
      "metadata": {
        "id": "5IN-0vIJxj5w"
      }
    },
    {
      "cell_type": "markdown",
      "source": [
        "## Задание 3\n",
        "\n",
        "Напишите программу, которая принимает с клавиатуры 3 числа, сравнивает между собой и выводит на экран наибольшее."
      ],
      "metadata": {
        "id": "vSnMQpVGyEyK"
      }
    },
    {
      "cell_type": "markdown",
      "source": [
        "## Задание 4\n",
        "\n",
        "Напишите программу, которая принимает с клавиатуры 3 числа, сравнивает между собой и выводит количество уникальных чисел."
      ],
      "metadata": {
        "id": "biIMWuWbzJqi"
      }
    }
  ]
}