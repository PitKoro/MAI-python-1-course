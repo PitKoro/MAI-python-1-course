{
 "cells": [
  {
   "cell_type": "markdown",
   "metadata": {},
   "source": [
    "# Лекция 3"
   ]
  },
  {
   "cell_type": "markdown",
   "metadata": {},
   "source": [
    "# Списки\n",
    "\n",
    "Списками в Python называются массивы. Они могут содержать данные различных типов. Для создания списка автоматически можно использовать метод `list()`:"
   ]
  },
  {
   "cell_type": "code",
   "execution_count": 1,
   "metadata": {},
   "outputs": [
    {
     "name": "stdout",
     "output_type": "stream",
     "text": [
      "['L', 'a', 'm', 'b', 'd', 'a']\n"
     ]
    }
   ],
   "source": [
    "var = list('Lambda')\n",
    "print(var)"
   ]
  },
  {
   "cell_type": "markdown",
   "metadata": {},
   "source": [
    "Также можно это сделать напрямую, присвоив переменной значение типа `list`:"
   ]
  },
  {
   "cell_type": "code",
   "execution_count": 2,
   "metadata": {},
   "outputs": [
    {
     "name": "stdout",
     "output_type": "stream",
     "text": [
      "[]\n",
      "['mai', 'l', ['lambda'], 111]\n"
     ]
    }
   ],
   "source": [
    "# Пустой список\n",
    "s = []\n",
    "# список с данными разных типов\n",
    "l = ['mai', 'l', ['lambda'], 111]\n",
    "print(s)\n",
    "print(l)"
   ]
  },
  {
   "cell_type": "markdown",
   "metadata": {},
   "source": [
    "Также можно использовать генераторы списков:"
   ]
  },
  {
   "cell_type": "code",
   "execution_count": null,
   "metadata": {},
   "outputs": [
    {
     "data": {
      "text/plain": [
       "['LLL', 'aaa', 'mmm', 'bbb', 'ddd', 'aaa']"
      ]
     },
     "metadata": {},
     "output_type": "display_data"
    }
   ],
   "source": [
    "a = ['L', 'a', 'm', 'b', 'd', 'a']\n",
    "b = [i * 3 for i in a]\n",
    "b"
   ]
  },
  {
   "cell_type": "markdown",
   "metadata": {},
   "source": [
    "Количество элементов в списке можно узнать с помощью функции `len()`:"
   ]
  },
  {
   "cell_type": "code",
   "execution_count": 5,
   "metadata": {},
   "outputs": [
    {
     "name": "stdout",
     "output_type": "stream",
     "text": [
      "len(a)=6\n",
      "len(b)=7\n"
     ]
    }
   ],
   "source": [
    "a = ['L', 'a', 'm', 'b', 'd', 'a']\n",
    "b = ['L', 'a', 'm', 'b', 'd', 'a', ['L', 'a', 'm', 'b', 'd', 'a']]\n",
    "print(f\"len(a)={len(a)}\")\n",
    "print(f\"len(b)={len(b)}\")"
   ]
  },
  {
   "cell_type": "markdown",
   "metadata": {},
   "source": [
    "Генераторы списков позволяют создавать и заполнять списки. Генератор списков предполагает наличие итерируемого объекта или итератора, на основании которого будет создаваться новый список, а также выражения, которое будет производить манипуляции с извлеченными из последовательности элементами перед тем как добавить их в формируемый список. "
   ]
  },
  {
   "cell_type": "markdown",
   "metadata": {},
   "source": [
    "В списках, можно обратиться к элементу через индекс, например, `s[2]` или `s[3]`:"
   ]
  },
  {
   "cell_type": "code",
   "execution_count": 6,
   "metadata": {},
   "outputs": [
    {
     "name": "stdout",
     "output_type": "stream",
     "text": [
      "m b\n"
     ]
    }
   ],
   "source": [
    "s = ['L', 'a', 'm', 'b', 'd', 'a']\n",
    "print(s[2], s[3])"
   ]
  },
  {
   "cell_type": "markdown",
   "metadata": {},
   "source": [
    "## Методы для работы со списками\n",
    "\n",
    "Методы списков вызываются по схеме: `list.method()`. Ниже будут перечислены полезные методы для работы со списками:\n",
    "\n",
    "- `append(a)` - добавляет элемент a в конец списка\n"
   ]
  },
  {
   "cell_type": "code",
   "execution_count": null,
   "metadata": {},
   "outputs": [
    {
     "name": "stdout",
     "output_type": "stream",
     "text": [
      "['L', 'a', 'm', 'b', 'd', 'a']\n"
     ]
    }
   ],
   "source": [
    "var = ['L', 'a', 'm', 'b', 'd']\n",
    "var.append('a')\n",
    "print(var)"
   ]
  },
  {
   "cell_type": "markdown",
   "metadata": {},
   "source": [
    "- `extend(L)` - расширяет список, добавляя к концу все элементы списка `L`"
   ]
  },
  {
   "cell_type": "code",
   "execution_count": null,
   "metadata": {},
   "outputs": [
    {
     "name": "stdout",
     "output_type": "stream",
     "text": [
      "['L', 'a', 'm', 'b', 'd', 'a', 'L', 'a', 'm', 'b', 'd', 'a']\n"
     ]
    }
   ],
   "source": [
    "var = ['L', 'a', 'm', 'b', 'd', 'a']\n",
    "var.extend(['L', 'a', 'm', 'b', 'd', 'a'])\n",
    "print(var)"
   ]
  },
  {
   "cell_type": "markdown",
   "metadata": {},
   "source": [
    "- `insert(i, a)` - вставляет на `i` позицию элемент `a`"
   ]
  },
  {
   "cell_type": "code",
   "execution_count": null,
   "metadata": {},
   "outputs": [
    {
     "name": "stdout",
     "output_type": "stream",
     "text": [
      "['L', 'a', 'm', 'b', 'd', 'a']\n"
     ]
    }
   ],
   "source": [
    "var = ['L', 'a',  'b', 'd', 'a']\n",
    "var.insert(2,'m')\n",
    "print(var)"
   ]
  },
  {
   "cell_type": "markdown",
   "metadata": {},
   "source": [
    "- `remove(a)` - удаляет первое найденное значение элемента в списке со значением `a`, возвращает ошибку, если такого элемента не существует\n"
   ]
  },
  {
   "cell_type": "code",
   "execution_count": null,
   "metadata": {},
   "outputs": [
    {
     "name": "stdout",
     "output_type": "stream",
     "text": [
      "['L', 'm', 'b', 'd', 'a']\n"
     ]
    }
   ],
   "source": [
    "var = ['L', 'a', 'm', 'b', 'd', 'a']\n",
    "var.remove('a')\n",
    "print(var)"
   ]
  },
  {
   "cell_type": "markdown",
   "metadata": {},
   "source": [
    "- `pop(i)` - удаляет `i`-ый элемент и возвращает его, если индекс не указан, удаляет последний элемент"
   ]
  },
  {
   "cell_type": "code",
   "execution_count": 8,
   "metadata": {},
   "outputs": [
    {
     "name": "stdout",
     "output_type": "stream",
     "text": [
      "deleted_el: L\n",
      "var: ['a', 'm', 'b', 'd', 'a']\n"
     ]
    }
   ],
   "source": [
    "var = ['L', 'a', 'm', 'b', 'd', 'a']\n",
    "deleted_el = var.pop(0)\n",
    "\n",
    "print(f\"deleted_el: {deleted_el}\")\n",
    "print(f\"var: {var}\")"
   ]
  },
  {
   "cell_type": "markdown",
   "metadata": {},
   "source": [
    "- `index(a)` возвращает индекс элемента `a` (индексация начинается с `0`)"
   ]
  },
  {
   "cell_type": "code",
   "execution_count": 9,
   "metadata": {},
   "outputs": [
    {
     "name": "stdout",
     "output_type": "stream",
     "text": [
      "0\n"
     ]
    }
   ],
   "source": [
    "var = ['L', 'a', 'm', 'b', 'd', 'a']\n",
    "el_index = var.index('L')\n",
    "print(el_index)"
   ]
  },
  {
   "cell_type": "markdown",
   "metadata": {},
   "source": [
    "- `count(a)` - возвращает количество элементов со значением `a`"
   ]
  },
  {
   "cell_type": "code",
   "execution_count": 10,
   "metadata": {},
   "outputs": [
    {
     "name": "stdout",
     "output_type": "stream",
     "text": [
      "2\n"
     ]
    }
   ],
   "source": [
    "var = ['L', 'a', 'm', 'b', 'd', 'a']\n",
    "number_of_a = var.count('a')\n",
    "print(number_of_a)"
   ]
  },
  {
   "cell_type": "markdown",
   "metadata": {},
   "source": [
    "- `sort([key = функция])` - сортирует список на основе функции, можно не прописывать функцию, тогда сортировка будет происходить по встроенному алгоритму"
   ]
  },
  {
   "cell_type": "code",
   "execution_count": null,
   "metadata": {},
   "outputs": [
    {
     "name": "stdout",
     "output_type": "stream",
     "text": [
      "['L', 'a', 'a', 'b', 'd', 'm']\n"
     ]
    }
   ],
   "source": [
    "var = ['L', 'a', 'm', 'b', 'd', 'a']\n",
    "var.sort()\n",
    "print(var)"
   ]
  },
  {
   "cell_type": "code",
   "execution_count": 13,
   "metadata": {},
   "outputs": [
    {
     "name": "stdout",
     "output_type": "stream",
     "text": [
      "Sorted cars: ['VW', 'BMW', 'Ford', 'Mitsubishi']\n"
     ]
    }
   ],
   "source": [
    "def len_of_el(e):\n",
    "  return len(e)\n",
    "\n",
    "\n",
    "cars = ['Ford', 'Mitsubishi', 'BMW', 'VW']\n",
    "\n",
    "cars.sort(key=len_of_el)\n",
    "\n",
    "print(f\"Sorted cars: {cars}\")"
   ]
  },
  {
   "cell_type": "markdown",
   "metadata": {},
   "source": [
    "- `reverse()` - разворачивает список"
   ]
  },
  {
   "cell_type": "code",
   "execution_count": null,
   "metadata": {},
   "outputs": [
    {
     "name": "stdout",
     "output_type": "stream",
     "text": [
      "['a', 'd', 'b', 'm', 'a', 'L']\n"
     ]
    }
   ],
   "source": [
    "var = ['L', 'a', 'm', 'b', 'd', 'a']\n",
    "var.reverse()\n",
    "print(var)"
   ]
  },
  {
   "cell_type": "code",
   "execution_count": 14,
   "metadata": {},
   "outputs": [
    {
     "name": "stdout",
     "output_type": "stream",
     "text": [
      "Sorted cars: ['Mitsubishi', 'Ford', 'BMW', 'VW']\n"
     ]
    }
   ],
   "source": [
    "def len_of_el(e):\n",
    "  return len(e)\n",
    "\n",
    "\n",
    "cars = ['Ford', 'Mitsubishi', 'BMW', 'VW']\n",
    "\n",
    "cars.sort(reverse=True, key=len_of_el)\n",
    "\n",
    "print(f\"Sorted cars: {cars}\")"
   ]
  },
  {
   "cell_type": "markdown",
   "metadata": {},
   "source": [
    "- `copy()` - поверхностная копия списка, при присвоении переменной копии списка, значение данного списка не изменяется в случае изменения первого. Если переменной присвоить список через `\"=\"`, тогда значение этой переменной будет меняться при изменении оригинала\n"
   ]
  },
  {
   "cell_type": "code",
   "execution_count": null,
   "metadata": {},
   "outputs": [
    {
     "name": "stdout",
     "output_type": "stream",
     "text": [
      "['L', 'a', 'm', 'b', 'd', 'a']\n"
     ]
    }
   ],
   "source": [
    "var = ['L', 'a', 'm', 'b', 'd', 'a']\n",
    "asd = var.copy()\n",
    "print(asd)"
   ]
  },
  {
   "cell_type": "code",
   "execution_count": null,
   "metadata": {},
   "outputs": [
    {
     "name": "stdout",
     "output_type": "stream",
     "text": [
      "['L', 'a', 'm', 'b', 'd', 'a']\n",
      "['L', 'a', 'm', 'b', 'd', 'a']\n"
     ]
    }
   ],
   "source": [
    "var = ['L', 'a', 'm', 'b', 'd', 'a']\n",
    "asd = var\n",
    "print(asd)\n",
    "print(var)"
   ]
  },
  {
   "cell_type": "code",
   "execution_count": null,
   "metadata": {},
   "outputs": [
    {
     "name": "stdout",
     "output_type": "stream",
     "text": [
      "['a', 'd', 'b', 'm', 'a', 'L']\n",
      "['a', 'd', 'b', 'm', 'a', 'L']\n"
     ]
    }
   ],
   "source": [
    "var.reverse()\n",
    "print(asd)\n",
    "print(var)"
   ]
  },
  {
   "cell_type": "code",
   "execution_count": null,
   "metadata": {},
   "outputs": [
    {
     "name": "stdout",
     "output_type": "stream",
     "text": [
      "['L', 'a', 'm', 'b', 'd', 'a']\n"
     ]
    }
   ],
   "source": [
    "var = ['L', 'a', 'm', 'b', 'd', 'a']\n",
    "asd = var.copy()\n",
    "print(asd)"
   ]
  },
  {
   "cell_type": "code",
   "execution_count": null,
   "metadata": {},
   "outputs": [
    {
     "name": "stdout",
     "output_type": "stream",
     "text": [
      "['L', 'a', 'm', 'b', 'd', 'a']\n"
     ]
    }
   ],
   "source": [
    "print(var)"
   ]
  },
  {
   "cell_type": "code",
   "execution_count": null,
   "metadata": {},
   "outputs": [],
   "source": [
    "var.reverse()"
   ]
  },
  {
   "cell_type": "code",
   "execution_count": null,
   "metadata": {},
   "outputs": [
    {
     "name": "stdout",
     "output_type": "stream",
     "text": [
      "['L', 'a', 'm', 'b', 'd', 'a']\n",
      "['a', 'd', 'b', 'm', 'a', 'L']\n"
     ]
    }
   ],
   "source": [
    "print(asd)\n",
    "print(var)"
   ]
  },
  {
   "cell_type": "markdown",
   "metadata": {},
   "source": [
    "- `clear()` - очищает список"
   ]
  },
  {
   "cell_type": "code",
   "execution_count": null,
   "metadata": {},
   "outputs": [
    {
     "name": "stdout",
     "output_type": "stream",
     "text": [
      "[]\n"
     ]
    }
   ],
   "source": [
    "var = ['L', 'a', 'm', 'b', 'd', 'a']\n",
    "var.clear()\n",
    "print(var)"
   ]
  },
  {
   "cell_type": "markdown",
   "metadata": {},
   "source": [
    "## Срезы (slice) списка"
   ]
  },
  {
   "cell_type": "markdown",
   "metadata": {},
   "source": [
    "Срезы позволяют получить некое подмножество значений. Следующий код вернёт список с элементами, начиная индексом 0 и не включая при этом индекс 2 и выше:"
   ]
  },
  {
   "cell_type": "code",
   "execution_count": 15,
   "metadata": {},
   "outputs": [
    {
     "name": "stdout",
     "output_type": "stream",
     "text": [
      "[1, 5]\n"
     ]
    }
   ],
   "source": [
    "numbers = [1, 5, 9, 6, 11, 8, 7]\n",
    "print(numbers[0:2])"
   ]
  },
  {
   "cell_type": "markdown",
   "metadata": {},
   "source": [
    "Далее выведем всё, до элемента на позиции 3:"
   ]
  },
  {
   "cell_type": "code",
   "execution_count": 16,
   "metadata": {},
   "outputs": [
    {
     "name": "stdout",
     "output_type": "stream",
     "text": [
      "[1, 5, 9]\n"
     ]
    }
   ],
   "source": [
    "print(numbers[:3])"
   ]
  },
  {
   "cell_type": "markdown",
   "metadata": {},
   "source": [
    "А теперь начиная с индекса 1 и до конца:"
   ]
  },
  {
   "cell_type": "code",
   "execution_count": 17,
   "metadata": {},
   "outputs": [
    {
     "name": "stdout",
     "output_type": "stream",
     "text": [
      "[5, 9, 6, 11, 8, 7]\n"
     ]
    }
   ],
   "source": [
    "print(numbers[1:])"
   ]
  },
  {
   "cell_type": "markdown",
   "metadata": {},
   "source": [
    "## Операции над списками Python\n",
    "- ```x in l``` — ```true```, если элемент ```x``` есть в списке ```l```;\n",
    "- ```x not in l``` — ```true```, если элемент ```x``` отсутствует в ```l```;\n",
    "- ```l1 + l2``` — объединение двух списков;\n",
    "- ```l * n , n * l``` — копирует список ```n``` раз;\n",
    "- ```len(l)``` — количество элементов в ```l```;\n",
    "- ```min(l)``` — наименьший элемент;\n",
    "- ```max(l)``` — наибольший элемент;\n",
    "- ```sum(l)``` — сумма чисел списка;\n",
    "- ```for i in list()``` — перебирает элементы слева направо.\n"
   ]
  },
  {
   "cell_type": "code",
   "execution_count": 18,
   "metadata": {},
   "outputs": [
    {
     "name": "stdout",
     "output_type": "stream",
     "text": [
      "Список содержит число 1\n"
     ]
    }
   ],
   "source": [
    "numbers = [1, 5, 9, 6, 11, 8, 7]\n",
    "\n",
    "if 1 in numbers:\n",
    "    print('Список содержит число 1')\n",
    "else:\n",
    "    print('Список не содержит число 1')\n",
    "    "
   ]
  },
  {
   "cell_type": "code",
   "execution_count": 19,
   "metadata": {},
   "outputs": [
    {
     "name": "stdout",
     "output_type": "stream",
     "text": [
      "Список содержит число 1\n"
     ]
    }
   ],
   "source": [
    "numbers = [1, 5, 9, 6, 11, 8, 7]\n",
    "\n",
    "if 1 not in numbers:\n",
    "    print('Список не содержит число 1')\n",
    "else:\n",
    "    print('Список содержит число 1')\n",
    "    "
   ]
  },
  {
   "cell_type": "code",
   "execution_count": 23,
   "metadata": {},
   "outputs": [
    {
     "name": "stdout",
     "output_type": "stream",
     "text": [
      "[1, 5, 9, 6, 11, 8, 7, 'str1', ['str2', 'str3']]\n"
     ]
    }
   ],
   "source": [
    "numbers = [1, 5, 9, 6, 11, 8, 7]\n",
    "strings = ['str1', ['str2', 'str3']]\n",
    "\n",
    "print(numbers + strings)"
   ]
  },
  {
   "cell_type": "code",
   "execution_count": 26,
   "metadata": {},
   "outputs": [
    {
     "name": "stdout",
     "output_type": "stream",
     "text": [
      "['1', '5', '1', '5', '1', '5']\n",
      "['1', '5', '1', '5', '1', '5']\n"
     ]
    }
   ],
   "source": [
    "numbers = ['1', '5']\n",
    "\n",
    "print(numbers * 3)\n",
    "print(3 * numbers)\n"
   ]
  },
  {
   "cell_type": "code",
   "execution_count": 27,
   "metadata": {},
   "outputs": [
    {
     "name": "stdout",
     "output_type": "stream",
     "text": [
      "1 5 9 6 11 8 7 "
     ]
    }
   ],
   "source": [
    "numbers = [1, 5, 9, 6, 11, 8, 7]\n",
    "\n",
    "for i in range(len(numbers)):\n",
    "    print(numbers[i], end=' ')"
   ]
  },
  {
   "cell_type": "code",
   "execution_count": 28,
   "metadata": {},
   "outputs": [
    {
     "name": "stdout",
     "output_type": "stream",
     "text": [
      "min = 1\n",
      "max = 11\n"
     ]
    }
   ],
   "source": [
    "numbers = [1, 5, 9, 6, 11, 8, 7]\n",
    "\n",
    "print(f\"min = {min(numbers)}\")\n",
    "print(f\"max = {max(numbers)}\")"
   ]
  },
  {
   "cell_type": "markdown",
   "metadata": {},
   "source": [
    "## Реализуем умножение матриц"
   ]
  },
  {
   "cell_type": "code",
   "execution_count": 9,
   "metadata": {},
   "outputs": [
    {
     "name": "stdout",
     "output_type": "stream",
     "text": [
      "Result: \n",
      "|\t5\t4\t|\n",
      "\n",
      "|\t11\t8\t|\n",
      "\n"
     ]
    }
   ],
   "source": [
    "def matmult(m1, m2):\n",
    "    tmp = []\n",
    "    result_matrix = []\n",
    "    for i in range(len(m1)):\n",
    "        for j in range(len(m2[0])):\n",
    "            sums=0\n",
    "            for k in range(len(m2)):\n",
    "                sums=sums+(m1[i][k]*m2[k][j])\n",
    "            tmp.append(sums)\n",
    "        result_matrix.append(tmp)\n",
    "        tmp = []\n",
    "    return result_matrix\n",
    "\n",
    "def show_matrix(matrix):\n",
    "    for row in matrix:\n",
    "        print(\"|\", end=\"\\t\")\n",
    "        for el in row:\n",
    "            print(round(el), end=\"\\t\")\n",
    "        print(\"|\\n\")\n",
    "            \n",
    "\n",
    "\n",
    "A = [[1, 2], [3, 2]]\n",
    "B = [[3, 2], [1, 1]]\n",
    "\n",
    "\n",
    "C = [\n",
    "  [2, 5],\n",
    "  [6, 7],\n",
    "  [1, 8],\n",
    "]\n",
    "\n",
    "\n",
    "D = [\n",
    "  [1, 2, 1],\n",
    "  [0, 1, 0],\n",
    "]\n",
    "\n",
    "\n",
    "    \n",
    "print(\"Result: \")\n",
    "show_matrix(matmult(A, B))"
   ]
  }
 ],
 "metadata": {
  "kernelspec": {
   "display_name": "Python 3.10.4 64-bit",
   "language": "python",
   "name": "python3"
  },
  "language_info": {
   "codemirror_mode": {
    "name": "ipython",
    "version": 3
   },
   "file_extension": ".py",
   "mimetype": "text/x-python",
   "name": "python",
   "nbconvert_exporter": "python",
   "pygments_lexer": "ipython3",
   "version": "3.10.4"
  },
  "vscode": {
   "interpreter": {
    "hash": "916dbcbb3f70747c44a77c7bcd40155683ae19c65e1c03b4aa3499c5328201f1"
   }
  }
 },
 "nbformat": 4,
 "nbformat_minor": 4
}
