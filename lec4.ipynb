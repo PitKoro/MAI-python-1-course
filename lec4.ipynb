{
 "cells": [
  {
   "cell_type": "markdown",
   "metadata": {},
   "source": [
    "  # Лекция 4\n"
   ]
  },
  {
   "cell_type": "markdown",
   "metadata": {},
   "source": [
    "## Строки\n",
    "Строки это упорядоченные последовательности символов, для работы с текстовой информацией. Чтобы присвоить переменной строковое значение, достаточно приравнять выражение в кавычках."
   ]
  },
  {
   "cell_type": "code",
   "execution_count": 1,
   "metadata": {},
   "outputs": [],
   "source": [
    "s = 'ain\"t it fun?'\n",
    "s = \"ain't it fun?\""
   ]
  },
  {
   "cell_type": "markdown",
   "metadata": {},
   "source": [
    "Как говорилось ранее, разницы между одинарными и двойными кавычками нет, они были введены для того, чтобы можно было не экранировать кавычки внутри предложения, как показано на примере выше. То есть, если бы мы в первом варианте с одинарными кавычками в слове ant\"t применили также одинарную кавычку, тогда бы мы получили сообщение об ошибке, потому что наша строка состояла бы только из символов 'ain', остальной текст не был бы воспринят как часть строки, и в конце стояла бы одинокая открывающая кавычка. Но и этого можно избежать применив экранирование, или другими словами - отмену действия прямого назначения символа:"
   ]
  },
  {
   "cell_type": "code",
   "execution_count": 2,
   "metadata": {},
   "outputs": [],
   "source": [
    "s = 'ain\\'t it fun?'"
   ]
  },
  {
   "cell_type": "markdown",
   "metadata": {},
   "source": [
    "В данном случае символ ```\\``` отменяет действие кавычки, то есть она не закрывает строку, а воспринимается как часть выражения и заканчивается оно в самом конце, однако не всегда такой вид удобочитаем.\n",
    "\n",
    "Существуют различные экранированные последовательности, которые позволяют вставить символы, которые трудно ввести с клавиатуры, приведем пример одной из таких последовательностей:\n",
    "\n",
    "- ```\\n``` - перевод строки\n",
    "- ```\\t``` - добавляет табуляцию (4 пробела)\n",
    "- ```\\\"``` - позволяет добавить внутрь строки двойную кавычку"
   ]
  },
  {
   "cell_type": "code",
   "execution_count": 3,
   "metadata": {},
   "outputs": [
    {
     "name": "stdout",
     "output_type": "stream",
     "text": [
      "ain\"t \n",
      "it \n",
      "fun?\n"
     ]
    }
   ],
   "source": [
    "s = 'ain\"t \\nit \\nfun?'\n",
    "print(s)"
   ]
  },
  {
   "cell_type": "markdown",
   "id": "1c41ee44",
   "metadata": {},
   "source": [
    "## Операции со строками\n",
    "\n",
    "Строки можно складывать:"
   ]
  },
  {
   "cell_type": "code",
   "execution_count": null,
   "id": "be138116",
   "metadata": {},
   "outputs": [
    {
     "name": "stdout",
     "output_type": "stream",
     "text": [
      "Lambda is awesome!\n"
     ]
    }
   ],
   "source": [
    "s_1 = 'Lambda'\n",
    "s_2 = ' '\n",
    "s_3 = 'is awesome!'\n",
    "print(s_1 + s_2 + s_3)"
   ]
  },
  {
   "cell_type": "markdown",
   "id": "d20ffd69",
   "metadata": {},
   "source": [
    "Или дублировать:"
   ]
  },
  {
   "cell_type": "code",
   "execution_count": 16,
   "id": "97ddd11f",
   "metadata": {},
   "outputs": [
    {
     "name": "stdout",
     "output_type": "stream",
     "text": [
      "LambdaLambdaLambda\n"
     ]
    }
   ],
   "source": [
    "print('Lambda' * 3)"
   ]
  },
  {
   "cell_type": "markdown",
   "id": "69a16f93",
   "metadata": {},
   "source": [
    "С помощью метода `len()` можно узнать количество символов в строке:"
   ]
  },
  {
   "cell_type": "code",
   "execution_count": 17,
   "id": "13e52f12",
   "metadata": {},
   "outputs": [
    {
     "data": {
      "text/plain": [
       "6"
      ]
     },
     "execution_count": 17,
     "metadata": {},
     "output_type": "execute_result"
    }
   ],
   "source": [
    "len('Lambda')"
   ]
  },
  {
   "cell_type": "markdown",
   "id": "2c4ad32e",
   "metadata": {},
   "source": [
    "Можно обращаться к элементам по их индексу **(индексация ведется ОТ НУЛЯ)**:"
   ]
  },
  {
   "cell_type": "code",
   "execution_count": 18,
   "id": "64a03971",
   "metadata": {},
   "outputs": [
    {
     "name": "stdout",
     "output_type": "stream",
     "text": [
      "L\n",
      "a\n"
     ]
    }
   ],
   "source": [
    "s = 'Lambda'\n",
    "print(s[0])\n",
    "print(s[5])"
   ]
  },
  {
   "cell_type": "markdown",
   "id": "5ff3dae2",
   "metadata": {},
   "source": [
    "По индексу можно извлекать несколько символов, тогда это будет называться срез:"
   ]
  },
  {
   "cell_type": "code",
   "execution_count": null,
   "id": "28e5ff09",
   "metadata": {},
   "outputs": [
    {
     "name": "stdout",
     "output_type": "stream",
     "text": [
      "a\n",
      "Lambda\n",
      "Lam\n",
      "Lambda\n"
     ]
    }
   ],
   "source": [
    "s = 'Lambda'\n",
    "print(s[1:2])\n",
    "print(s[0:])\n",
    "print(s[:3])\n",
    "print(s[:])"
   ]
  },
  {
   "cell_type": "markdown",
   "id": "62553a26",
   "metadata": {},
   "source": [
    "Методов работы со строками довольно много, мы рассмотрим часть наиболее популярных:\n",
    "\n",
    "- `find(str, [start],[end])` - Поиск подстроки в строке. Возвращает номер первого вхождения или -1"
   ]
  },
  {
   "cell_type": "code",
   "execution_count": null,
   "id": "f402dd61",
   "metadata": {},
   "outputs": [
    {
     "data": {
      "text/plain": [
       "1"
      ]
     },
     "metadata": {},
     "output_type": "display_data"
    }
   ],
   "source": [
    "s = 'LambdaPython'\n",
    "s.find('a')"
   ]
  },
  {
   "cell_type": "markdown",
   "id": "bf356e3b",
   "metadata": {},
   "source": [
    "- `rfind(str, [start],[end])` - Поиск подстроки в строке. Возвращает номер последнего вхождения или -1"
   ]
  },
  {
   "cell_type": "code",
   "execution_count": 5,
   "id": "65cdd896",
   "metadata": {},
   "outputs": [
    {
     "data": {
      "text/plain": [
       "8"
      ]
     },
     "execution_count": 5,
     "metadata": {},
     "output_type": "execute_result"
    }
   ],
   "source": [
    "s = 'LambdaPython'\n",
    "s.rfind('t')"
   ]
  },
  {
   "cell_type": "markdown",
   "id": "4bf1f306",
   "metadata": {},
   "source": [
    "- `index(str, [start],[end])` - Поиск подстроки в строке. Возвращает номер первого вхождения или вызывает `ValueError`\n"
   ]
  },
  {
   "cell_type": "code",
   "execution_count": null,
   "id": "fdd46b2f",
   "metadata": {},
   "outputs": [
    {
     "data": {
      "text/plain": [
       "2"
      ]
     },
     "metadata": {},
     "output_type": "display_data"
    }
   ],
   "source": [
    "s = 'LambdaPython'\n",
    "s.index('m')"
   ]
  },
  {
   "cell_type": "markdown",
   "id": "83780250",
   "metadata": {},
   "source": [
    "- `rindex(str, [start],[end])` - Поиск подстроки в строке. Возвращает номер последнего вхождения или вызывает ValueError\n"
   ]
  },
  {
   "cell_type": "code",
   "execution_count": null,
   "id": "acac3fbc",
   "metadata": {},
   "outputs": [
    {
     "data": {
      "text/plain": [
       "0"
      ]
     },
     "metadata": {},
     "output_type": "display_data"
    }
   ],
   "source": [
    "s = 'LambdaPython'\n",
    "s.rindex('L')"
   ]
  },
  {
   "cell_type": "markdown",
   "id": "e0f91995",
   "metadata": {},
   "source": [
    "- `replace(шаблон, замена)` - Замена шаблона"
   ]
  },
  {
   "cell_type": "code",
   "execution_count": 6,
   "id": "d4edf3a1",
   "metadata": {},
   "outputs": [
    {
     "data": {
      "text/plain": [
       "'LambdaSuper'"
      ]
     },
     "execution_count": 6,
     "metadata": {},
     "output_type": "execute_result"
    }
   ],
   "source": [
    "s = 'LambdaPython'\n",
    "s.replace('Python', 'Super')"
   ]
  },
  {
   "cell_type": "markdown",
   "id": "3b7cd011",
   "metadata": {},
   "source": [
    "- `split(символ)` - Разбиение строки по разделителю"
   ]
  },
  {
   "cell_type": "code",
   "execution_count": null,
   "id": "720b6ccd",
   "metadata": {},
   "outputs": [
    {
     "data": {
      "text/plain": [
       "['L', 'mbd', 'Python']"
      ]
     },
     "metadata": {},
     "output_type": "display_data"
    }
   ],
   "source": [
    "s = 'LambdaPython'\n",
    "s.split('a')"
   ]
  },
  {
   "cell_type": "markdown",
   "id": "39ab5fcd",
   "metadata": {},
   "source": [
    "- `isdigit()` - Состоит ли строка из цифр"
   ]
  },
  {
   "cell_type": "code",
   "execution_count": null,
   "id": "415e4fe8",
   "metadata": {},
   "outputs": [
    {
     "name": "stdout",
     "output_type": "stream",
     "text": [
      "True\n",
      "False\n"
     ]
    }
   ],
   "source": [
    "s = '123'\n",
    "print(s.isdigit())\n",
    "s = 'LambdaPython'\n",
    "print(s.isdigit())"
   ]
  },
  {
   "cell_type": "markdown",
   "id": "63166e59",
   "metadata": {},
   "source": [
    "- `isalpha()` - Состоит ли строка из букв"
   ]
  },
  {
   "cell_type": "code",
   "execution_count": null,
   "id": "b382f9db",
   "metadata": {},
   "outputs": [
    {
     "name": "stdout",
     "output_type": "stream",
     "text": [
      "False\n",
      "True\n"
     ]
    }
   ],
   "source": [
    "s = '123'\n",
    "print(s.isalpha())\n",
    "s = 'LambdaPython'\n",
    "print(s.isalpha())"
   ]
  },
  {
   "cell_type": "markdown",
   "id": "96b269a9",
   "metadata": {},
   "source": [
    "- `isalnum()` - Состоит ли строка из цифр или букв"
   ]
  },
  {
   "cell_type": "code",
   "execution_count": null,
   "id": "0b2e9a36",
   "metadata": {},
   "outputs": [
    {
     "name": "stdout",
     "output_type": "stream",
     "text": [
      "False\n",
      "True\n"
     ]
    }
   ],
   "source": [
    "s = '123&a'\n",
    "print(s.isalnum())\n",
    "s = 'LambdaPython1'\n",
    "print(s.isalnum())"
   ]
  },
  {
   "cell_type": "markdown",
   "id": "980140ec",
   "metadata": {},
   "source": [
    "- `islower()` - Состоит ли строка из символов в нижнем регистре"
   ]
  },
  {
   "cell_type": "code",
   "execution_count": null,
   "id": "e4dc16ac",
   "metadata": {},
   "outputs": [
    {
     "name": "stdout",
     "output_type": "stream",
     "text": [
      "True\n",
      "False\n"
     ]
    }
   ],
   "source": [
    "s = '123&a'\n",
    "print(s.islower())\n",
    "s = 'LambdaPython1'\n",
    "print(s.islower())"
   ]
  },
  {
   "cell_type": "markdown",
   "id": "899fe330",
   "metadata": {},
   "source": [
    "- `isupper()` - Состоит ли строка из символов в верхнем регистре"
   ]
  },
  {
   "cell_type": "code",
   "execution_count": null,
   "id": "d13c33ce",
   "metadata": {},
   "outputs": [
    {
     "name": "stdout",
     "output_type": "stream",
     "text": [
      "False\n",
      "False\n",
      "True\n"
     ]
    }
   ],
   "source": [
    "s = '123&a'\n",
    "print(s.isupper())\n",
    "s = 'LambdaPython'\n",
    "print(s.isupper())\n",
    "s = 'LAMBDA'\n",
    "print(s.isupper())"
   ]
  },
  {
   "cell_type": "markdown",
   "id": "372de7c6",
   "metadata": {},
   "source": [
    "- `istitle()` - Начинаются ли слова в строке с заглавной буквы"
   ]
  },
  {
   "cell_type": "code",
   "execution_count": null,
   "id": "2e38da00",
   "metadata": {},
   "outputs": [
    {
     "name": "stdout",
     "output_type": "stream",
     "text": [
      "True\n",
      "False\n"
     ]
    }
   ],
   "source": [
    "s = 'Lambda'\n",
    "print(s.istitle())\n",
    "s = 'LambdaPython'\n",
    "print(s.istitle())"
   ]
  },
  {
   "cell_type": "markdown",
   "id": "102e41eb",
   "metadata": {},
   "source": [
    "- `upper()` - Преобразование строки к верхнему регистру"
   ]
  },
  {
   "cell_type": "code",
   "execution_count": null,
   "id": "38896e7e",
   "metadata": {},
   "outputs": [
    {
     "name": "stdout",
     "output_type": "stream",
     "text": [
      "LAMBDA\n"
     ]
    }
   ],
   "source": [
    "s = 'Lambda'\n",
    "print(s.upper())"
   ]
  },
  {
   "cell_type": "markdown",
   "id": "85979fde",
   "metadata": {},
   "source": [
    "- `lower()` - Преобразование строки к нижнему регистру"
   ]
  },
  {
   "cell_type": "code",
   "execution_count": null,
   "id": "c12c438b",
   "metadata": {},
   "outputs": [
    {
     "name": "stdout",
     "output_type": "stream",
     "text": [
      "lambda\n"
     ]
    }
   ],
   "source": [
    "s = 'LambdA'\n",
    "print(s.lower())"
   ]
  },
  {
   "cell_type": "code",
   "execution_count": 30,
   "metadata": {},
   "outputs": [
    {
     "name": "stdout",
     "output_type": "stream",
     "text": [
      "False\n",
      "True\n"
     ]
    }
   ],
   "source": [
    "str1 = \"Tom\"\n",
    "str2 = \"tom\"\n",
    "print(str1 == str2)  # False - строки не равны\n",
    " \n",
    "print(str1.lower() == str2.lower())  # True"
   ]
  },
  {
   "cell_type": "markdown",
   "id": "155fe2b6",
   "metadata": {},
   "source": [
    "- `startswith(str)` - Начинается ли строка S с шаблона str"
   ]
  },
  {
   "cell_type": "code",
   "execution_count": null,
   "id": "353e1605",
   "metadata": {},
   "outputs": [
    {
     "name": "stdout",
     "output_type": "stream",
     "text": [
      "True\n"
     ]
    }
   ],
   "source": [
    "s = 'LambdA'\n",
    "print(s.startswith('L'))"
   ]
  },
  {
   "cell_type": "markdown",
   "id": "425dfaef",
   "metadata": {},
   "source": [
    "- `endswith(str)` - Заканчивается ли строка S шаблоном str"
   ]
  },
  {
   "cell_type": "code",
   "execution_count": null,
   "id": "115d4f10",
   "metadata": {},
   "outputs": [
    {
     "name": "stdout",
     "output_type": "stream",
     "text": [
      "True\n"
     ]
    }
   ],
   "source": [
    "s = 'Lambda'\n",
    "print(s.endswith('a'))"
   ]
  },
  {
   "cell_type": "markdown",
   "id": "debd5ea2",
   "metadata": {},
   "source": [
    "- `join(список)` - Сборка строки из списка с разделителем S"
   ]
  },
  {
   "cell_type": "code",
   "execution_count": null,
   "id": "ed736d4f",
   "metadata": {},
   "outputs": [
    {
     "data": {
      "text/plain": [
       "'aLambdabLambdac'"
      ]
     },
     "metadata": {},
     "output_type": "display_data"
    }
   ],
   "source": [
    "s = 'Lambda'\n",
    "s.join(['a','b','c'])"
   ]
  },
  {
   "cell_type": "code",
   "execution_count": 6,
   "metadata": {},
   "outputs": [
    {
     "data": {
      "text/plain": [
       "'Lambda'"
      ]
     },
     "execution_count": 6,
     "metadata": {},
     "output_type": "execute_result"
    }
   ],
   "source": [
    "s = '    Lambda\\n\\n\\n'\n",
    "s.strip()"
   ]
  },
  {
   "cell_type": "markdown",
   "metadata": {},
   "source": [
    "### Перебор строки\n",
    "С помощью цикла for можно перебрать все символы строки:"
   ]
  },
  {
   "cell_type": "code",
   "execution_count": 7,
   "metadata": {},
   "outputs": [
    {
     "name": "stdout",
     "output_type": "stream",
     "text": [
      "h\n",
      "e\n",
      "l\n",
      "l\n",
      "o\n",
      " \n",
      "w\n",
      "o\n",
      "r\n",
      "l\n",
      "d\n"
     ]
    }
   ],
   "source": [
    "string = \"hello world\"\n",
    "for char in string:\n",
    "    print(char)"
   ]
  },
  {
   "cell_type": "markdown",
   "id": "727addf0",
   "metadata": {},
   "source": [
    "# Работа с файлами\n",
    "\n",
    "#### Описание\n",
    "\n",
    "Python позволяет работать с файлами. В качестве примера будем работать с текстовым файлом. \n",
    "Прежде чем начать работать с файлом необходимо его открыть, для этого есть метод `open():`"
   ]
  },
  {
   "cell_type": "code",
   "execution_count": null,
   "id": "0153be12",
   "metadata": {},
   "outputs": [],
   "source": [
    "f = open('test.txt', 'r')"
   ]
  },
  {
   "cell_type": "markdown",
   "id": "e50a6858",
   "metadata": {},
   "source": [
    "Мы присваиваем переменной `f` результат выполнения команды открытия файла, параметры этой команды - адрес файла, путь до места где он расположен на компьютере с названием файла(test) и его расширением(.txt), говорящим что он текстовый. Второй параметр `'r'` означает, что файл открыт для чтения, то есть мы не сможем вносить изменения в этот файл до тех пор, пока он открыт только для чтения.\n",
    "\n",
    "\n",
    "У метода `open()` существует много аргументов:\n",
    "\n",
    "- `'r'` - открытие на чтение(значение по умолчанию)\n",
    "- `'w'` - открытие на запись, содержимое файла удаляется и перезаписывается заново, если файла не существует, создается новый\n",
    "- `'x'` - открытие на запись, только если файла не существует\n",
    "- `'a'` - открытие на дозапись, информация добавляется в конец файла\n",
    "- `'b'` - открытие файла в двоичном виде\n",
    "- `'t'` - открытие в текстовом режиме(значение по умолчанию)\n",
    "- `'+'` - открытие на чтение и запись\n",
    "\n",
    "Возможно сочетание режимов, например `'rb'`, чтение в бинарном виде, по умолчанию установлен `'rt'`.\n",
    "\n",
    "После открытия файла можно прочитать из него информацию, благодаря методу `read()`:"
   ]
  },
  {
   "cell_type": "code",
   "execution_count": null,
   "id": "69e772c5",
   "metadata": {},
   "outputs": [
    {
     "data": {
      "text/plain": [
       "'Lambda is\\nAwesome!.\\n\\n'"
      ]
     },
     "metadata": {},
     "output_type": "display_data"
    }
   ],
   "source": [
    "f = open('test.txt')\n",
    "f.read()"
   ]
  },
  {
   "cell_type": "markdown",
   "id": "d40cead3",
   "metadata": {},
   "source": [
    "Также можно прочитать и вывести файл построчно:"
   ]
  },
  {
   "cell_type": "code",
   "execution_count": 9,
   "id": "0c266b74",
   "metadata": {},
   "outputs": [
    {
     "name": "stdout",
     "output_type": "stream",
     "text": [
      "['qwe', 'asd', 'zxc']\n"
     ]
    }
   ],
   "source": [
    "f = open('test.txt')\n",
    "arr = []\n",
    "for line in f:\n",
    "    arr.append(line.strip())\n",
    "\n",
    "print(arr)"
   ]
  },
  {
   "cell_type": "markdown",
   "id": "ae41ab11",
   "metadata": {},
   "source": [
    "Записать информацию в файл можно открыв файл на запись:"
   ]
  },
  {
   "cell_type": "code",
   "execution_count": null,
   "id": "8e5de2ef",
   "metadata": {},
   "outputs": [],
   "source": [
    "f = open('test.txt', 'w')\n",
    "for i in range(1, 4):\n",
    "    f.write(str(i) + '\\n')"
   ]
  },
  {
   "cell_type": "markdown",
   "id": "cde0e3e1",
   "metadata": {},
   "source": [
    "По окончании работы с файлом его необходимо закрыть, используя метод `close()`:"
   ]
  },
  {
   "cell_type": "code",
   "execution_count": null,
   "id": "b8c1fad6",
   "metadata": {},
   "outputs": [],
   "source": [
    "f.close()"
   ]
  },
  {
   "cell_type": "markdown",
   "metadata": {},
   "source": [
    "## try - except \n",
    "\n",
    "Исключения (exceptions) - ещё один тип данных в python. Исключения необходимы для того, чтобы сообщать программисту об ошибках.\n",
    "\n",
    "Самый простейший пример исключения - деление на ноль:"
   ]
  },
  {
   "cell_type": "code",
   "execution_count": 9,
   "metadata": {},
   "outputs": [
    {
     "ename": "ZeroDivisionError",
     "evalue": "division by zero",
     "output_type": "error",
     "traceback": [
      "\u001b[0;31m---------------------------------------------------------------------------\u001b[0m",
      "\u001b[0;31mZeroDivisionError\u001b[0m                         Traceback (most recent call last)",
      "Cell \u001b[0;32mIn [9], line 1\u001b[0m\n\u001b[0;32m----> 1\u001b[0m \u001b[38;5;241m100\u001b[39m \u001b[38;5;241m/\u001b[39m \u001b[38;5;241m0\u001b[39m\n",
      "\u001b[0;31mZeroDivisionError\u001b[0m: division by zero"
     ]
    }
   ],
   "source": [
    "100 / 0"
   ]
  },
  {
   "cell_type": "markdown",
   "metadata": {},
   "source": [
    "Разберём это сообщение подробнее: интерпретатор нам сообщает о том, что он поймал исключение и напечатал информацию (Traceback (most recent call last)).\n",
    "\n",
    "Далее имя файла (File \"\"). Имя пустое, потому что мы находимся в интерактивном режиме, строка в файле (line 1);\n",
    "\n",
    "Выражение, в котором произошла ошибка (100 / 0).\n",
    "\n",
    "Название исключения (ZeroDivisionError) и краткое описание исключения (division by zero).\n",
    "\n",
    "Разумеется, возможны и другие исключения:"
   ]
  },
  {
   "cell_type": "code",
   "execution_count": 10,
   "metadata": {},
   "outputs": [
    {
     "ename": "TypeError",
     "evalue": "unsupported operand type(s) for +: 'int' and 'str'",
     "output_type": "error",
     "traceback": [
      "\u001b[0;31m---------------------------------------------------------------------------\u001b[0m",
      "\u001b[0;31mTypeError\u001b[0m                                 Traceback (most recent call last)",
      "Cell \u001b[0;32mIn [10], line 1\u001b[0m\n\u001b[0;32m----> 1\u001b[0m \u001b[38;5;241m2\u001b[39m \u001b[38;5;241m+\u001b[39m \u001b[38;5;124m'\u001b[39m\u001b[38;5;124m1\u001b[39m\u001b[38;5;124m'\u001b[39m\n",
      "\u001b[0;31mTypeError\u001b[0m: unsupported operand type(s) for +: 'int' and 'str'"
     ]
    }
   ],
   "source": [
    "2 + '1'"
   ]
  },
  {
   "cell_type": "code",
   "execution_count": 11,
   "metadata": {},
   "outputs": [
    {
     "ename": "ValueError",
     "evalue": "invalid literal for int() with base 10: 'qwerty'",
     "output_type": "error",
     "traceback": [
      "\u001b[0;31m---------------------------------------------------------------------------\u001b[0m",
      "\u001b[0;31mValueError\u001b[0m                                Traceback (most recent call last)",
      "Cell \u001b[0;32mIn [11], line 1\u001b[0m\n\u001b[0;32m----> 1\u001b[0m \u001b[38;5;28mint\u001b[39m(\u001b[38;5;124m'\u001b[39m\u001b[38;5;124mqwerty\u001b[39m\u001b[38;5;124m'\u001b[39m)\n",
      "\u001b[0;31mValueError\u001b[0m: invalid literal for int() with base 10: 'qwerty'"
     ]
    }
   ],
   "source": [
    "int('qwerty')"
   ]
  },
  {
   "cell_type": "markdown",
   "metadata": {},
   "source": [
    "В этих двух примерах генерируются исключения TypeError и ValueError соответственно. Подсказки дают нам полную информацию о том, где порождено исключение, и с чем оно связано.\n",
    "\n",
    "Иногда вам могут встретиться и другие исключения, так как программисты могут создавать собственные исключения."
   ]
  },
  {
   "cell_type": "markdown",
   "metadata": {},
   "source": [
    "Теперь, зная, когда и при каких обстоятельствах могут возникнуть исключения, мы можем их обрабатывать. Для обработки исключений используется конструкция try - except.\n",
    "\n",
    "Первый пример применения этой конструкции:"
   ]
  },
  {
   "cell_type": "code",
   "execution_count": 14,
   "metadata": {},
   "outputs": [
    {
     "name": "stdout",
     "output_type": "stream",
     "text": [
      "k = 0\n"
     ]
    }
   ],
   "source": [
    "try:\n",
    "    k = 1 / 0\n",
    "except ZeroDivisionError:\n",
    "    k = 0\n",
    "\n",
    "print(f'k = {k}')"
   ]
  },
  {
   "cell_type": "markdown",
   "metadata": {},
   "source": [
    "В блоке try мы выполняем инструкцию, которая может породить исключение, а в блоке except мы перехватываем их. При этом перехватываются как само исключение, так и его потомки. Например, перехватывая ArithmeticError, мы также перехватываем FloatingPointError, OverflowError и ZeroDivisionError."
   ]
  },
  {
   "cell_type": "code",
   "execution_count": 15,
   "metadata": {},
   "outputs": [
    {
     "name": "stdout",
     "output_type": "stream",
     "text": [
      "0\n"
     ]
    }
   ],
   "source": [
    "try:\n",
    "    k = 1 / 0\n",
    "except ArithmeticError:\n",
    "    k = 0\n",
    "\n",
    "print(k)"
   ]
  },
  {
   "cell_type": "markdown",
   "metadata": {},
   "source": [
    "Также возможна инструкция except без аргументов, которая перехватывает вообще всё (и прерывание с клавиатуры, и системный выход и т. д.). Поэтому в такой форме инструкция except практически не используется, а используется except Exception. Однако чаще всего перехватывают исключения по одному, для упрощения отладки (вдруг вы ещё другую ошибку сделаете, а except её перехватит).\n",
    "\n",
    "Ещё две инструкции, относящиеся к нашей проблеме, это finally и else. Finally выполняет блок инструкций в любом случае, было ли исключение, или нет (применима, когда нужно непременно что-то сделать, к примеру, закрыть файл). Инструкция else выполняется в том случае, если исключения не было."
   ]
  },
  {
   "cell_type": "code",
   "execution_count": 17,
   "metadata": {},
   "outputs": [
    {
     "name": "stdout",
     "output_type": "stream",
     "text": [
      "Всё хорошо.\n",
      "Я закрыл файл.\n"
     ]
    }
   ],
   "source": [
    "f = open('1.txt')\n",
    "ints = []\n",
    "try:\n",
    "    for line in f:\n",
    "        ints.append(int(line))\n",
    "except ValueError:\n",
    "    print('Это не число. Выходим.')\n",
    "except Exception:\n",
    "    print('Это что ещё такое?')\n",
    "else:\n",
    "    print('Всё хорошо.')\n",
    "finally:\n",
    "    f.close()\n",
    "    print('Я закрыл файл.')\n",
    "    # Именно в таком порядке: try, группа except, затем else, и только потом finally."
   ]
  },
  {
   "cell_type": "markdown",
   "metadata": {},
   "source": [
    "## With as"
   ]
  },
  {
   "cell_type": "markdown",
   "metadata": {},
   "source": [
    "Конструкция with ... as используется для оборачивания выполнения блока инструкций менеджером контекста. Иногда это более удобная конструкция, чем try...except...finally.\n",
    "\n",
    "Синтаксис конструкции with ... as:\n",
    "\n",
    "```\n",
    "\"with\" expression [\"as\" target] (\",\" expression [\"as\" target])* \":\"\n",
    "    suite\n",
    "```\n",
    "\n",
    "```\n",
    "with A() as a:\n",
    "    suite\n",
    "```\n",
    "\n",
    "\n",
    "```\n",
    "with A() as a, B() as b:\n",
    "    suite\n",
    "```\n",
    "\n",
    "Теперь по порядку о том, что происходит при выполнении данного блока:\n",
    "\n",
    "- Выполняется выражение в конструкции with ... as.\n",
    "- Загружается специальный метод __exit__ для дальнейшего использования.\n",
    "- Выполняется метод __enter__. Если конструкция with включает в себя слово as, то возвращаемое методом __enter__ значение записывается в переменную.\n",
    "- Выполняется suite.\n",
    "- Вызывается метод __exit__, причём неважно, выполнилось ли suite или произошло исключение. В этот метод передаются параметры исключения, если оно произошло, или во всех аргументах значение None, если исключения не было.\n",
    "\n",
    "\n",
    "Если в конструкции with - as было несколько выражений, то это эквивалентно нескольким вложенным конструкциям:\n",
    "\n",
    "```\n",
    "with A() as a, B() as b:\n",
    "    suite\n",
    "```\n",
    "\n",
    "эквивалентно\n",
    "\n",
    "```\n",
    "with A() as a:\n",
    "    with B() as b:\n",
    "        suite\n",
    "```"
   ]
  },
  {
   "cell_type": "markdown",
   "metadata": {},
   "source": [
    "Для чего применяется конструкция ```with ... as```? Для гарантии того, что критические функции выполнятся в любом случае. \n",
    "\n",
    "Самый распространённый пример использования этой конструкции - открытие файлов. Я уже рассказывал об открытии файлов с помощью функции open, однако конструкция ```with ... as```, как правило, является более удобной и гарантирует закрытие файла в любом случае."
   ]
  },
  {
   "cell_type": "code",
   "execution_count": 20,
   "metadata": {},
   "outputs": [],
   "source": [
    "with open('newfile.txt', 'w', encoding='utf-8') as g:\n",
    "    d = int(input())\n",
    "    print(f'1 / {d} = {1 / d}', file=g)"
   ]
  },
  {
   "cell_type": "markdown",
   "metadata": {},
   "source": [
    "## TODO list"
   ]
  },
  {
   "cell_type": "code",
   "execution_count": null,
   "metadata": {},
   "outputs": [],
   "source": []
  }
 ],
 "metadata": {
  "kernelspec": {
   "display_name": "Python 3.8.13 ('python38')",
   "language": "python",
   "name": "python3"
  },
  "language_info": {
   "codemirror_mode": {
    "name": "ipython",
    "version": 3
   },
   "file_extension": ".py",
   "mimetype": "text/x-python",
   "name": "python",
   "nbconvert_exporter": "python",
   "pygments_lexer": "ipython3",
   "version": "3.8.13"
  },
  "orig_nbformat": 4,
  "vscode": {
   "interpreter": {
    "hash": "8857800421a93677d1107b611dee1e1f4f3ec5be62e75cdd5f7fa7904e5f9a27"
   }
  }
 },
 "nbformat": 4,
 "nbformat_minor": 2
}
