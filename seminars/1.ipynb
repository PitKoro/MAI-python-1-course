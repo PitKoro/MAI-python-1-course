{
 "cells": [
  {
   "cell_type": "markdown",
   "metadata": {},
   "source": [
    "# Функции print и input"
   ]
  },
  {
   "cell_type": "code",
   "execution_count": null,
   "metadata": {
    "colab": {
     "base_uri": "https://localhost:8080/"
    },
    "id": "G3ZuruQPhzIH",
    "outputId": "81983db4-4a15-4d67-ab4f-7aadb7313172"
   },
   "outputs": [
    {
     "name": "stdout",
     "output_type": "stream",
     "text": [
      "Докуменn который вы читаете!!!!"
     ]
    }
   ],
   "source": [
    "print('Докуменn', 'который',  'вы читаете',end='!!!!')\n"
   ]
  },
  {
   "cell_type": "code",
   "execution_count": null,
   "metadata": {
    "colab": {
     "base_uri": "https://localhost:8080/"
    },
    "id": "tOLA5SjtlKSb",
    "outputId": "5702dc39-7dd5-4231-9d15-b2de3dbe0240"
   },
   "outputs": [
    {
     "name": "stdout",
     "output_type": "stream",
     "text": [
      "Докуменn #5\n"
     ]
    }
   ],
   "source": [
    "a = 5\n",
    "second_var = 'Докуменn'\n",
    "\n",
    "print(f'{second_var} #{a}')"
   ]
  },
  {
   "cell_type": "code",
   "execution_count": null,
   "metadata": {
    "colab": {
     "base_uri": "https://localhost:8080/"
    },
    "id": "-GfG8Nl8m3gS",
    "outputId": "9c3338cb-6161-4dc2-8fde-bd1c2bb16122"
   },
   "outputs": [
    {
     "name": "stdout",
     "output_type": "stream",
     "text": [
      "Как тебя зовут?Пётр\n",
      "Пётр\n"
     ]
    }
   ],
   "source": [
    "name = input('Как тебя зовут?')\n",
    "print(name)\n"
   ]
  },
  {
   "cell_type": "markdown",
   "metadata": {},
   "source": [
    "# узнать тип переменной"
   ]
  },
  {
   "cell_type": "code",
   "execution_count": null,
   "metadata": {
    "colab": {
     "base_uri": "https://localhost:8080/"
    },
    "id": "GYa6qredne_8",
    "outputId": "0b95f7ce-9e87-400c-bfc6-dc9987df05f8"
   },
   "outputs": [
    {
     "data": {
      "text/plain": [
       "str"
      ]
     },
     "execution_count": 22,
     "metadata": {},
     "output_type": "execute_result"
    }
   ],
   "source": [
    "type(name)"
   ]
  },
  {
   "cell_type": "code",
   "execution_count": 1,
   "metadata": {
    "colab": {
     "base_uri": "https://localhost:8080/"
    },
    "id": "dfEQfcw6nz4f",
    "outputId": "3fe32fe7-06c2-43fa-aeea-f9949540d94a"
   },
   "outputs": [
    {
     "data": {
      "text/plain": [
       "int"
      ]
     },
     "execution_count": 1,
     "metadata": {},
     "output_type": "execute_result"
    }
   ],
   "source": [
    "a = 5\n",
    "type(a)"
   ]
  },
  {
   "cell_type": "code",
   "execution_count": null,
   "metadata": {
    "colab": {
     "base_uri": "https://localhost:8080/"
    },
    "id": "ke7pNGzqmqSC",
    "outputId": "fa659b38-0e24-43d5-8031-7468489841e0"
   },
   "outputs": [
    {
     "data": {
      "text/plain": [
       "int"
      ]
     },
     "execution_count": 26,
     "metadata": {},
     "output_type": "execute_result"
    }
   ],
   "source": [
    "type(0)"
   ]
  },
  {
   "cell_type": "markdown",
   "metadata": {},
   "source": [
    "# Работа с типами и условные конструкции"
   ]
  },
  {
   "cell_type": "code",
   "execution_count": null,
   "metadata": {
    "colab": {
     "base_uri": "https://localhost:8080/",
     "height": 35
    },
    "id": "1pgcntxaoARt",
    "outputId": "c6d8d79c-a4b8-44e1-adf9-6b1a028bfe78"
   },
   "outputs": [
    {
     "data": {
      "application/vnd.google.colaboratory.intrinsic+json": {
       "type": "string"
      },
      "text/plain": [
       "'2222'"
      ]
     },
     "execution_count": 39,
     "metadata": {},
     "output_type": "execute_result"
    }
   ],
   "source": [
    "# При умножении строки на целое число N, строка увеличится в N раз\n",
    "a = '2'\n",
    "b = 4\n",
    "\n",
    "print(b*a)"
   ]
  },
  {
   "cell_type": "code",
   "execution_count": 4,
   "metadata": {},
   "outputs": [
    {
     "ename": "TypeError",
     "evalue": "can only concatenate str (not \"int\") to str",
     "output_type": "error",
     "traceback": [
      "\u001b[0;31m---------------------------------------------------------------------------\u001b[0m",
      "\u001b[0;31mTypeError\u001b[0m                                 Traceback (most recent call last)",
      "Cell \u001b[0;32mIn [4], line 4\u001b[0m\n\u001b[1;32m      1\u001b[0m a \u001b[38;5;241m=\u001b[39m \u001b[38;5;124m'\u001b[39m\u001b[38;5;124m2\u001b[39m\u001b[38;5;124m'\u001b[39m\n\u001b[1;32m      2\u001b[0m b \u001b[38;5;241m=\u001b[39m \u001b[38;5;241m5\u001b[39m\n\u001b[0;32m----> 4\u001b[0m \u001b[38;5;28mprint\u001b[39m(\u001b[43ma\u001b[49m\u001b[38;5;241;43m+\u001b[39;49m\u001b[43mb\u001b[49m)\n",
      "\u001b[0;31mTypeError\u001b[0m: can only concatenate str (not \"int\") to str"
     ]
    }
   ],
   "source": [
    "# Если мы попытаемся сложить строку с числом, возникнет ошибка\n",
    "a = '2'\n",
    "b = 5\n",
    "\n",
    "print(a+b)"
   ]
  },
  {
   "cell_type": "code",
   "execution_count": 3,
   "metadata": {
    "colab": {
     "base_uri": "https://localhost:8080/"
    },
    "id": "fFr33i68oN_K",
    "outputId": "63c0fca1-e99c-44e9-f49a-2ba4540c5ab2"
   },
   "outputs": [
    {
     "name": "stdout",
     "output_type": "stream",
     "text": [
      "2\n",
      "5\n",
      "Вы ввели: 2 и 5\n",
      "2 + 5 = 7\n"
     ]
    }
   ],
   "source": [
    "a = int(input())\n",
    "b = int(input())\n",
    "\n",
    "print(f\"Вы ввели: {a} и {b}\")\n",
    "print(f\"{a} + {b} = {a + b}\")"
   ]
  },
  {
   "cell_type": "code",
   "execution_count": null,
   "metadata": {
    "colab": {
     "base_uri": "https://localhost:8080/"
    },
    "id": "ICfAKOJ5qgDJ",
    "outputId": "dc2cc5ee-064a-4c4e-f176-9047cda2a575"
   },
   "outputs": [
    {
     "name": "stdout",
     "output_type": "stream",
     "text": [
      "a = 10\n",
      "b = 10\n",
      "op = *\n",
      "------------------\n",
      "10*10=100\n"
     ]
    }
   ],
   "source": [
    "number1 = int(input('a = '))\n",
    "number2 = int(input('b = '))\n",
    "op = input('op = ')\n",
    "\n",
    "result = None\n",
    "if op == '+':\n",
    "    result = number1 + number2\n",
    "\n",
    "elif op == '-':\n",
    "    result = number1 - number2\n",
    "\n",
    "elif op == '*':\n",
    "    result = number1 * number2\n",
    "elif op == '/':\n",
    "    result = number1 / number2\n",
    "else:\n",
    "    print('Я умею делать только: +, - ,*, / !')\n",
    "\n",
    "print('------------------')\n",
    "\n",
    "result_str = str(number1) + op + str(number2) + '=' + str(result)\n",
    "print(result_str)"
   ]
  },
  {
   "cell_type": "code",
   "execution_count": null,
   "metadata": {
    "colab": {
     "base_uri": "https://localhost:8080/"
    },
    "id": "OXZ2CUFhrQ5g",
    "outputId": "1b71193c-e4a7-4144-b879-22f887098abe"
   },
   "outputs": [
    {
     "name": "stdout",
     "output_type": "stream",
     "text": [
      "Как вас зовут?Лера\n",
      "Сколько вам лет?17\n",
      "Спасибо!\n"
     ]
    }
   ],
   "source": [
    "name = input('Как вас зовут?')\n",
    "age = input(\"Сколько вам лет?\")\n",
    "if name == \"\":\n",
    "    print(\"Вы безымянный??\")\n",
    "if age == \"\":\n",
    "    print(\"Вы стесняетесь своего возраста??\")\n",
    "else: \n",
    "    print(\"Спасибо!\")\n",
    "\n"
   ]
  },
  {
   "cell_type": "code",
   "execution_count": 67,
   "metadata": {
    "colab": {
     "base_uri": "https://localhost:8080/"
    },
    "id": "VsTiTNDC5OBW",
    "outputId": "eaa94be9-354c-41c5-dd3a-6bb0e498065f"
   },
   "outputs": [
    {
     "name": "stdout",
     "output_type": "stream",
     "text": [
      "Как вас зовут?\n",
      "Сколько вам лет?\n",
      "Вы безымянный?? И стесняетесь своего возраста??\n"
     ]
    }
   ],
   "source": [
    "name = input('Как вас зовут?')\n",
    "age = input(\"Сколько вам лет?\")\n",
    "if name == \"\" and age == \"\":\n",
    "    print(\"Вы безымянный?? И стесняетесь своего возраста??\")\n",
    "elif age == \"\":\n",
    "    print(\"Вы стесняетесь своего возраста??\")\n",
    "elif name == \"\":\n",
    "    print(\"Вы безымянный??\")\n",
    "else: \n",
    "    print(\"Спасибо!\")\n",
    "\n"
   ]
  },
  {
   "cell_type": "code",
   "execution_count": 69,
   "metadata": {
    "id": "THmjs7Z-6TuD"
   },
   "outputs": [],
   "source": [
    "boolean_var_1 = True\n",
    "boolean_var_2 = False"
   ]
  },
  {
   "cell_type": "code",
   "execution_count": 73,
   "metadata": {
    "colab": {
     "base_uri": "https://localhost:8080/"
    },
    "id": "EEsYCL3h7vum",
    "outputId": "ecbd94a6-4272-4377-9cad-1fb61590bc5c"
   },
   "outputs": [
    {
     "data": {
      "text/plain": [
       "True"
      ]
     },
     "execution_count": 73,
     "metadata": {},
     "output_type": "execute_result"
    }
   ],
   "source": [
    "not boolean_var_2"
   ]
  },
  {
   "cell_type": "code",
   "execution_count": 71,
   "metadata": {
    "colab": {
     "base_uri": "https://localhost:8080/"
    },
    "id": "vWq1HYMY6mbL",
    "outputId": "7512ebad-e775-4b2c-92a2-8abd4916faa6"
   },
   "outputs": [
    {
     "data": {
      "text/plain": [
       "True"
      ]
     },
     "execution_count": 71,
     "metadata": {},
     "output_type": "execute_result"
    }
   ],
   "source": [
    "boolean_var_1 or boolean_var_2"
   ]
  },
  {
   "cell_type": "code",
   "execution_count": 74,
   "metadata": {
    "colab": {
     "base_uri": "https://localhost:8080/"
    },
    "id": "YAAbR6Jm9IWM",
    "outputId": "dfd516a5-b1ea-4761-d9ff-cafcb6b0d8e4"
   },
   "outputs": [
    {
     "data": {
      "text/plain": [
       "2"
      ]
     },
     "execution_count": 74,
     "metadata": {},
     "output_type": "execute_result"
    }
   ],
   "source": [
    "16 % 7"
   ]
  },
  {
   "cell_type": "code",
   "execution_count": 86,
   "metadata": {
    "colab": {
     "base_uri": "https://localhost:8080/"
    },
    "id": "UU-bSK1f79eW",
    "outputId": "0106b3e7-4811-4daf-974a-3e690eab6d57"
   },
   "outputs": [
    {
     "name": "stdout",
     "output_type": "stream",
     "text": [
      "Какой сейчас месяц?\n",
      "Апрель\n",
      "Какой сейчас год?\n",
      "2000\n",
      "30\n"
     ]
    }
   ],
   "source": [
    "month = input('Какой сейчас месяц?\\n')\n",
    "year = int(input('Какой сейчас год?\\n'))\n",
    "\n",
    "if month == 'Январь' or month == 'Март' or month == 'Май':\n",
    "    print(31)\n",
    "elif month == 'Февраль' and (year % 4 == 0 and year % 100 != 0 or year % 400 == 0):\n",
    "    print(29)\n",
    "elif month == 'Февраль' and not (year % 4 == 0 and year % 100 != 0 or year % 400 == 0):\n",
    "    print(28)\n",
    "else:\n",
    "    print(30)"
   ]
  },
  {
   "cell_type": "code",
   "execution_count": 84,
   "metadata": {
    "colab": {
     "base_uri": "https://localhost:8080/"
    },
    "id": "_Xq4e91j_edc",
    "outputId": "343ed004-415e-4dcb-be08-fd402345d21f"
   },
   "outputs": [
    {
     "data": {
      "text/plain": [
       "False"
      ]
     },
     "execution_count": 84,
     "metadata": {},
     "output_type": "execute_result"
    }
   ],
   "source": [
    "False and (True and False or True)"
   ]
  },
  {
   "cell_type": "code",
   "execution_count": 87,
   "metadata": {
    "colab": {
     "base_uri": "https://localhost:8080/"
    },
    "id": "VznjCnbNA5M2",
    "outputId": "2245276f-a021-4322-94cb-2da20c270a40"
   },
   "outputs": [
    {
     "data": {
      "text/plain": [
       "True"
      ]
     },
     "execution_count": 87,
     "metadata": {},
     "output_type": "execute_result"
    }
   ],
   "source": [
    "False and True and False or True"
   ]
  },
  {
   "cell_type": "code",
   "execution_count": 88,
   "metadata": {
    "colab": {
     "base_uri": "https://localhost:8080/"
    },
    "id": "Tv9G4qN1BSfw",
    "outputId": "d3ed7a05-61fc-411c-9bda-eff3ee9e692f"
   },
   "outputs": [
    {
     "data": {
      "text/plain": [
       "6"
      ]
     },
     "execution_count": 88,
     "metadata": {},
     "output_type": "execute_result"
    }
   ],
   "source": [
    "2 * 2 + 2"
   ]
  },
  {
   "cell_type": "code",
   "execution_count": 89,
   "metadata": {
    "colab": {
     "base_uri": "https://localhost:8080/"
    },
    "id": "wjGMsDe0BTvD",
    "outputId": "8518216b-7a81-4e6a-c33d-64e8a9363d51"
   },
   "outputs": [
    {
     "data": {
      "text/plain": [
       "8"
      ]
     },
     "execution_count": 89,
     "metadata": {},
     "output_type": "execute_result"
    }
   ],
   "source": [
    "2 * (2 + 2)"
   ]
  },
  {
   "cell_type": "markdown",
   "metadata": {},
   "source": [
    "# Работа с функциями и области видимости переменных"
   ]
  },
  {
   "cell_type": "code",
   "execution_count": null,
   "metadata": {
    "id": "nb_8Aks8CbUS"
   },
   "outputs": [],
   "source": [
    "print('Введите икс')"
   ]
  },
  {
   "cell_type": "markdown",
   "metadata": {
    "id": "Ec1ElvtRDCvm"
   },
   "source": [
    "print - имя функции\n",
    "\n",
    "'Введите икс' - аргумент"
   ]
  },
  {
   "cell_type": "code",
   "execution_count": 109,
   "metadata": {
    "colab": {
     "base_uri": "https://localhost:8080/"
    },
    "id": "lGocpnUIHymo",
    "outputId": "7d3f380f-5bf3-4173-86e7-c4a5b3f0d6ae"
   },
   "outputs": [
    {
     "data": {
      "text/plain": [
       "7"
      ]
     },
     "execution_count": 109,
     "metadata": {},
     "output_type": "execute_result"
    }
   ],
   "source": [
    "argument1"
   ]
  },
  {
   "cell_type": "code",
   "execution_count": 110,
   "metadata": {
    "colab": {
     "base_uri": "https://localhost:8080/"
    },
    "id": "HIAmdS3UC7I3",
    "outputId": "14ffe1fd-7515-4389-a8d2-38f87c262a0a"
   },
   "outputs": [
    {
     "name": "stdout",
     "output_type": "stream",
     "text": [
      "Введите икс\n",
      "4\n",
      "14\n",
      "---------------------\n",
      "9\n",
      "\n",
      "11\n",
      "\n",
      "13\n"
     ]
    }
   ],
   "source": [
    "def line(x):\n",
    "    global argument1\n",
    "    argument1 = argument1 + 2\n",
    "    y = 2 + 3 * x\n",
    "    return y\n",
    "\n",
    "argument2 = int(input('Введите икс\\n'))\n",
    "print(line(argument2))\n",
    "print('---------------------')\n",
    "print(argument1)\n",
    "\n",
    "input()\n",
    "line(1)\n",
    "print(argument1)\n",
    "\n",
    "input()\n",
    "line(2)\n",
    "print(argument1)"
   ]
  },
  {
   "cell_type": "code",
   "execution_count": 111,
   "metadata": {
    "colab": {
     "base_uri": "https://localhost:8080/"
    },
    "id": "NWgPq-THH_JE",
    "outputId": "006886b2-1788-46c9-9d03-e357ab61f2b5"
   },
   "outputs": [
    {
     "data": {
      "text/plain": [
       "13"
      ]
     },
     "execution_count": 111,
     "metadata": {},
     "output_type": "execute_result"
    }
   ],
   "source": [
    "argument1"
   ]
  }
 ],
 "metadata": {
  "colab": {
   "provenance": []
  },
  "kernelspec": {
   "display_name": "Python 3 (ipykernel)",
   "language": "python",
   "name": "python3"
  },
  "language_info": {
   "codemirror_mode": {
    "name": "ipython",
    "version": 3
   },
   "file_extension": ".py",
   "mimetype": "text/x-python",
   "name": "python",
   "nbconvert_exporter": "python",
   "pygments_lexer": "ipython3",
   "version": "3.8.13"
  }
 },
 "nbformat": 4,
 "nbformat_minor": 1
}
