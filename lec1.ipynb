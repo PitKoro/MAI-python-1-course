{
 "cells": [
  {
   "cell_type": "markdown",
   "metadata": {
    "id": "PWSuivuGcz5Y"
   },
   "source": [
    "# Лексические, синтаксические и семантические правила Python"
   ]
  },
  {
   "cell_type": "markdown",
   "metadata": {
    "id": "vjesKn9xeIQ8"
   },
   "source": [
    "## Лексика\n",
    "\n",
    "Лексика - словарный запас языка.\n",
    "\n",
    "С помощью этих слов программист пишет код."
   ]
  },
  {
   "cell_type": "markdown",
   "metadata": {},
   "source": [
    "Такие слова еще называют ключевыми словами языка, они служат для построения логики программы.\n",
    "\n",
    "Выведем на экран список этих слов:"
   ]
  },
  {
   "cell_type": "code",
   "execution_count": 3,
   "metadata": {
    "colab": {
     "base_uri": "https://localhost:8080/"
    },
    "id": "BmxM3KC5cv9-",
    "outputId": "82242431-95d5-4b16-8d50-a5bc7204a6d1",
    "vscode": {
     "languageId": "python"
    }
   },
   "outputs": [
    {
     "name": "stdout",
     "output_type": "stream",
     "text": [
      "['False', 'None', 'True', '__peg_parser__', 'and', 'as', 'assert', 'async', 'await', 'break', 'class', 'continue', 'def', 'del', 'elif', 'else', 'except', 'finally', 'for', 'from', 'global', 'if', 'import', 'in', 'is', 'lambda', 'nonlocal', 'not', 'or', 'pass', 'raise', 'return', 'try', 'while', 'with', 'yield']\n"
     ]
    }
   ],
   "source": [
    "import keyword\n",
    "\n",
    "print(keyword.kwlist)"
   ]
  },
  {
   "cell_type": "markdown",
   "metadata": {},
   "source": [
    "Ключевые слова нельзя использовать в качестве имен переменных, функций и методов:"
   ]
  },
  {
   "cell_type": "code",
   "execution_count": 4,
   "metadata": {
    "vscode": {
     "languageId": "python"
    }
   },
   "outputs": [
    {
     "ename": "SyntaxError",
     "evalue": "invalid syntax (3022215586.py, line 1)",
     "output_type": "error",
     "traceback": [
      "\u001b[1;36m  Cell \u001b[1;32mIn [4], line 1\u001b[1;36m\u001b[0m\n\u001b[1;33m    and = 'smth'\u001b[0m\n\u001b[1;37m    ^\u001b[0m\n\u001b[1;31mSyntaxError\u001b[0m\u001b[1;31m:\u001b[0m invalid syntax\n"
     ]
    }
   ],
   "source": [
    "and = 'smth'"
   ]
  },
  {
   "cell_type": "markdown",
   "metadata": {},
   "source": [
    "Проверить наличие имени в списке ключевых слов можно следующим образом:"
   ]
  },
  {
   "cell_type": "code",
   "execution_count": 5,
   "metadata": {
    "colab": {
     "base_uri": "https://localhost:8080/"
    },
    "id": "2cXRdn7DeYdh",
    "outputId": "ea836e5d-3bbb-4bf5-ddb1-e8e050ca81d9",
    "vscode": {
     "languageId": "python"
    }
   },
   "outputs": [
    {
     "name": "stdout",
     "output_type": "stream",
     "text": [
      "True\n",
      "True\n",
      "False\n",
      "False\n"
     ]
    }
   ],
   "source": [
    "# Проверка лексемы\n",
    "import keyword\n",
    "\n",
    "print(keyword.iskeyword('None'))\n",
    "print(keyword.iskeyword('and'))\n",
    "print(keyword.iskeyword('and123'))\n",
    "print(keyword.iskeyword('abc'))"
   ]
  },
  {
   "cell_type": "markdown",
   "metadata": {
    "id": "ggOg85vLeyQf"
   },
   "source": [
    "## Синтаксис\n",
    "\n",
    "Синтаксис определяет правила написания программы.\n",
    "\n",
    "Конец строки является концом инструкции (точка с запятой не требуется).\n",
    "\n",
    "**Инструкция** - элемент языка, определяющий действие, которое необходимо выполнить.\n",
    "\n",
    "В примере ниже, инструкции `var = \"first string\"` и `var = 2 + 9` называются заданием переменных. Переменная в этих случаях носит имя \"`var`\" (от английского слова \"variable\" - переменная). В принципе мы можем использовать практически любое имя. Переменные используются для хранения и передачи информации по ходу выполнения программы"
   ]
  },
  {
   "cell_type": "code",
   "execution_count": 6,
   "metadata": {
    "vscode": {
     "languageId": "python"
    }
   },
   "outputs": [
    {
     "name": "stdout",
     "output_type": "stream",
     "text": [
      "Python is awesome!\n",
      "Python is awesome!\n",
      "Python is awesome!\n"
     ]
    }
   ],
   "source": [
    "\n",
    "print(\"Python is awesome!\")\n",
    "print(\"Python is awesome!\")\n",
    "print(\"Python is awesome!\")\n"
   ]
  },
  {
   "cell_type": "code",
   "execution_count": 7,
   "metadata": {
    "vscode": {
     "languageId": "python"
    }
   },
   "outputs": [
    {
     "name": "stdout",
     "output_type": "stream",
     "text": [
      "first string\n"
     ]
    }
   ],
   "source": [
    "var = \"first string\"\n",
    "print(var)"
   ]
  },
  {
   "cell_type": "markdown",
   "metadata": {},
   "source": [
    "**Строковые выражения могут заключаться в одинарные, двойные и тройные кавычки**\n",
    "\n",
    "Также может встречаться комбинация из одинарных и двойных кавычек. Строковое выражение обрамленное в тройные кавычки может состоять из нескольких строчек. В случае, когда используются комбинации из двойных и одинарных кавычек, одна пара должна быть внешней - она обозначает начало и конец строкового выражения, а внутренняя пара является частью этого выражения. Попробуйте поэкспериментировать с командой `print()`"
   ]
  },
  {
   "cell_type": "markdown",
   "metadata": {},
   "source": [
    "#### Вопрос\n",
    "> Если одинарные и двойные кавычки ничем не отличаются по сути и играют одинаковую роль, т.е. строковые выражения \"first string\" и 'first string' будут идентичны, тогда зачем нужны и те, и другие одновременно?"
   ]
  },
  {
   "cell_type": "markdown",
   "metadata": {},
   "source": [
    "На самом деле ответ кроется в самом вопросе. Если нам нужна кавычка в текстовом выражении, то очень удобно использовать их одновременно:"
   ]
  },
  {
   "cell_type": "code",
   "execution_count": 5,
   "metadata": {
    "vscode": {
     "languageId": "python"
    }
   },
   "outputs": [
    {
     "name": "stdout",
     "output_type": "stream",
     "text": [
      "Monty Python's flying circus\n"
     ]
    }
   ],
   "source": [
    "print(\"Monty Python's flying circus\") "
   ]
  },
  {
   "cell_type": "markdown",
   "metadata": {},
   "source": [
    "В противном случае при использовании кавычек только одного типа, строковое выражение будет распознано только внутри первой пары кавычек, а оставшаяся часть выражения будет неправильно интерпретирована:"
   ]
  },
  {
   "cell_type": "code",
   "execution_count": 6,
   "metadata": {
    "vscode": {
     "languageId": "python"
    }
   },
   "outputs": [
    {
     "ename": "SyntaxError",
     "evalue": "unterminated string literal (detected at line 1) (1182201729.py, line 1)",
     "output_type": "error",
     "traceback": [
      "\u001b[0;36m  Input \u001b[0;32mIn [6]\u001b[0;36m\u001b[0m\n\u001b[0;31m    print('Monty Python's flying circus')\u001b[0m\n\u001b[0m                                       ^\u001b[0m\n\u001b[0;31mSyntaxError\u001b[0m\u001b[0;31m:\u001b[0m unterminated string literal (detected at line 1)\n"
     ]
    }
   ],
   "source": [
    "print('Monty Python's flying circus') "
   ]
  },
  {
   "cell_type": "markdown",
   "metadata": {},
   "source": [
    "Существует способ, при котором можно избежать ошибки и при этом использовать кавычки только одного типа:"
   ]
  },
  {
   "cell_type": "code",
   "execution_count": null,
   "metadata": {
    "vscode": {
     "languageId": "python"
    }
   },
   "outputs": [],
   "source": [
    "print('Monty Python\\'s flying circus')"
   ]
  },
  {
   "cell_type": "markdown",
   "metadata": {},
   "source": [
    "Данный способ называется экранирование, с помощью символа \"\\\" мы отменили действие кавычки, и она стала  восприниматься, как часть текста. Подобные элементы мы рассмотрим в разделе \"Строки\".\n",
    "\n",
    "Примеры использования кавычек для определения строковых выражений:"
   ]
  },
  {
   "cell_type": "code",
   "execution_count": 8,
   "metadata": {
    "vscode": {
     "languageId": "python"
    }
   },
   "outputs": [
    {
     "name": "stdout",
     "output_type": "stream",
     "text": [
      "String\n",
      "String\n",
      "Str\"ing\n"
     ]
    }
   ],
   "source": [
    "print(\"String\") \n",
    "print('String') \n",
    "print('Str\"ing') "
   ]
  },
  {
   "cell_type": "markdown",
   "metadata": {},
   "source": [
    "**Комментарии** - вспомогательные строки, не обрабатываемые программой, обозначаются знаком # перед началом строки и действуют до конца строки. Зачастую бывает полезно записать комментарий, чтобы оставить напоминание о том, что выполняется в программе в данный момент"
   ]
  },
  {
   "cell_type": "code",
   "execution_count": 11,
   "metadata": {
    "vscode": {
     "languageId": "python"
    }
   },
   "outputs": [
    {
     "name": "stdout",
     "output_type": "stream",
     "text": [
      "комментарий справа\n"
     ]
    },
    {
     "data": {
      "text/plain": [
       "' sdfsdf\\nsdfsdf\\n\\nsdfsdf\\n\\n'"
      ]
     },
     "execution_count": 11,
     "metadata": {},
     "output_type": "execute_result"
    }
   ],
   "source": [
    "print(\"комментарий справа\") # Функция print() позволяет выводить результат на экран комментарий справа"
   ]
  },
  {
   "cell_type": "markdown",
   "metadata": {},
   "source": [
    "***Вложенная инструкция*** - часть общей инструкции выполняющаяся при определенных условиях, в этом случае условие заканчивается двоеточием, а само вложенное выражение должно отступать на 4 пробела от места, откуда начинается условие.\n",
    "\n",
    "```\n",
    "Инструкция1\n",
    "Инструкция2\n",
    "Инструкция3:\n",
    "    Вложенный блок инструкций\n",
    "```"
   ]
  },
  {
   "cell_type": "code",
   "execution_count": 12,
   "metadata": {
    "vscode": {
     "languageId": "python"
    }
   },
   "outputs": [
    {
     "name": "stdout",
     "output_type": "stream",
     "text": [
      "more\n"
     ]
    }
   ],
   "source": [
    "#инструкция объявляющая переменную var и присваивающая ей значение равное 5 \n",
    "var = 5 \n",
    "#основная инструкция 1\n",
    "if var < 3: \n",
    "#вложенная инструкция, отступает от основной инструкции 1 \n",
    "    print(\"less\") \n",
    "#основная инструкция 2 \n",
    "else: \n",
    "#вложенная инструкция, отступает от основной инструкции 2 \n",
    "    print(\"more\")"
   ]
  },
  {
   "cell_type": "markdown",
   "metadata": {},
   "source": [
    "Допустимо писать одноуровневые инструкции в одну строчку, если в итоге получается не очень длинная строка:"
   ]
  },
  {
   "cell_type": "code",
   "execution_count": 10,
   "metadata": {
    "vscode": {
     "languageId": "python"
    }
   },
   "outputs": [],
   "source": [
    "if var < 3: print(\"like this\")"
   ]
  },
  {
   "cell_type": "code",
   "execution_count": 13,
   "metadata": {
    "vscode": {
     "languageId": "python"
    }
   },
   "outputs": [
    {
     "name": "stdout",
     "output_type": "stream",
     "text": [
      "5 3\n"
     ]
    }
   ],
   "source": [
    "a=5;b=3;print(a,b)"
   ]
  },
  {
   "cell_type": "markdown",
   "metadata": {},
   "source": [
    "Рекомендуем почитать [PEP 8](https://www.python.org/dev/peps/pep-0008/) - руководство по написанию кода на Python."
   ]
  },
  {
   "cell_type": "markdown",
   "metadata": {
    "id": "Lpjw4tOvhFeK"
   },
   "source": [
    "## Семантика\n",
    "\n",
    "Семантика определяет порядок построения программы.\n",
    "\n",
    "Даже если программа будет написана синтаксически правильно, но семантика будет нарушена, программа упадет с ошибкой."
   ]
  },
  {
   "cell_type": "code",
   "execution_count": 14,
   "metadata": {
    "colab": {
     "base_uri": "https://localhost:8080/",
     "height": 190
    },
    "id": "PkDqAyfphIDs",
    "outputId": "756ffd68-1c6d-4e92-c9a1-4d52e785e490",
    "vscode": {
     "languageId": "python"
    }
   },
   "outputs": [
    {
     "ename": "NameError",
     "evalue": "name 'test' is not defined",
     "output_type": "error",
     "traceback": [
      "\u001b[1;31m---------------------------------------------------------------------------\u001b[0m",
      "\u001b[1;31mNameError\u001b[0m                                 Traceback (most recent call last)",
      "Cell \u001b[1;32mIn [14], line 2\u001b[0m\n\u001b[0;32m      1\u001b[0m a \u001b[38;5;241m=\u001b[39m \u001b[38;5;241m5\u001b[39m\n\u001b[1;32m----> 2\u001b[0m \u001b[38;5;28mprint\u001b[39m(\u001b[43mtest\u001b[49m)\n",
      "\u001b[1;31mNameError\u001b[0m: name 'test' is not defined"
     ]
    }
   ],
   "source": [
    "a = 5\n",
    "print(test)"
   ]
  },
  {
   "cell_type": "code",
   "execution_count": null,
   "metadata": {
    "colab": {
     "base_uri": "https://localhost:8080/",
     "height": 208
    },
    "id": "a-vHYKWCuzPp",
    "outputId": "f90c0d6d-de04-4579-cb8d-f852edca10a6",
    "vscode": {
     "languageId": "python"
    }
   },
   "outputs": [
    {
     "ename": "NameError",
     "evalue": "ignored",
     "output_type": "error",
     "traceback": [
      "\u001b[0;31m---------------------------------------------------------------------------\u001b[0m",
      "\u001b[0;31mNameError\u001b[0m                                 Traceback (most recent call last)",
      "\u001b[0;32m<ipython-input-1-4f0a646bacab>\u001b[0m in \u001b[0;36m<module>\u001b[0;34m\u001b[0m\n\u001b[0;32m----> 1\u001b[0;31m \u001b[0mprint\u001b[0m\u001b[0;34m(\u001b[0m\u001b[0ma\u001b[0m \u001b[0;34m+\u001b[0m \u001b[0mb\u001b[0m\u001b[0;34m)\u001b[0m\u001b[0;34m\u001b[0m\u001b[0;34m\u001b[0m\u001b[0m\n\u001b[0m\u001b[1;32m      2\u001b[0m \u001b[0ma\u001b[0m \u001b[0;34m=\u001b[0m \u001b[0;36m1\u001b[0m\u001b[0;34m\u001b[0m\u001b[0;34m\u001b[0m\u001b[0m\n\u001b[1;32m      3\u001b[0m \u001b[0mb\u001b[0m \u001b[0;34m=\u001b[0m \u001b[0;36m3\u001b[0m\u001b[0;34m\u001b[0m\u001b[0;34m\u001b[0m\u001b[0m\n",
      "\u001b[0;31mNameError\u001b[0m: name 'a' is not defined"
     ]
    }
   ],
   "source": [
    "print(a + b)\n",
    "a = 1\n",
    "b = 3"
   ]
  },
  {
   "cell_type": "code",
   "execution_count": 15,
   "metadata": {
    "id": "kMJQojpzE_0_",
    "vscode": {
     "languageId": "python"
    }
   },
   "outputs": [
    {
     "name": "stdout",
     "output_type": "stream",
     "text": [
      "test\n"
     ]
    }
   ],
   "source": [
    "test = 'test'\n",
    "print(test)"
   ]
  },
  {
   "cell_type": "markdown",
   "metadata": {
    "id": "fB_7ezinGN4S"
   },
   "source": [
    "# Подробнее про функцию print()"
   ]
  },
  {
   "cell_type": "code",
   "execution_count": null,
   "metadata": {
    "colab": {
     "base_uri": "https://localhost:8080/"
    },
    "id": "Yj3rmEkEu7_3",
    "outputId": "016841b9-159b-4fc8-cf94-42554a850f68",
    "vscode": {
     "languageId": "python"
    }
   },
   "outputs": [
    {
     "name": "stdout",
     "output_type": "stream",
     "text": [
      "5\n",
      "Пять\n",
      "5 пять\n"
     ]
    }
   ],
   "source": [
    "print(5)\n",
    "print('Пять')\n",
    "print(5, 'пять')"
   ]
  },
  {
   "cell_type": "code",
   "execution_count": null,
   "metadata": {
    "colab": {
     "base_uri": "https://localhost:8080/"
    },
    "id": "95ilp5lAGaYU",
    "outputId": "969cb4af-2de4-40b0-9ee8-3e648dd7a1d0",
    "vscode": {
     "languageId": "python"
    }
   },
   "outputs": [
    {
     "name": "stdout",
     "output_type": "stream",
     "text": [
      "Результат: 10\n"
     ]
    }
   ],
   "source": [
    "a = 10\n",
    "print(\"Результат:\", a)"
   ]
  },
  {
   "cell_type": "code",
   "execution_count": null,
   "metadata": {
    "colab": {
     "base_uri": "https://localhost:8080/"
    },
    "id": "GcMUT2-SGjdZ",
    "outputId": "0da85c69-089d-47f6-95ef-6b45a9ff2314",
    "vscode": {
     "languageId": "python"
    }
   },
   "outputs": [
    {
     "name": "stdout",
     "output_type": "stream",
     "text": [
      "Результат=11!!!!!!"
     ]
    }
   ],
   "source": [
    "a = 11\n",
    "print(\"Результат\", a, sep='=', end='!!!!!!')"
   ]
  },
  {
   "cell_type": "code",
   "execution_count": 16,
   "metadata": {
    "colab": {
     "base_uri": "https://localhost:8080/"
    },
    "id": "yGeOruDvvMN-",
    "outputId": "93bea52f-3979-441d-f4c1-40d5e1e6e132",
    "vscode": {
     "languageId": "python"
    }
   },
   "outputs": [
    {
     "name": "stdout",
     "output_type": "stream",
     "text": [
      "Мне 55 лет\n"
     ]
    }
   ],
   "source": [
    "age = 55\n",
    "\n",
    "print(f'Мне {age} лет')"
   ]
  },
  {
   "cell_type": "code",
   "execution_count": 17,
   "metadata": {
    "colab": {
     "base_uri": "https://localhost:8080/"
    },
    "id": "dcTSm8X7Gtzr",
    "outputId": "5de6f4eb-4dcf-4bb1-ac60-53ac17f349d7",
    "vscode": {
     "languageId": "python"
    }
   },
   "outputs": [
    {
     "name": "stdout",
     "output_type": "stream",
     "text": [
      "Привет! Меня зовут Пётр, мне 22.\n"
     ]
    }
   ],
   "source": [
    "# Введем что-нибудь с клавиатуры\n",
    "name = input('Как вас зовут?')\n",
    "age = input('Сколько вам лет?')\n",
    "\n",
    "print(f\"Привет! Меня зовут {name}, мне {age}.\")"
   ]
  },
  {
   "cell_type": "markdown",
   "metadata": {
    "id": "f_vEZixpJI-T"
   },
   "source": [
    "# Типы данных\n",
    "\n",
    "Язык Python характерен своей неявной динамической типизацией. Это означает, что при задании какой-либо переменной, нам не надо объявлять ее тип (число, строка, и т.д.), как это сделано в языке С. То есть достаточно просто присвоить ей значение и в зависимости от того, какое это значение, Python сам определит тип переменной.\n",
    "\n",
    "\n",
    "\n",
    "#### Между делом\n",
    "> Говоря о присвоении значения переменной, стоит отметить, что в реальности происходит процесс связывания ссылки на объект с объектом, находящемся в памяти посредством оператора = . Таким образом в инструкции типа var = 12, \"var\" - ссылка на объект, а \"12\" - объект целочисленного типа. Каждый раз, когда в тексте будет упоминаться процесс присвоения значения - помните, что в этот момент происходит процесс связывания ссылок с объектами.\n",
    "\n",
    "\n",
    "Существует несколько видов типов данных - встроенные и не встроенные. Встроенные - те типы, которые встроены в интерпретатор, не встроенные - типы данных, которые можно импортировать из других модулей. В данном курсе нам достаточно рассмотреть только встроенные типы.\n",
    "\n",
    "|Тип|Описание|Пример|\n",
    "|---|---|---|\n",
    "|**int**|целое число|```35 -1 0 76```|\n",
    "|**float**|число с плавующей точкой|```1.12 76.1 1.0```|\n",
    "|**str**|строка|```\"Hello\" \"123\"```|\n",
    "|**bool**|логический|```True``` ```False```|\n",
    "|**list**|список, изменяемая упорядоченная последовательность|```[1, 1, \"2\", 3, 4]```|\n",
    "|**tuple**|кортеж, неизменяемая упорядоченная последовательность|```(1,1,\"2\",3,4)```|\n",
    "|**set**|множество, коллекция уникальных объектов|```(1, \"2\", 3, 4)```|\n",
    "|**dict**|словарь|```{\"ключ1\": \"значение1\", \"число\": 22}```|\n",
    "|**NoneType**|тип, представляющий отсутствие значения|```None```|"
   ]
  },
  {
   "cell_type": "markdown",
   "metadata": {
    "id": "yjJyhFLgUNn5"
   },
   "source": [
    "## None type\n",
    "\n",
    "**None type** - тип, представляющий отсутствие значения.\n",
    "\n",
    "\n",
    "**None** - неопределенное значение переменной.\n",
    "\n",
    "\n",
    "Зачастую, чтобы отловить какую-то ошибку записи значения куда-либо, мы применяем проверку на отсутствие значения в переменной, ячейке базы данных, таблицы и т.д. или используем в качестве значения по умолчанию. Попробуйте повторить код приведенный ниже и посмотрите какой будет результат:"
   ]
  },
  {
   "cell_type": "code",
   "execution_count": 19,
   "metadata": {
    "id": "17PThLk_USkn",
    "vscode": {
     "languageId": "python"
    }
   },
   "outputs": [
    {
     "name": "stdout",
     "output_type": "stream",
     "text": [
      "null_variable is None\n",
      "not_null_variable is not None\n"
     ]
    }
   ],
   "source": [
    "null_variable = None \n",
    "not_null_variable = 'something' \n",
    "\n",
    "if null_variable is None:\n",
    "    print('null_variable is None') \n",
    "else: \n",
    "    print('null_variable is not None') \n",
    "    \n",
    "if not_null_variable is None:\n",
    "    print('not_null_variable is None') \n",
    "else: \n",
    "    print('not_null_variable is not None')"
   ]
  },
  {
   "cell_type": "markdown",
   "metadata": {
    "id": "Qo_SwbKAOaxs"
   },
   "source": [
    "## Логический тип\n",
    "Логический тип данных (`bool`) удобно использовать, когда результатом условия может быть только \"да\" или \"нет\". В математическом представлении `True = 1`, `False = 0`.\n",
    "\n",
    "> **True** - логическая переменная, истина\n",
    "\n",
    "> **False** - логическая переменная, ложь\n",
    "\n"
   ]
  },
  {
   "cell_type": "code",
   "execution_count": 20,
   "metadata": {
    "id": "MNGDP5B8R41l",
    "vscode": {
     "languageId": "python"
    }
   },
   "outputs": [
    {
     "name": "stdout",
     "output_type": "stream",
     "text": [
      "False\n",
      "False\n",
      "True\n"
     ]
    }
   ],
   "source": [
    "a = 0\n",
    "b = 0\n",
    "print(a < b)\n",
    "print(a > b)\n",
    "print(a == b)"
   ]
  },
  {
   "cell_type": "markdown",
   "metadata": {
    "id": "UkNzpAAQTwBi"
   },
   "source": [
    "Небольшой нюанс - логические типы на самом деле числа."
   ]
  },
  {
   "cell_type": "code",
   "execution_count": null,
   "metadata": {
    "colab": {
     "base_uri": "https://localhost:8080/"
    },
    "id": "hqkWcP2CTvZe",
    "outputId": "03f7454b-11f3-482c-a856-e7504a49778a",
    "vscode": {
     "languageId": "python"
    }
   },
   "outputs": [
    {
     "name": "stdout",
     "output_type": "stream",
     "text": [
      "12\n"
     ]
    }
   ],
   "source": [
    "print(True + 11)"
   ]
  },
  {
   "cell_type": "markdown",
   "metadata": {
    "id": "tbwtO-NIULO9"
   },
   "source": [
    "## ```float``` и ```int```\n",
    "\n",
    "Целые числа используются для стандартных арифметических операций, когда нас не интересует точность, до n-го знака.\n",
    "\n",
    "> **int** - целое число\n",
    "\n",
    "Напротив, числа, применяющиеся для точных вычислений до n-го знака после запятой - числа с плавающей точкой. При арифметическом взаимодействии двух типов (`int` и `float`), результат всегда будет иметь тип `float`.\n",
    "\n",
    "> **float** - число с плавающей точкой\n"
   ]
  },
  {
   "cell_type": "code",
   "execution_count": null,
   "metadata": {
    "colab": {
     "base_uri": "https://localhost:8080/"
    },
    "id": "gD2tK62HTK3b",
    "outputId": "b2703bca-85bf-4968-d24e-97baed01b62b",
    "vscode": {
     "languageId": "python"
    }
   },
   "outputs": [
    {
     "name": "stdout",
     "output_type": "stream",
     "text": [
      "5\n"
     ]
    }
   ],
   "source": [
    "print(5)"
   ]
  },
  {
   "cell_type": "code",
   "execution_count": null,
   "metadata": {
    "colab": {
     "base_uri": "https://localhost:8080/"
    },
    "id": "1ZdL9mv5UW1x",
    "outputId": "ba4b9540-508a-4e6e-9b98-a9f4ee13fb2e",
    "vscode": {
     "languageId": "python"
    }
   },
   "outputs": [
    {
     "name": "stdout",
     "output_type": "stream",
     "text": [
      "5.0\n",
      "5.0\n",
      "0.5\n"
     ]
    }
   ],
   "source": [
    "print(5.0)\n",
    "print(5.)\n",
    "print(0.5)"
   ]
  },
  {
   "cell_type": "code",
   "execution_count": null,
   "metadata": {
    "colab": {
     "base_uri": "https://localhost:8080/"
    },
    "id": "ccdEI_ZzUZUb",
    "outputId": "207f8c92-0bbd-4d7b-d59a-6dd469b6436c",
    "vscode": {
     "languageId": "python"
    }
   },
   "outputs": [
    {
     "data": {
      "text/plain": [
       "88817841970012523233890533447265625"
      ]
     },
     "execution_count": 46,
     "metadata": {},
     "output_type": "execute_result"
    }
   ],
   "source": [
    "25**25"
   ]
  },
  {
   "cell_type": "markdown",
   "metadata": {
    "id": "gzXDg-3bWW0G"
   },
   "source": [
    "## Строки\n",
    "\n",
    "Строки  мы используем для формирования сообщений, каких-либо сочетаний символов, текстовой информации.\n",
    "\n",
    "> **str** - строка\n"
   ]
  },
  {
   "cell_type": "code",
   "execution_count": 21,
   "metadata": {
    "id": "XCt4rnMjUr0o",
    "vscode": {
     "languageId": "python"
    }
   },
   "outputs": [
    {
     "name": "stdout",
     "output_type": "stream",
     "text": [
      "HelloWorld\n"
     ]
    }
   ],
   "source": [
    "word = \"HelloWorld\"\n",
    "print(word)"
   ]
  },
  {
   "cell_type": "markdown",
   "metadata": {},
   "source": [
    "Функция ```input()``` возвращает строку:"
   ]
  },
  {
   "cell_type": "code",
   "execution_count": 12,
   "metadata": {
    "vscode": {
     "languageId": "python"
    }
   },
   "outputs": [
    {
     "name": "stdout",
     "output_type": "stream",
     "text": [
      "<class 'str'>\n"
     ]
    }
   ],
   "source": [
    "age = input(\"Введите число: \")\n",
    "print(type(age))"
   ]
  },
  {
   "cell_type": "markdown",
   "metadata": {
    "id": "-q1mxzM5ZZgE"
   },
   "source": [
    "## Список\n",
    "\n",
    "Списки являются своего рода хранилищем данных разного типа, другими словами списки это массивы, только хранить они могут данные разных типов.\n",
    "\n",
    "> **list** - список\n"
   ]
  },
  {
   "cell_type": "code",
   "execution_count": 13,
   "metadata": {
    "colab": {
     "base_uri": "https://localhost:8080/"
    },
    "id": "cyzP-jW4YSub",
    "outputId": "86e6478c-ff4e-414d-c397-029c796c19c3",
    "vscode": {
     "languageId": "python"
    }
   },
   "outputs": [
    {
     "name": "stdout",
     "output_type": "stream",
     "text": [
      "[]\n",
      "[1, 2, 3]\n",
      "['qwe', 'rty', 'ert']\n",
      "[1, 'qwe', True, None]\n",
      "[0, 0, 0, 0]\n",
      "[]\n",
      "[1, 2, 3, 4, 5]\n"
     ]
    }
   ],
   "source": [
    "a = list()\n",
    "b = [1,2,3]\n",
    "c = ['qwe', 'rty', 'ert']\n",
    "d = [1, 'qwe', True, None]\n",
    "e = [0] * 4\n",
    "f = []\n",
    "g = list([1,2,3,4,5])\n",
    "\n",
    "print(a)\n",
    "print(b)\n",
    "print(c)\n",
    "print(d)\n",
    "print(e)\n",
    "print(f)\n",
    "print(g)"
   ]
  },
  {
   "cell_type": "markdown",
   "metadata": {
    "id": "8xxByf5SdPH_"
   },
   "source": [
    "## Кортеж\n",
    "Кортеж - это список, который после создания нельзя изменить, очень полезно его использовать для защиты \"от дурака\", чтобы по ошибке данные не были изменены.\n",
    "\n",
    "> **tuple** - кортеж"
   ]
  },
  {
   "cell_type": "code",
   "execution_count": 14,
   "metadata": {
    "id": "0o-cO1osx_7h",
    "vscode": {
     "languageId": "python"
    }
   },
   "outputs": [],
   "source": [
    "a = tuple()"
   ]
  },
  {
   "cell_type": "code",
   "execution_count": 15,
   "metadata": {
    "colab": {
     "base_uri": "https://localhost:8080/"
    },
    "id": "QkRPGWydbPuG",
    "outputId": "c7c1bb4b-19ae-4d6e-e888-ef645466f761",
    "vscode": {
     "languageId": "python"
    }
   },
   "outputs": [
    {
     "name": "stdout",
     "output_type": "stream",
     "text": [
      "(1, 2, 3)\n"
     ]
    }
   ],
   "source": [
    "tuple1 = (1,2,3)\n",
    "print(tuple1)"
   ]
  },
  {
   "cell_type": "markdown",
   "metadata": {
    "id": "5TjdX4_yga94"
   },
   "source": [
    "## Множества\n",
    "Множества - коллекции для неповторяющихся данных, хранящие эти данные в случайном порядке.\n",
    "\n",
    "> **set** - множество\n",
    "> **frozenset** - неизменяемое множество"
   ]
  },
  {
   "cell_type": "code",
   "execution_count": 16,
   "metadata": {
    "colab": {
     "base_uri": "https://localhost:8080/"
    },
    "id": "j-GfyGnMgnBy",
    "outputId": "779c5592-97ad-439d-88eb-7b3afdfa41db",
    "vscode": {
     "languageId": "python"
    }
   },
   "outputs": [
    {
     "name": "stdout",
     "output_type": "stream",
     "text": [
      "set()\n",
      "{1, 2, 3, 4, 5}\n",
      "{1, 2}\n"
     ]
    }
   ],
   "source": [
    "# Пустое множество\n",
    "my_set = set()\n",
    "print(my_set)\n",
    "\n",
    "my_set = {1,2,3,4,5}\n",
    "print(my_set)\n",
    "\n",
    "my_set = set([1,1,1,1,1,2])\n",
    "print(my_set)"
   ]
  },
  {
   "cell_type": "markdown",
   "metadata": {
    "id": "FSPcfyuFm9jn"
   },
   "source": [
    "## Словари\n",
    "Словари - являются набором пар \"ключ\"-\"значение\", довольно удобный тип данных для формирований структур. Более подробно об этом типе будет рассказано в разделе \"Словари\".\n",
    "\n",
    "> **dict** - словарь"
   ]
  },
  {
   "cell_type": "code",
   "execution_count": 26,
   "metadata": {
    "colab": {
     "base_uri": "https://localhost:8080/",
     "height": 336
    },
    "id": "QseHQJY1kNzT",
    "outputId": "144ca769-9ad5-4ae0-8997-eec1999eeef3",
    "vscode": {
     "languageId": "python"
    }
   },
   "outputs": [
    {
     "name": "stdout",
     "output_type": "stream",
     "text": [
      "{}\n",
      "{'year': 2000, 'month': 'июль', 'day': 31}\n",
      "\n",
      "Год:2000\n",
      "Месяц:июль\n",
      "День:31\n"
     ]
    }
   ],
   "source": [
    "a = {}\n",
    "print(a)\n",
    "\n",
    "date = {\"year\": 2000, \"month\": \"июль\", \"day\": 31}\n",
    "print(date)\n",
    "print()\n",
    "print(f'Год:{date[\"year\"]}')\n",
    "print(f'Месяц:{date[\"month\"]}')\n",
    "print(f'День:{date[\"day\"]}')\n"
   ]
  },
  {
   "cell_type": "markdown",
   "metadata": {},
   "source": [
    "Следующие два типа перечислены для ознакомления, в дальнейшем мы не будем уделять им практического значения в рамках данного курса.\n",
    "\n",
    "## Байт\n",
    "Байт  - это минимальная единица хранения и обработки цифровой информации. Данный тип допускает возможность производить изменение кодировки символов в зависимости от задач.\n",
    "\n",
    "> **bytes** - байты\n",
    "\n",
    " \n",
    "## Последовательность байт\n",
    "Последовательность байт  - представляет собой некую информацию (текст, картинка и т.д.). Помимо изменения кодировки, имеет дополнительные возможности применять методы к перекодированным строкам и вносить изменения.\n",
    "\n",
    " \n",
    "\n",
    "> **bytearray** - массивы байт"
   ]
  },
  {
   "cell_type": "markdown",
   "metadata": {
    "id": "hs9P2-sbsyT7"
   },
   "source": [
    "## Как узнать тип переменной"
   ]
  },
  {
   "cell_type": "code",
   "execution_count": 18,
   "metadata": {
    "colab": {
     "base_uri": "https://localhost:8080/"
    },
    "id": "Bl3Ji0KjtSa0",
    "outputId": "49544af4-20b8-46c7-8e8f-3758d81b1dea",
    "vscode": {
     "languageId": "python"
    }
   },
   "outputs": [
    {
     "name": "stdout",
     "output_type": "stream",
     "text": [
      "<class 'int'>\n",
      "<class 'NoneType'>\n",
      "<class 'str'>\n",
      "<class 'list'>\n",
      "<class 'dict'>\n",
      "<class 'bool'>\n"
     ]
    }
   ],
   "source": [
    "a = 5\n",
    "b = None\n",
    "c = 'Hello'\n",
    "d = [1,23,4,5]\n",
    "e = {0: 'qwe'}\n",
    "f = False\n",
    "\n",
    "print(type(a))\n",
    "print(type(b))\n",
    "print(type(c))\n",
    "print(type(d))\n",
    "print(type(e))\n",
    "print(type(f))"
   ]
  },
  {
   "cell_type": "markdown",
   "metadata": {
    "id": "mJ94w65qtx0j"
   },
   "source": [
    "## Приведение типов"
   ]
  },
  {
   "cell_type": "code",
   "execution_count": 27,
   "metadata": {
    "colab": {
     "base_uri": "https://localhost:8080/"
    },
    "id": "nXe6PyMdtz80",
    "outputId": "f09e3307-bcd6-4afd-efc1-ce817806c651",
    "vscode": {
     "languageId": "python"
    }
   },
   "outputs": [
    {
     "name": "stdout",
     "output_type": "stream",
     "text": [
      "Тип переменной: <class 'str'>\n",
      "Тип переменной: <class 'int'>\n"
     ]
    }
   ],
   "source": [
    "a = input('Введите число: ')\n",
    "print(f'Тип переменной: {type(a)}')\n",
    "\n",
    "a = int(a)\n",
    "print(f'Тип переменной: {type(a)}')"
   ]
  },
  {
   "cell_type": "code",
   "execution_count": 28,
   "metadata": {
    "colab": {
     "base_uri": "https://localhost:8080/"
    },
    "id": "erRZFvbsucED",
    "outputId": "e93a23d6-2159-41f3-be98-6f818336662b",
    "vscode": {
     "languageId": "python"
    }
   },
   "outputs": [
    {
     "name": "stdout",
     "output_type": "stream",
     "text": [
      "<class 'float'>\n",
      "5.12\n",
      "<class 'int'>\n",
      "5\n",
      "<class 'str'>\n",
      "5\n"
     ]
    }
   ],
   "source": [
    "a = 5.12\n",
    "print(type(a))\n",
    "print(a)\n",
    "\n",
    "a = int(a)\n",
    "print(type(a))\n",
    "print(a)\n",
    "\n",
    "a = str(a)\n",
    "print(type(a))\n",
    "print(a)"
   ]
  },
  {
   "cell_type": "code",
   "execution_count": null,
   "metadata": {
    "colab": {
     "base_uri": "https://localhost:8080/"
    },
    "id": "8v8qGB-0uvR8",
    "outputId": "2862a9a8-1783-4ba6-ae64-9f15444436f8",
    "vscode": {
     "languageId": "python"
    }
   },
   "outputs": [
    {
     "name": "stdout",
     "output_type": "stream",
     "text": [
      "True\n",
      "False\n"
     ]
    }
   ],
   "source": [
    "a = 42\n",
    "print(bool(a))\n",
    "\n",
    "a = 0\n",
    "print(bool(a))"
   ]
  },
  {
   "cell_type": "code",
   "execution_count": null,
   "metadata": {
    "colab": {
     "base_uri": "https://localhost:8080/"
    },
    "id": "GPIUHsT7u46Y",
    "outputId": "4f28ab7b-d843-4097-e8e5-ae1ee62be770",
    "vscode": {
     "languageId": "python"
    }
   },
   "outputs": [
    {
     "name": "stdout",
     "output_type": "stream",
     "text": [
      "True\n",
      "False\n"
     ]
    }
   ],
   "source": [
    "a = 'str'\n",
    "print(bool(a))\n",
    "\n",
    "a = ''\n",
    "print(bool(a))"
   ]
  },
  {
   "cell_type": "code",
   "execution_count": null,
   "metadata": {
    "colab": {
     "base_uri": "https://localhost:8080/"
    },
    "id": "VCgwgSGMvFwC",
    "outputId": "62cd4642-c5d2-4484-c42f-4f544c7c5ed4",
    "vscode": {
     "languageId": "python"
    }
   },
   "outputs": [
    {
     "name": "stdout",
     "output_type": "stream",
     "text": [
      "[1, 2, 3, 4]\n"
     ]
    }
   ],
   "source": [
    "a = (1,2,3,4)\n",
    "print(list(a))"
   ]
  },
  {
   "cell_type": "markdown",
   "metadata": {},
   "source": [
    "## Проверка переменной на соответствие типу"
   ]
  },
  {
   "cell_type": "code",
   "execution_count": 20,
   "metadata": {
    "vscode": {
     "languageId": "python"
    }
   },
   "outputs": [
    {
     "name": "stdout",
     "output_type": "stream",
     "text": [
      "Да, это строка\n"
     ]
    }
   ],
   "source": [
    "строка = '123'\n",
    "if isinstance(строка, str):\n",
    "    print('Да, это строка')"
   ]
  },
  {
   "cell_type": "markdown",
   "metadata": {},
   "source": [
    "# Операторы"
   ]
  },
  {
   "cell_type": "markdown",
   "metadata": {},
   "source": [
    "## Арифметические операторы\n",
    "\n",
    "Простым языком <br/>\n",
    "Оператором является элемент выражения, который указывает на то, какое действие необходимо произвести между элементами. То есть, в выражении \"21 - 4\" символ \"-\" является оператором, указывающим на то, что нужно произвести вычитание. \"21\" и \"4\" при этом называются операндами."
   ]
  },
  {
   "cell_type": "markdown",
   "metadata": {},
   "source": [
    "`+` - Оператор суммы"
   ]
  },
  {
   "cell_type": "code",
   "execution_count": 21,
   "metadata": {
    "vscode": {
     "languageId": "python"
    }
   },
   "outputs": [
    {
     "name": "stdout",
     "output_type": "stream",
     "text": [
      "13\n"
     ]
    }
   ],
   "source": [
    "print(5 + 8)"
   ]
  },
  {
   "cell_type": "markdown",
   "metadata": {},
   "source": [
    "`-` - Оператор разности"
   ]
  },
  {
   "cell_type": "code",
   "execution_count": 22,
   "metadata": {
    "vscode": {
     "languageId": "python"
    }
   },
   "outputs": [
    {
     "name": "stdout",
     "output_type": "stream",
     "text": [
      "29\n"
     ]
    }
   ],
   "source": [
    "print(31 - 2)"
   ]
  },
  {
   "cell_type": "markdown",
   "metadata": {},
   "source": [
    "`*` - Оператор произведения"
   ]
  },
  {
   "cell_type": "code",
   "execution_count": 23,
   "metadata": {
    "vscode": {
     "languageId": "python"
    }
   },
   "outputs": [
    {
     "name": "stdout",
     "output_type": "stream",
     "text": [
      "108\n"
     ]
    }
   ],
   "source": [
    "print(12 * 9)"
   ]
  },
  {
   "cell_type": "markdown",
   "metadata": {},
   "source": [
    "`/` - Оператор деления"
   ]
  },
  {
   "cell_type": "code",
   "execution_count": 24,
   "metadata": {
    "vscode": {
     "languageId": "python"
    }
   },
   "outputs": [
    {
     "name": "stdout",
     "output_type": "stream",
     "text": [
      "1.5\n"
     ]
    }
   ],
   "source": [
    "print(6 / 4)"
   ]
  },
  {
   "cell_type": "markdown",
   "metadata": {},
   "source": [
    "`%` - Оператор получения остатка от деления"
   ]
  },
  {
   "cell_type": "code",
   "execution_count": 25,
   "metadata": {
    "vscode": {
     "languageId": "python"
    }
   },
   "outputs": [
    {
     "name": "stdout",
     "output_type": "stream",
     "text": [
      "2\n"
     ]
    }
   ],
   "source": [
    "print(6 % 4)"
   ]
  },
  {
   "cell_type": "markdown",
   "metadata": {},
   "source": [
    "`**` - Оператор возведения в степень"
   ]
  },
  {
   "cell_type": "code",
   "execution_count": 29,
   "metadata": {
    "vscode": {
     "languageId": "python"
    }
   },
   "outputs": [
    {
     "name": "stdout",
     "output_type": "stream",
     "text": [
      "81\n"
     ]
    }
   ],
   "source": [
    "print(9**2) "
   ]
  },
  {
   "cell_type": "markdown",
   "metadata": {},
   "source": [
    "`\\\\` - Оператор целочисленного деления"
   ]
  },
  {
   "cell_type": "code",
   "execution_count": 27,
   "metadata": {
    "vscode": {
     "languageId": "python"
    }
   },
   "outputs": [
    {
     "name": "stdout",
     "output_type": "stream",
     "text": [
      "1\n"
     ]
    }
   ],
   "source": [
    "print(6 // 4)"
   ]
  },
  {
   "cell_type": "code",
   "execution_count": null,
   "metadata": {
    "vscode": {
     "languageId": "python"
    }
   },
   "outputs": [],
   "source": [
    "16"
   ]
  },
  {
   "cell_type": "markdown",
   "metadata": {},
   "source": [
    "## Операторы сравнения"
   ]
  },
  {
   "cell_type": "markdown",
   "metadata": {},
   "source": [
    "`==` - Проверяет, равны ли операнды между собой. Если они равны, то выражение становится истинным."
   ]
  },
  {
   "cell_type": "code",
   "execution_count": 28,
   "metadata": {
    "vscode": {
     "languageId": "python"
    }
   },
   "outputs": [
    {
     "name": "stdout",
     "output_type": "stream",
     "text": [
      "True\n",
      "False\n"
     ]
    }
   ],
   "source": [
    "print(5 == 5)\n",
    "print(6 == 44) "
   ]
  },
  {
   "cell_type": "markdown",
   "metadata": {},
   "source": [
    "`!=` - Проверяет, равны ли операнды между собой. Если они не равны, то выражение становится истинным."
   ]
  },
  {
   "cell_type": "code",
   "execution_count": 31,
   "metadata": {
    "vscode": {
     "languageId": "python"
    }
   },
   "outputs": [
    {
     "name": "stdout",
     "output_type": "stream",
     "text": [
      "False\n",
      "True\n"
     ]
    }
   ],
   "source": [
    "print(12 != 12) \n",
    "print(1231 != 0.4)"
   ]
  },
  {
   "cell_type": "markdown",
   "metadata": {},
   "source": [
    "`>` - Проверяет, больше ли левый операнд чем правый, если больше, то выражение становится истинным."
   ]
  },
  {
   "cell_type": "code",
   "execution_count": 30,
   "metadata": {
    "vscode": {
     "languageId": "python"
    }
   },
   "outputs": [
    {
     "name": "stdout",
     "output_type": "stream",
     "text": [
      "True\n",
      "False\n"
     ]
    }
   ],
   "source": [
    "print(53 > 23)\n",
    "print(432 >500) "
   ]
  },
  {
   "cell_type": "markdown",
   "metadata": {},
   "source": [
    "`<` - Проверяет, меньше ли левый операнд чем правый, если меньше, то выражение становится истинным."
   ]
  },
  {
   "cell_type": "code",
   "execution_count": 31,
   "metadata": {
    "vscode": {
     "languageId": "python"
    }
   },
   "outputs": [
    {
     "name": "stdout",
     "output_type": "stream",
     "text": [
      "True\n",
      "False\n"
     ]
    }
   ],
   "source": [
    "print(5 < 51)\n",
    "print(6 < 4)"
   ]
  },
  {
   "cell_type": "markdown",
   "metadata": {},
   "source": [
    "`>=` - Проверяет, больше левый операнд, чем правый, или равен ему. Если больше или равен, то выражение становится истинным."
   ]
  },
  {
   "cell_type": "code",
   "execution_count": 32,
   "metadata": {
    "vscode": {
     "languageId": "python"
    }
   },
   "outputs": [
    {
     "name": "stdout",
     "output_type": "stream",
     "text": [
      "True\n",
      "False\n"
     ]
    }
   ],
   "source": [
    "print(5 >= 5)\n",
    "print(6 >=44)"
   ]
  },
  {
   "cell_type": "markdown",
   "metadata": {},
   "source": [
    "`<=` - Проверяет, меньше левый операнд, чем правый, или равен ему. Если меньше или равен, то выражение становится истинным."
   ]
  },
  {
   "cell_type": "code",
   "execution_count": 33,
   "metadata": {
    "vscode": {
     "languageId": "python"
    }
   },
   "outputs": [
    {
     "name": "stdout",
     "output_type": "stream",
     "text": [
      "True\n",
      "False\n"
     ]
    }
   ],
   "source": [
    "print(32 <= 232)\n",
    "print(65 <= 9) "
   ]
  },
  {
   "cell_type": "markdown",
   "id": "a789ff60",
   "metadata": {},
   "source": [
    "## Операторы присваивания"
   ]
  },
  {
   "cell_type": "markdown",
   "id": "510cfe67",
   "metadata": {},
   "source": [
    "`=` - Присваивает значение правого операнда левому"
   ]
  },
  {
   "cell_type": "code",
   "execution_count": 34,
   "id": "0325a62a",
   "metadata": {
    "vscode": {
     "languageId": "python"
    }
   },
   "outputs": [
    {
     "name": "stdout",
     "output_type": "stream",
     "text": [
      "5\n"
     ]
    }
   ],
   "source": [
    "var = 5 \n",
    "print(var)"
   ]
  },
  {
   "cell_type": "markdown",
   "id": "a74ac5d0",
   "metadata": {},
   "source": [
    "`+=` - Прибавляет значение правого операнда к левому и присваивает левому. `a += b` эквивалентно записи\n",
    "`a=a+b`"
   ]
  },
  {
   "cell_type": "code",
   "execution_count": 35,
   "id": "f2062512",
   "metadata": {
    "vscode": {
     "languageId": "python"
    }
   },
   "outputs": [
    {
     "name": "stdout",
     "output_type": "stream",
     "text": [
      "9\n"
     ]
    }
   ],
   "source": [
    "var = 5 \n",
    "var += 4 # var = var + 4\n",
    "print(var) \n"
   ]
  },
  {
   "cell_type": "markdown",
   "id": "950e2543",
   "metadata": {},
   "source": [
    "`-=` - Отнимает значение у левого операнда правое и присваивает левому. `a -= b` эквивалентно записи `a = a -b`"
   ]
  },
  {
   "cell_type": "code",
   "execution_count": 36,
   "id": "ca0fe4ff",
   "metadata": {
    "vscode": {
     "languageId": "python"
    }
   },
   "outputs": [
    {
     "name": "stdout",
     "output_type": "stream",
     "text": [
      "3\n"
     ]
    }
   ],
   "source": [
    "var = 5 \n",
    "var -= 2 \n",
    "print(var) "
   ]
  },
  {
   "cell_type": "markdown",
   "id": "9a619f8d",
   "metadata": {},
   "source": [
    "`*-` - Умножает значение левого операнда на правое и присваивает левому. `a *= b` эквивалентно записи `a=a*b`"
   ]
  },
  {
   "cell_type": "code",
   "execution_count": 37,
   "id": "84cd87fc",
   "metadata": {
    "vscode": {
     "languageId": "python"
    }
   },
   "outputs": [
    {
     "name": "stdout",
     "output_type": "stream",
     "text": [
      "50\n"
     ]
    }
   ],
   "source": [
    "var = 5 \n",
    "var *= 10 \n",
    "print(var) "
   ]
  },
  {
   "cell_type": "markdown",
   "id": "0d61aa48",
   "metadata": {},
   "source": [
    "`/=` - Делит значение левого операнда на правое и присваивает левому. `a /= b` эквивалентно записи `a=a/b`"
   ]
  },
  {
   "cell_type": "code",
   "execution_count": 38,
   "id": "aa22f557",
   "metadata": {
    "vscode": {
     "languageId": "python"
    }
   },
   "outputs": [
    {
     "name": "stdout",
     "output_type": "stream",
     "text": [
      "1.25\n"
     ]
    }
   ],
   "source": [
    "var = 5 \n",
    "var /= 4 \n",
    "print(var) "
   ]
  },
  {
   "cell_type": "markdown",
   "id": "ba2813f7",
   "metadata": {},
   "source": [
    "`%=` - Делит значение левого операнда по остатку на правое и присваивает левому. `a %= b` эквивалентно записи `a = a % b`"
   ]
  },
  {
   "cell_type": "code",
   "execution_count": 39,
   "id": "d7a8c140",
   "metadata": {
    "vscode": {
     "languageId": "python"
    }
   },
   "outputs": [
    {
     "name": "stdout",
     "output_type": "stream",
     "text": [
      "5\n"
     ]
    }
   ],
   "source": [
    "var = 5 \n",
    "var %= 10\n",
    "print(var) "
   ]
  },
  {
   "cell_type": "markdown",
   "id": "fe228129",
   "metadata": {},
   "source": [
    "`**=` - Возводит значение левого операнда в степень правого и присваивает левому. `a **= b` эквивалентно записи `a = a ** b`"
   ]
  },
  {
   "cell_type": "code",
   "execution_count": 40,
   "id": "facca3b1",
   "metadata": {
    "vscode": {
     "languageId": "python"
    }
   },
   "outputs": [
    {
     "name": "stdout",
     "output_type": "stream",
     "text": [
      "390625\n"
     ]
    }
   ],
   "source": [
    "var = 5 \n",
    "var **= 8 \n",
    "print(var) "
   ]
  },
  {
   "cell_type": "markdown",
   "id": "c15b7b5b",
   "metadata": {},
   "source": [
    "`//=` - Целочисленно делит значение левого операнда на правое и присваивает левому. `a //= b` эквивалентно записи `a = a // b`"
   ]
  },
  {
   "cell_type": "code",
   "execution_count": 41,
   "id": "c88186e3",
   "metadata": {
    "vscode": {
     "languageId": "python"
    }
   },
   "outputs": [
    {
     "name": "stdout",
     "output_type": "stream",
     "text": [
      "0\n"
     ]
    }
   ],
   "source": [
    "var = 5 \n",
    "var //= 30 \n",
    "print(var) "
   ]
  },
  {
   "cell_type": "markdown",
   "id": "6c8f2efa",
   "metadata": {},
   "source": [
    "## Побитовые операторы\n",
    "\n",
    "\n",
    "\n",
    "Данные операторы работают с данными в двоичной системе счисления. Например число 13 в двоичной системе будет равно 1101"
   ]
  },
  {
   "cell_type": "markdown",
   "id": "4be5de31",
   "metadata": {},
   "source": [
    "`&` - Бинарный \"И\" оператор, копирует бит в результат только если бит присутствует в обоих операндах"
   ]
  },
  {
   "cell_type": "code",
   "execution_count": 42,
   "id": "6a849c24",
   "metadata": {
    "vscode": {
     "languageId": "python"
    }
   },
   "outputs": [
    {
     "name": "stdout",
     "output_type": "stream",
     "text": [
      "0\n",
      "0\n",
      "0\n",
      "1\n",
      "100\n"
     ]
    }
   ],
   "source": [
    "print(0&0)\n",
    "print(1&0)\n",
    "print(0&1)\n",
    "print(1&1)\n",
    "print(101 & 110)"
   ]
  },
  {
   "cell_type": "markdown",
   "id": "be6905fb",
   "metadata": {},
   "source": [
    "`!` - Бинарный \"ИЛИ\" оператор копирует бит, если тот присутствует в хотя бы в одном операнде"
   ]
  },
  {
   "cell_type": "code",
   "execution_count": 43,
   "id": "55252acd",
   "metadata": {
    "vscode": {
     "languageId": "python"
    }
   },
   "outputs": [
    {
     "name": "stdout",
     "output_type": "stream",
     "text": [
      "0\n",
      "1\n",
      "1\n",
      "1\n",
      "111\n"
     ]
    }
   ],
   "source": [
    "print(0|0)\n",
    "print(1|0)\n",
    "print(0|1)\n",
    "print(1|1)\n",
    "print(101 | 110)"
   ]
  },
  {
   "cell_type": "markdown",
   "id": "f8a0778e",
   "metadata": {},
   "source": [
    "`^` - Бинарный \"Исключительное ИЛИ\" оператор копирует бит только если бит присутствует в одном из операндов, но не в обоих сразу"
   ]
  },
  {
   "cell_type": "code",
   "execution_count": 44,
   "id": "9d524505",
   "metadata": {
    "vscode": {
     "languageId": "python"
    }
   },
   "outputs": [
    {
     "name": "stdout",
     "output_type": "stream",
     "text": [
      "0\n",
      "1\n",
      "1\n",
      "0\n",
      "11\n"
     ]
    }
   ],
   "source": [
    "print(0^0)\n",
    "print(1^0)\n",
    "print(0^1)\n",
    "print(1^1)\n",
    "print(101 ^ 110)"
   ]
  },
  {
   "cell_type": "markdown",
   "id": "b290828a",
   "metadata": {},
   "source": [
    "`~` - Побитовая операция \"НЕ\". Для числа a соответствует -(a+1)"
   ]
  },
  {
   "cell_type": "code",
   "execution_count": 45,
   "id": "c1f31051",
   "metadata": {
    "vscode": {
     "languageId": "python"
    }
   },
   "outputs": [
    {
     "name": "stdout",
     "output_type": "stream",
     "text": [
      "-2\n",
      "-1\n",
      "-102\n"
     ]
    }
   ],
   "source": [
    "print(~1)\n",
    "print(~0)\n",
    "print(~101) "
   ]
  },
  {
   "cell_type": "markdown",
   "id": "97cf94dd",
   "metadata": {},
   "source": [
    "`>>` - Побитовый сдвиг вправо. Значение левого операнда \"сдвигается\" вправо на количество бит указанных в правом операнде"
   ]
  },
  {
   "cell_type": "code",
   "execution_count": 46,
   "id": "b6086e41",
   "metadata": {
    "vscode": {
     "languageId": "python"
    }
   },
   "outputs": [
    {
     "data": {
      "text/plain": [
       "25"
      ]
     },
     "execution_count": 46,
     "metadata": {},
     "output_type": "execute_result"
    }
   ],
   "source": [
    "100 >> 2"
   ]
  },
  {
   "cell_type": "code",
   "execution_count": 33,
   "metadata": {
    "vscode": {
     "languageId": "python"
    }
   },
   "outputs": [
    {
     "ename": "SyntaxError",
     "evalue": "leading zeros in decimal integer literals are not permitted; use an 0o prefix for octal integers (2931846487.py, line 1)",
     "output_type": "error",
     "traceback": [
      "\u001b[1;36m  Cell \u001b[1;32mIn [33], line 1\u001b[1;36m\u001b[0m\n\u001b[1;33m    decimal(010)\u001b[0m\n\u001b[1;37m              ^\u001b[0m\n\u001b[1;31mSyntaxError\u001b[0m\u001b[1;31m:\u001b[0m leading zeros in decimal integer literals are not permitted; use an 0o prefix for octal integers\n"
     ]
    }
   ],
   "source": []
  },
  {
   "cell_type": "markdown",
   "id": "61e6fd02",
   "metadata": {},
   "source": [
    "`<<`-Побитовый сдвиг влево. Значение левого операнда \"сдвигается\" влево на количество бит указанных в правом операнде"
   ]
  },
  {
   "cell_type": "code",
   "execution_count": 47,
   "id": "30101427",
   "metadata": {
    "vscode": {
     "languageId": "python"
    }
   },
   "outputs": [
    {
     "data": {
      "text/plain": [
       "400"
      ]
     },
     "execution_count": 47,
     "metadata": {},
     "output_type": "execute_result"
    }
   ],
   "source": [
    "100 << 2"
   ]
  },
  {
   "cell_type": "markdown",
   "id": "64ccb177",
   "metadata": {},
   "source": [
    "## Логические операторы"
   ]
  },
  {
   "cell_type": "markdown",
   "id": "f185ac4c",
   "metadata": {},
   "source": [
    "`and` - Логический оператор \"И\". Условие будет истинным если оба операнда истина"
   ]
  },
  {
   "cell_type": "code",
   "execution_count": 48,
   "id": "49b27cab",
   "metadata": {
    "vscode": {
     "languageId": "python"
    }
   },
   "outputs": [
    {
     "name": "stdout",
     "output_type": "stream",
     "text": [
      "True\n",
      "False\n",
      "False\n",
      "False\n"
     ]
    }
   ],
   "source": [
    "print(True and True)\n",
    "\n",
    "print(True and False)\n",
    "\n",
    "print(False and True)\n",
    "\n",
    "print(False and False)"
   ]
  },
  {
   "cell_type": "markdown",
   "id": "bdaccc2c",
   "metadata": {},
   "source": [
    "`or` - Логический оператор \"ИЛИ\". Если хотя бы один из операндов истинный, то и все выражение будет истинным"
   ]
  },
  {
   "cell_type": "code",
   "execution_count": 49,
   "id": "9f01c809",
   "metadata": {
    "vscode": {
     "languageId": "python"
    }
   },
   "outputs": [
    {
     "name": "stdout",
     "output_type": "stream",
     "text": [
      "True\n",
      "True\n",
      "True\n",
      "False\n"
     ]
    }
   ],
   "source": [
    "print(True or True)\n",
    "\n",
    "print(True or False)\n",
    "\n",
    "print(False or True)\n",
    "\n",
    "print(False or False)"
   ]
  },
  {
   "cell_type": "markdown",
   "id": "ee4e1f40",
   "metadata": {},
   "source": [
    "`not` - Логический оператор \"НЕ\". Изменяет логическое значение операнда на противоположное"
   ]
  },
  {
   "cell_type": "code",
   "execution_count": 50,
   "id": "6ea9ca51",
   "metadata": {
    "vscode": {
     "languageId": "python"
    }
   },
   "outputs": [
    {
     "name": "stdout",
     "output_type": "stream",
     "text": [
      "False\n",
      "True\n"
     ]
    }
   ],
   "source": [
    "print(not True)\n",
    "\n",
    "print(not False)"
   ]
  },
  {
   "cell_type": "markdown",
   "id": "b7dff50c",
   "metadata": {},
   "source": [
    "## Операторы членства\n",
    "\n",
    "\n",
    "Данные операторы участвуют в поиске данных в некоторой последовательности."
   ]
  },
  {
   "cell_type": "markdown",
   "id": "4eb4ee4a",
   "metadata": {},
   "source": [
    "`in` - Возвращает истину, если элемент присутствует в последовательности, иначе возвращает ложь"
   ]
  },
  {
   "cell_type": "code",
   "execution_count": 51,
   "id": "d9241d08",
   "metadata": {
    "vscode": {
     "languageId": "python"
    }
   },
   "outputs": [
    {
     "name": "stdout",
     "output_type": "stream",
     "text": [
      "True\n"
     ]
    }
   ],
   "source": [
    "print('he' in 'hello') "
   ]
  },
  {
   "cell_type": "code",
   "execution_count": 52,
   "id": "e49e5f5b",
   "metadata": {
    "vscode": {
     "languageId": "python"
    }
   },
   "outputs": [
    {
     "name": "stdout",
     "output_type": "stream",
     "text": [
      "True\n"
     ]
    }
   ],
   "source": [
    "print(5 in [1, 2, 3, 4, 5])"
   ]
  },
  {
   "cell_type": "code",
   "execution_count": 53,
   "id": "18ac3b09",
   "metadata": {
    "vscode": {
     "languageId": "python"
    }
   },
   "outputs": [
    {
     "name": "stdout",
     "output_type": "stream",
     "text": [
      "False\n"
     ]
    }
   ],
   "source": [
    "print(12 in [1, 2, 4, 56])"
   ]
  },
  {
   "cell_type": "markdown",
   "id": "a07c68db",
   "metadata": {},
   "source": [
    "`not in` - Возвращает истину если элемента нет в последовательности"
   ]
  },
  {
   "cell_type": "code",
   "execution_count": 34,
   "id": "a6385b49",
   "metadata": {
    "vscode": {
     "languageId": "python"
    }
   },
   "outputs": [
    {
     "name": "stdout",
     "output_type": "stream",
     "text": [
      "True\n"
     ]
    }
   ],
   "source": [
    "print('he' not in 'llo') "
   ]
  },
  {
   "cell_type": "code",
   "execution_count": 55,
   "id": "b174a725",
   "metadata": {
    "vscode": {
     "languageId": "python"
    }
   },
   "outputs": [
    {
     "name": "stdout",
     "output_type": "stream",
     "text": [
      "False\n"
     ]
    }
   ],
   "source": [
    "print(5 not in [1, 2, 3, 4, 5])"
   ]
  },
  {
   "cell_type": "code",
   "execution_count": 56,
   "id": "a7f9d8c0",
   "metadata": {
    "vscode": {
     "languageId": "python"
    }
   },
   "outputs": [
    {
     "name": "stdout",
     "output_type": "stream",
     "text": [
      "True\n"
     ]
    }
   ],
   "source": [
    "print(12 not in [1, 2, 4, 56])"
   ]
  },
  {
   "cell_type": "markdown",
   "id": "97961a7d",
   "metadata": {},
   "source": [
    "## Операторы тождественности\n",
    "\n",
    "Данные операторы помогают сравнить размещение двух объектов в памяти компьютера"
   ]
  },
  {
   "cell_type": "markdown",
   "id": "df00c9ca",
   "metadata": {},
   "source": [
    "`is` - Возвращает истину, если оба операнда указывают на один объект"
   ]
  },
  {
   "cell_type": "code",
   "execution_count": 57,
   "id": "2d3fa267",
   "metadata": {
    "vscode": {
     "languageId": "python"
    }
   },
   "outputs": [
    {
     "name": "stdout",
     "output_type": "stream",
     "text": [
      "True\n"
     ]
    }
   ],
   "source": [
    "a = 12 \n",
    "b = 12 \n",
    "print(a is b)"
   ]
  },
  {
   "cell_type": "code",
   "execution_count": 58,
   "id": "a62f6e31",
   "metadata": {
    "vscode": {
     "languageId": "python"
    }
   },
   "outputs": [
    {
     "name": "stdout",
     "output_type": "stream",
     "text": [
      "False\n"
     ]
    }
   ],
   "source": [
    "c = 22\n",
    "print(a is c)"
   ]
  },
  {
   "cell_type": "markdown",
   "id": "d369b81b",
   "metadata": {},
   "source": [
    "`is not` - Возвращает ложь, если оба операнда указывают на один объект"
   ]
  },
  {
   "cell_type": "code",
   "execution_count": 35,
   "id": "627fee0f",
   "metadata": {
    "vscode": {
     "languageId": "python"
    }
   },
   "outputs": [
    {
     "name": "stdout",
     "output_type": "stream",
     "text": [
      "True\n"
     ]
    }
   ],
   "source": [
    "c = 22\n",
    "a= 12\n",
    "print(a is not c)"
   ]
  },
  {
   "cell_type": "markdown",
   "id": "86e87d56",
   "metadata": {},
   "source": [
    "# Условные операторы"
   ]
  },
  {
   "cell_type": "markdown",
   "id": "d18d224f",
   "metadata": {},
   "source": [
    "## Оператор if\n",
    "\n",
    "Условные операторы нужны для проверки условий и, в зависимости от результата, вести логику выполнения программы в нужном направлении.\n",
    "\n",
    "Условный оператор `if` (\"если\") является основным оператором проверки выполнения условия. Для того, чтобы выполнить простую вложенную инструкцию, необходимо проверить условие на соответствие, использовав оператор `if` и прописав после него соответсвующее условие:"
   ]
  },
  {
   "cell_type": "code",
   "execution_count": 60,
   "id": "3c1a9574",
   "metadata": {
    "vscode": {
     "languageId": "python"
    }
   },
   "outputs": [
    {
     "name": "stdout",
     "output_type": "stream",
     "text": [
      "var less than 10\n"
     ]
    }
   ],
   "source": [
    "# объявляем переменную\n",
    "var = 5\n",
    "# выполняем проверку условия\n",
    "if var < 10:\n",
    "# если условие выполняется, то выполняется вложенная инструкция\n",
    "    print(\"var less than 10\")"
   ]
  },
  {
   "cell_type": "markdown",
   "id": "f896cbc6",
   "metadata": {},
   "source": [
    "В данном случае мы объявляем переменную `var` и присваиваем ей значение равное **5**, далее выполняем проверку условия - если переменная меньше **10**, то вывести соответсвующее сообщение."
   ]
  },
  {
   "cell_type": "markdown",
   "id": "bd4bc618",
   "metadata": {},
   "source": [
    "Оператор `if` производит проверку истинности выражения, т.е. является ли результат выражения логической истиной `(True)` или же ложью `(False)`. Далее выполняется вложенная инструкция, если результат выражения является True. Если результат выражения является `False`, тогда вложенная инструкция игнорируется. В предыдущем разделе приводились примеры того, что выводит `Python` в качестве результата выражения с оператором сравнения."
   ]
  },
  {
   "cell_type": "markdown",
   "id": "31bada39",
   "metadata": {},
   "source": [
    "## Оператор else"
   ]
  },
  {
   "cell_type": "markdown",
   "id": "7ea35eec",
   "metadata": {},
   "source": [
    "Оператор `if` позволяет выполнить вложенную инструкцию, если результат выражения `True`, а что, если нам необходимо, чтобы программа могла выполнять действия и в случае `False` результата? Для этого мы можем использовать оператор else. Условный оператор `else` (\"иначе\") является продолжением основной инструкции. "
   ]
  },
  {
   "cell_type": "code",
   "execution_count": 61,
   "id": "bdf64bb1",
   "metadata": {
    "vscode": {
     "languageId": "python"
    }
   },
   "outputs": [
    {
     "name": "stdout",
     "output_type": "stream",
     "text": [
      "var_1 not equal var_2\n"
     ]
    }
   ],
   "source": [
    "# объявляем переменные\n",
    "var_1 = 10\n",
    "var_2 = 9\n",
    "# выполняем проверку условия\n",
    "if var_1 == var_2:\n",
    "# если True\n",
    "    print(\"var_1 equal var_2\")\n",
    "# иначе\n",
    "else:\n",
    "# выполняется другая вложенная инструкция\n",
    "    print(\"var_1 not equal var_2\")"
   ]
  },
  {
   "cell_type": "markdown",
   "id": "bde1c6ed",
   "metadata": {},
   "source": [
    "Как показано в примере выше, мы задаем переменной `var_1` значение равное `10`, а переменной `var_2` значение `9`, затем производим сравнение наших переменных на равенство, если `var_1` равно `var_2`, тогда следует вывести сообщение, что они равны, иначе, вывести сообщение, что переменные не равны. Таким образом, оператор `else` позволяет выполнить инструкцию `print(\"var_1 not equal var_2\")` в случаях, когда результат проверки на равенство является `False`.\n",
    "\n",
    "## Оператор elif\n",
    "\n",
    "В предыдущем примере мы рассматривали ситуацию, когда нас интересовало всего 2 возможные ситуации - равно, не равно. А что, если для решения определенной задачи нас интересует более двух возможных ситуации? Для этого предусмотрен оператор `elif` (сокращение от конструкции `else` `if`), который позволяет добавить дополнительные условия в логику выполнения программы:"
   ]
  },
  {
   "cell_type": "code",
   "execution_count": 62,
   "id": "5e7b39a5",
   "metadata": {
    "vscode": {
     "languageId": "python"
    }
   },
   "outputs": [
    {
     "name": "stdout",
     "output_type": "stream",
     "text": [
      "var_1 more than var_2\n"
     ]
    }
   ],
   "source": [
    "# объявляем переменные\n",
    "from ast import AsyncFunctionDef\n",
    "\n",
    "\n",
    "var_1 = 10\n",
    "var_2 = -10\n",
    "# выполняем проверку условия\n",
    "if var_1 == var_2:\n",
    "# если True\n",
    "    print(\"var_1 equal var_2\")\n",
    "# иначе если выполняется другое условие\n",
    "elif var_1 < var_2:\n",
    "# если True для elif\n",
    "    print(\"var_1 less than var_2\")\n",
    "# если False для всех\n",
    "else:\n",
    "    print(\"var_1 more than var_2\")\n"
   ]
  },
  {
   "cell_type": "markdown",
   "id": "25dfabdd",
   "metadata": {},
   "source": [
    "Здесь мы объявляем переменные `var_1` и `var_2` и присваиваем значения `10` и `-10` соответственно, после этого выполняем проверку первого условия, равны ли эти переменные, если они равны, то выводим соответствующее сообщение. Если они не равны, то пытаемся понять, какая из этих переменных больше. Выполняется проверка второго условия (`elif`), если `var_1` меньше `var_2`, тогда выводим соответствующее сообщение, и наконец, остается последний вариант, который и выводит сообщение о том, что `var_1` больше чем `var_2`.\n",
    "\n",
    "Главное, на что стоит обратить внимание - после использования конструкций `if` и `elif` всегда необходимо записывать условие проверки (в нашем случае `var_1 == var_2` и `var_1 < var_2` соответственно), а `else` всегда используется без условий, потому что означает выполнение инструкции при любых других вариантах, которые не были рассмотрены операторами `if` и `elif`.\n",
    "\n",
    "Количество конструкций `elif` может быть множество, тогда, как `if` и `else` используются по 1 разу в рамках одной инструкции:"
   ]
  },
  {
   "cell_type": "code",
   "execution_count": null,
   "id": "fd710167",
   "metadata": {
    "vscode": {
     "languageId": "python"
    }
   },
   "outputs": [],
   "source": [
    "if (условие):\n",
    "    (выполнение условия)\n",
    "elif (другое условие):\n",
    "    (выполнение другого условия)\n",
    "elif (третье условие):\n",
    "    (выполнение третьего условия)\n",
    "elif (четвертое условие):\n",
    "...\n",
    "...\n",
    "...\n",
    "else:\n",
    "    (выполнение при всех других не рассмотренных ранее случаях)"
   ]
  },
  {
   "cell_type": "markdown",
   "id": "ea7d33c8",
   "metadata": {},
   "source": [
    "Стоит обратить внимание, что в случае, когда вы используете оператор `if` несколько раз на одном уровне вложенности инструкций, то они работают независимо друг от друга и не образуют одну общую инструкцию:"
   ]
  },
  {
   "cell_type": "code",
   "execution_count": null,
   "id": "08f5047c",
   "metadata": {
    "vscode": {
     "languageId": "python"
    }
   },
   "outputs": [],
   "source": [
    "var = 10\n",
    "if var == 10:\n",
    "    print(\"var equal 10\")\n",
    "if var < 10:\n",
    "    print(\"var less than 10\")\n",
    "else:\n",
    "    print(\"var more than 10\")"
   ]
  },
  {
   "cell_type": "markdown",
   "id": "aa063bac",
   "metadata": {},
   "source": [
    "Оператор `if` всегда задает начало новой инструкции. В примере выше переменная var попадает на проверку в несколько инструкций, сперва мы получаем результат `True` в выражении `var == 10`, после чего выводится первое сообщение. Далее var опять проверяется следующей инструкцией, получается результат `False` и программа выводит второе сообщение, после оператора `else`. Давайте для наглядности построим блок-схему данной программы:"
   ]
  },
  {
   "cell_type": "markdown",
   "id": "15fdc0bc",
   "metadata": {},
   "source": [
    "![блок схема 1](./img/1_pics.png)\n"
   ]
  },
  {
   "cell_type": "markdown",
   "id": "d7e15be4",
   "metadata": {},
   "source": [
    "В данном случае будет корректно заменить второй if на elif, тогда мы получим единую инструкцию, которая выведет только одно верное сообщение:"
   ]
  },
  {
   "cell_type": "code",
   "execution_count": 64,
   "id": "1a8670fb",
   "metadata": {
    "vscode": {
     "languageId": "python"
    }
   },
   "outputs": [
    {
     "name": "stdout",
     "output_type": "stream",
     "text": [
      "var equal 10\n"
     ]
    }
   ],
   "source": [
    "var = 10\n",
    "if var == 10:\n",
    "    print(\"var equal 10\")\n",
    "elif var < 10:\n",
    "    print(\"var less than 10\")\n",
    "else:\n",
    "    print(\"var more than 10\")"
   ]
  },
  {
   "cell_type": "markdown",
   "id": "59141b54",
   "metadata": {},
   "source": [
    "И блок-схема данной программы будет выглядеть следующим образом:\n",
    "\n",
    "![блок схема 2](./img/2_pics.png)\n",
    "\n",
    "Конструкции if-elif-else можно использовать на разных уровнях вложенности для более сложных программ:"
   ]
  },
  {
   "cell_type": "code",
   "execution_count": null,
   "id": "d8232cf1",
   "metadata": {
    "vscode": {
     "languageId": "python"
    }
   },
   "outputs": [],
   "source": [
    "if (условие):\n",
    "    if (дополнительное условие):\n",
    "        (выполнение дополнительного условия)\n",
    "    elif (другое дополнительное условие):\n",
    "         (выполнение другого дополнительного условия)\n",
    "    elif ...\n",
    "         ... \n",
    "    ...\n",
    "    else: \n",
    "         ...\n",
    "elif (другое условие):\n",
    "    (выполнение другого условия)\n",
    "elif ... \n",
    "     ...\n",
    "else: \n",
    "     ..."
   ]
  },
  {
   "cell_type": "markdown",
   "metadata": {},
   "source": [
    "При написании условий не забывайте про приоритет операций.\n",
    "\n",
    "```2 * 2 + 2 = 6```\n",
    "\n",
    "```2 * (2 + 2) = 8```\n"
   ]
  },
  {
   "cell_type": "code",
   "execution_count": 68,
   "metadata": {
    "vscode": {
     "languageId": "python"
    }
   },
   "outputs": [
    {
     "data": {
      "text/plain": [
       "True"
      ]
     },
     "execution_count": 68,
     "metadata": {},
     "output_type": "execute_result"
    }
   ],
   "source": [
    "False and True and False or True"
   ]
  },
  {
   "cell_type": "code",
   "execution_count": 67,
   "metadata": {
    "vscode": {
     "languageId": "python"
    }
   },
   "outputs": [
    {
     "data": {
      "text/plain": [
       "False"
      ]
     },
     "execution_count": 67,
     "metadata": {},
     "output_type": "execute_result"
    }
   ],
   "source": [
    "False and (True and False or True)"
   ]
  },
  {
   "cell_type": "markdown",
   "metadata": {},
   "source": [
    "# Посчитаем зарплату"
   ]
  },
  {
   "cell_type": "code",
   "execution_count": 42,
   "metadata": {
    "vscode": {
     "languageId": "python"
    }
   },
   "outputs": [
    {
     "name": "stdout",
     "output_type": "stream",
     "text": [
      "Вам должны заплатить 6500.0р\n"
     ]
    }
   ],
   "source": [
    "price = int(input('сколько вам платят?'))\n",
    "hours = int(input('сколько часов работали'))\n",
    "minutes = input('сколько минут раболи?')\n",
    "\n",
    "if minutes == '':\n",
    "    minutes = 0\n",
    "else:\n",
    "    minutes = int(minutes)\n",
    "\n",
    "time = minutes + hours*60\n",
    "result = price*time/60\n",
    "print(f'Вам должны заплатить {result}р')"
   ]
  }
 ],
 "metadata": {
  "colab": {
   "collapsed_sections": [],
   "provenance": []
  },
  "kernelspec": {
   "display_name": "Python 3 (ipykernel)",
   "language": "python",
   "name": "python3"
  },
  "vscode": {
   "interpreter": {
    "hash": "3321a4ae4fa0f9a6d825ff8faf104d440587b222146f64a5b4a907dcf60b0c1b"
   }
  }
 },
 "nbformat": 4,
 "nbformat_minor": 1
}
