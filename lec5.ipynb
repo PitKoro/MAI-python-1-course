{
 "cells": [
  {
   "cell_type": "markdown",
   "metadata": {},
   "source": [
    "# Лекция 5 (Кортежи, словари, множества, подключение модулей)"
   ]
  },
  {
   "cell_type": "markdown",
   "id": "14bd3e1b",
   "metadata": {},
   "source": [
    "# Кортежи\n",
    "\n",
    "Как говорилось ранее, кортежи это неизменяемые списки. Их удобно использовать для защиты данных, которые не должны быть изменены. Создать кортеж можно следующим образом:"
   ]
  },
  {
   "cell_type": "code",
   "execution_count": null,
   "id": "974bff76",
   "metadata": {},
   "outputs": [
    {
     "name": "stdout",
     "output_type": "stream",
     "text": [
      "(1, 2, 3, 4, 5, 6)\n"
     ]
    }
   ],
   "source": [
    "a = (1, 2, 3, 4, 5, 6)\n",
    "print(a)"
   ]
  },
  {
   "cell_type": "markdown",
   "id": "b4c54d95",
   "metadata": {},
   "source": [
    "Чтобы создать пустой кортеж, необходимо применить метод `tuple()`:"
   ]
  },
  {
   "cell_type": "code",
   "execution_count": null,
   "id": "506bd38c",
   "metadata": {},
   "outputs": [
    {
     "name": "stdout",
     "output_type": "stream",
     "text": [
      "()\n"
     ]
    }
   ],
   "source": [
    "a = tuple()\n",
    "print(a)"
   ]
  },
  {
   "cell_type": "markdown",
   "id": "9cd76352",
   "metadata": {},
   "source": [
    "Если вам нужен кортеж из одного элемента, то он создается следующим образом:"
   ]
  },
  {
   "cell_type": "code",
   "execution_count": null,
   "id": "2db5f22f",
   "metadata": {},
   "outputs": [
    {
     "name": "stdout",
     "output_type": "stream",
     "text": [
      "(1,)\n"
     ]
    }
   ],
   "source": [
    "a = (1,)\n",
    "print(a)"
   ]
  },
  {
   "cell_type": "markdown",
   "id": "9d62bc94",
   "metadata": {},
   "source": [
    "Если не указать на конце запятую, тогда мы получим не кортеж, а элемент того типа, который мы указали:"
   ]
  },
  {
   "cell_type": "code",
   "execution_count": null,
   "id": "bca4e0e2",
   "metadata": {},
   "outputs": [
    {
     "name": "stdout",
     "output_type": "stream",
     "text": [
      "1\n"
     ]
    }
   ],
   "source": [
    "a = (1)\n",
    "print(a)"
   ]
  },
  {
   "cell_type": "markdown",
   "id": "ce4a9e2d",
   "metadata": {},
   "source": [
    "Кстати, необязательно даже указывать скобки, кортеж можно создать и без них:"
   ]
  },
  {
   "cell_type": "code",
   "execution_count": 10,
   "id": "b97e8116",
   "metadata": {},
   "outputs": [
    {
     "name": "stdout",
     "output_type": "stream",
     "text": [
      "(1, 2, 3, 4)\n"
     ]
    }
   ],
   "source": [
    "a = 1, 2, 3, 4\n",
    "print(a)"
   ]
  },
  {
   "cell_type": "markdown",
   "metadata": {},
   "source": [
    "Также кортежи могут хранить самые разные данные:"
   ]
  },
  {
   "cell_type": "code",
   "execution_count": 20,
   "metadata": {},
   "outputs": [
    {
     "name": "stdout",
     "output_type": "stream",
     "text": [
      "(True, [1, 2, 3], 'hello', 5, {'house': 'дом'})\n"
     ]
    }
   ],
   "source": [
    "a = (True, [1,2,3], \"hello\", 5, {\"house\": \"дом\"})\n",
    "print(a)"
   ]
  },
  {
   "cell_type": "markdown",
   "metadata": {},
   "source": [
    "Причем, смотрите, если обратиться, например, к списку:"
   ]
  },
  {
   "cell_type": "code",
   "execution_count": 21,
   "metadata": {},
   "outputs": [
    {
     "data": {
      "text/plain": [
       "[1, 2, 3]"
      ]
     },
     "execution_count": 21,
     "metadata": {},
     "output_type": "execute_result"
    }
   ],
   "source": [
    "a[1]"
   ]
  },
  {
   "cell_type": "markdown",
   "metadata": {},
   "source": [
    "то сам по себе список – это изменяемый тип, следовательно, его значение даже в кортеже мы можем спокойно менять:"
   ]
  },
  {
   "cell_type": "code",
   "execution_count": 22,
   "metadata": {},
   "outputs": [
    {
     "name": "stdout",
     "output_type": "stream",
     "text": [
      "(True, [1, 2, 3, '5'], 'hello', 5, {'house': 'дом'})\n"
     ]
    }
   ],
   "source": [
    "a[1].append(\"5\")\n",
    "print(a)"
   ]
  },
  {
   "cell_type": "markdown",
   "id": "f2f59f13",
   "metadata": {},
   "source": [
    "То есть, неизменяемость кортежа относится к его структуре элементов и переменным\n",
    "\n",
    "![](img/tuple_structure.jpg)\n",
    "\n",
    "которые ссылаются на конкретные объекты. Но, если объекты могут изменяться, то это никто не запрещает делать."
   ]
  },
  {
   "cell_type": "markdown",
   "metadata": {},
   "source": [
    "Над кортежами работают все операции, работающие со списками, которые не вносят изменения в список:"
   ]
  },
  {
   "cell_type": "code",
   "execution_count": 23,
   "metadata": {},
   "outputs": [
    {
     "data": {
      "text/plain": [
       "2"
      ]
     },
     "execution_count": 23,
     "metadata": {},
     "output_type": "execute_result"
    }
   ],
   "source": [
    "a = (\"abc\", 2, [1,2], True, 2, 5)\n",
    "a.count(\"abc\")\n",
    "a.count(2)"
   ]
  },
  {
   "cell_type": "code",
   "execution_count": 24,
   "metadata": {},
   "outputs": [
    {
     "data": {
      "text/plain": [
       "1"
      ]
     },
     "execution_count": 24,
     "metadata": {},
     "output_type": "execute_result"
    }
   ],
   "source": [
    "a.index(2)"
   ]
  },
  {
   "cell_type": "markdown",
   "id": "8d492d9a",
   "metadata": {},
   "source": [
    "# Множества\n",
    "\n",
    "Множества содержат неповторяющиеся данные в произвольном порядке. Создадим множество несколькими способами:"
   ]
  },
  {
   "cell_type": "code",
   "execution_count": 5,
   "id": "f8007eb3",
   "metadata": {},
   "outputs": [
    {
     "name": "stdout",
     "output_type": "stream",
     "text": [
      "set()\n"
     ]
    }
   ],
   "source": [
    "a = set()\n",
    "print(a)"
   ]
  },
  {
   "cell_type": "code",
   "execution_count": 26,
   "id": "18076db4",
   "metadata": {},
   "outputs": [
    {
     "name": "stdout",
     "output_type": "stream",
     "text": [
      "{'b', 'd', 'm', 'l', 'a'}\n"
     ]
    }
   ],
   "source": [
    "a = set('lambda')\n",
    "print(a)"
   ]
  },
  {
   "cell_type": "code",
   "execution_count": 27,
   "id": "92eb78d5",
   "metadata": {},
   "outputs": [
    {
     "name": "stdout",
     "output_type": "stream",
     "text": [
      "{'b', 'd', 'm', 'a', 'l'}\n"
     ]
    }
   ],
   "source": [
    "a = {'m', 'a', 'd', 'l', 'b'}\n",
    "print(a)"
   ]
  },
  {
   "cell_type": "code",
   "execution_count": 28,
   "id": "6cf11648",
   "metadata": {},
   "outputs": [
    {
     "name": "stdout",
     "output_type": "stream",
     "text": [
      "{0, 1, 64, 4, 36, 9, 16, 49, 81, 25}\n"
     ]
    }
   ],
   "source": [
    "a = {i ** 2 for i in range(10)}\n",
    "print(a)"
   ]
  },
  {
   "cell_type": "markdown",
   "id": "6d8d5760",
   "metadata": {},
   "source": [
    "Множества удобно использовать для удаления повторяющихся элементов:"
   ]
  },
  {
   "cell_type": "code",
   "execution_count": 29,
   "id": "95ab2929",
   "metadata": {},
   "outputs": [
    {
     "data": {
      "text/plain": [
       "{'best', 'lambda', 'mai'}"
      ]
     },
     "execution_count": 29,
     "metadata": {},
     "output_type": "execute_result"
    }
   ],
   "source": [
    "words = ['lambda', 'best', 'mai', 'mai']\n",
    "set(words)"
   ]
  },
  {
   "cell_type": "markdown",
   "id": "36dbb1ce",
   "metadata": {},
   "source": [
    "## Методы для работы со множествами\n",
    "Методы множеств, в основном, вызываются по схеме: `set.method()`. Ниже будут перечислены полезные методы для работы с множествами:\n",
    "\n",
    "- `len(s)` - число элементов в множестве (размер множества)"
   ]
  },
  {
   "cell_type": "code",
   "execution_count": null,
   "id": "7e9669e7",
   "metadata": {},
   "outputs": [
    {
     "data": {
      "text/plain": [
       "5"
      ]
     },
     "metadata": {},
     "output_type": "display_data"
    }
   ],
   "source": [
    "a = {'l', 'a', 'm', 'b', 'd', 'a'}\n",
    "len(a)"
   ]
  },
  {
   "cell_type": "markdown",
   "id": "ec5fd79f",
   "metadata": {},
   "source": [
    "- `x in s` - принадлежит ли `x` множеству `s`"
   ]
  },
  {
   "cell_type": "code",
   "execution_count": null,
   "id": "883252c6",
   "metadata": {},
   "outputs": [
    {
     "data": {
      "text/plain": [
       "True"
      ]
     },
     "metadata": {},
     "output_type": "display_data"
    }
   ],
   "source": [
    "a = {'l', 'a', 'm', 'b', 'd', 'a'}\n",
    "'a' in a"
   ]
  },
  {
   "cell_type": "markdown",
   "id": "d7b1c09d",
   "metadata": {},
   "source": [
    "- `isdisjoint(other)` - истина, если `set` и `other` не имеют общих элементов"
   ]
  },
  {
   "cell_type": "code",
   "execution_count": null,
   "id": "4e465fc3",
   "metadata": {},
   "outputs": [
    {
     "data": {
      "text/plain": [
       "False"
      ]
     },
     "metadata": {},
     "output_type": "display_data"
    }
   ],
   "source": [
    "a = {'l', 'a', 'm', 'b', 'd', 'a'}\n",
    "a.isdisjoint('a')"
   ]
  },
  {
   "cell_type": "code",
   "execution_count": null,
   "id": "8789de31",
   "metadata": {},
   "outputs": [
    {
     "data": {
      "text/plain": [
       "True"
      ]
     },
     "metadata": {},
     "output_type": "display_data"
    }
   ],
   "source": [
    "a.isdisjoint('f')"
   ]
  },
  {
   "cell_type": "markdown",
   "id": "5825164a",
   "metadata": {},
   "source": [
    " - `set.issubset(other)` или `set <= other` - истина, если все элементы `set` принадлежат `other`\n",
    " - `set.issuperset(other)` или `set >= other` - аналогично"
   ]
  },
  {
   "cell_type": "code",
   "execution_count": null,
   "id": "1f6533a7",
   "metadata": {},
   "outputs": [
    {
     "data": {
      "text/plain": [
       "False"
      ]
     },
     "metadata": {},
     "output_type": "display_data"
    }
   ],
   "source": [
    "a = {'l', 'a', 'm', 'b', 'd', 'a'}\n",
    "a.issubset({'a', 'b', 'c', 'd','f','e'})"
   ]
  },
  {
   "cell_type": "code",
   "execution_count": null,
   "id": "206761ca",
   "metadata": {},
   "outputs": [
    {
     "data": {
      "text/plain": [
       "False"
      ]
     },
     "metadata": {},
     "output_type": "display_data"
    }
   ],
   "source": [
    "a.issuperset({'a', 'b', 'c', 'd','f','e'})"
   ]
  },
  {
   "cell_type": "markdown",
   "id": "e6dc3588",
   "metadata": {},
   "source": [
    "- `union(other, ...)` или `set | other | ...` - возвращает объединение нескольких множеств\n",
    "\n",
    "![](img/set_union.png)"
   ]
  },
  {
   "cell_type": "code",
   "execution_count": 32,
   "id": "beff51d1",
   "metadata": {},
   "outputs": [
    {
     "name": "stdout",
     "output_type": "stream",
     "text": [
      "{'b', 'd', 'm', 'f', 'a', 'l'}\n",
      "{'b', 'd', 'm', 'a', 'l'}\n"
     ]
    }
   ],
   "source": [
    "a = {'l', 'a', 'm', 'b', 'd', 'a'}\n",
    "new_a = a.union({'f','d'})\n",
    "print(new_a)\n",
    "print(a)"
   ]
  },
  {
   "cell_type": "markdown",
   "id": "8978b8a0",
   "metadata": {},
   "source": [
    "- `intersection(other, ...)` или `set & other & ...` - возвращает пересечение множеств\n",
    "\n",
    "![](img/set_intersection.png)"
   ]
  },
  {
   "cell_type": "code",
   "execution_count": 31,
   "id": "4fa46004",
   "metadata": {},
   "outputs": [
    {
     "name": "stdout",
     "output_type": "stream",
     "text": [
      "{'a'}\n",
      "{'b', 'd', 'm', 'a', 'l'}\n"
     ]
    }
   ],
   "source": [
    "a = {'l', 'a', 'm', 'b', 'd', 'a'}\n",
    "new_a = a.intersection({'f','a'})\n",
    "print(new_a)\n",
    "print(a)"
   ]
  },
  {
   "cell_type": "markdown",
   "id": "fba4e5d9",
   "metadata": {},
   "source": [
    "- `difference(other, ...)` или `set - other - ...` -возвращает множество из всех элементов set, не принадлежащие ни одному из other\n",
    "\n",
    "![](img/set_difference.png)"
   ]
  },
  {
   "cell_type": "code",
   "execution_count": null,
   "id": "d62bb2da",
   "metadata": {},
   "outputs": [
    {
     "data": {
      "text/plain": [
       "{'b', 'l', 'm'}"
      ]
     },
     "metadata": {},
     "output_type": "display_data"
    }
   ],
   "source": [
    "a = {'l', 'a', 'm', 'b', 'd', 'a'}\n",
    "a.difference({'a','f','d'})"
   ]
  },
  {
   "cell_type": "markdown",
   "id": "b3afaae3",
   "metadata": {},
   "source": [
    "- `symmetric_difference(other)`; `set ^ other` - возвращает множество из элементов, встречающихся в одном множестве, но не встречающиеся в обоих\n",
    "\n",
    "![](img/set_symmetric_difference.png)"
   ]
  },
  {
   "cell_type": "code",
   "execution_count": null,
   "id": "a803a23a",
   "metadata": {},
   "outputs": [
    {
     "data": {
      "text/plain": [
       "{'b', 'c'}"
      ]
     },
     "metadata": {},
     "output_type": "display_data"
    }
   ],
   "source": [
    "a = {'a', 'b', 'c', 'd'}\n",
    "a.symmetric_difference({'a','d'})"
   ]
  },
  {
   "cell_type": "markdown",
   "id": "75675b9d",
   "metadata": {},
   "source": [
    "- `copy()` - копия множества"
   ]
  },
  {
   "cell_type": "code",
   "execution_count": null,
   "id": "6163dc21",
   "metadata": {},
   "outputs": [
    {
     "name": "stdout",
     "output_type": "stream",
     "text": [
      "{'a', 'b', 'd', 'c'}\n"
     ]
    }
   ],
   "source": [
    "a = {'a', 'b', 'c', 'd'}\n",
    "d = a.copy()\n",
    "print(d)"
   ]
  },
  {
   "cell_type": "markdown",
   "id": "7f96d6f4",
   "metadata": {},
   "source": [
    "- `update(other, ...)`; `set |= other | ...` - объединение множеств. Метод, вносящий изменения в множество"
   ]
  },
  {
   "cell_type": "code",
   "execution_count": null,
   "id": "5650d61a",
   "metadata": {},
   "outputs": [
    {
     "name": "stdout",
     "output_type": "stream",
     "text": [
      "{'c', 'w', 'z', 'a', 'b', 'd'}\n"
     ]
    }
   ],
   "source": [
    "a = {'a', 'b', 'c', 'd'}\n",
    "a.update({'w','z'})\n",
    "print(a)"
   ]
  },
  {
   "cell_type": "markdown",
   "id": "4d8c8bdc",
   "metadata": {},
   "source": [
    "- `intersection_update(other, ...)`; `set &= other & ...` - пересечение множеств. Метод, вносящий изменения в множество\n"
   ]
  },
  {
   "cell_type": "code",
   "execution_count": null,
   "id": "a80b5169",
   "metadata": {},
   "outputs": [
    {
     "name": "stdout",
     "output_type": "stream",
     "text": [
      "{'a', 'd'}\n"
     ]
    }
   ],
   "source": [
    "a = {'a', 'b', 'c', 'd'}\n",
    "a.intersection_update({'a','d'})\n",
    "print(a)"
   ]
  },
  {
   "cell_type": "markdown",
   "id": "3021b531",
   "metadata": {},
   "source": [
    "- `difference_update(other, ...); set -= other | ...` - вычитание множеств. Метод, вносящий изменения в множество"
   ]
  },
  {
   "cell_type": "code",
   "execution_count": null,
   "id": "2d1d46c1",
   "metadata": {},
   "outputs": [
    {
     "name": "stdout",
     "output_type": "stream",
     "text": [
      "{'c', 'b'}\n"
     ]
    }
   ],
   "source": [
    "a = {'a', 'b', 'c', 'd'}\n",
    "a.difference_update({'a','d'})\n",
    "print(a)"
   ]
  },
  {
   "cell_type": "markdown",
   "id": "61df88f5",
   "metadata": {},
   "source": [
    "- `symmetric_difference_update(other); set ^= other` - множество из элементов, встречающихся в одном множестве, но не встречающиеся в обоих. Метод, вносящий изменения в множество"
   ]
  },
  {
   "cell_type": "code",
   "execution_count": null,
   "id": "f4dc2bc5",
   "metadata": {},
   "outputs": [
    {
     "name": "stdout",
     "output_type": "stream",
     "text": [
      "{'d', 'c'}\n"
     ]
    }
   ],
   "source": [
    "a = {'a', 'b', 'c', 'd'}\n",
    "a.symmetric_difference_update({'a','b'})\n",
    "print(a)"
   ]
  },
  {
   "cell_type": "markdown",
   "id": "707c8cca",
   "metadata": {},
   "source": [
    "- `add(elem)` - добавляет элемент в множество. Метод, вносящий изменения в множество"
   ]
  },
  {
   "cell_type": "code",
   "execution_count": 37,
   "id": "e5b4aaaf",
   "metadata": {},
   "outputs": [
    {
     "name": "stdout",
     "output_type": "stream",
     "text": [
      "{'b', 'd', 'r', 'c', 'a'}\n"
     ]
    }
   ],
   "source": [
    "a = {'a', 'b', 'c', 'd'}\n",
    "a.add('r')\n",
    "print(a)"
   ]
  },
  {
   "cell_type": "markdown",
   "id": "27d4d99f",
   "metadata": {},
   "source": [
    "- `remove(elem)` - удаляет элемент из множества. KeyError, если такого элемента не существует. Метод, вносящий изменения в множество"
   ]
  },
  {
   "cell_type": "code",
   "execution_count": null,
   "id": "ad54da2e",
   "metadata": {},
   "outputs": [
    {
     "name": "stdout",
     "output_type": "stream",
     "text": [
      "{'a', 'd', 'c'}\n"
     ]
    }
   ],
   "source": [
    "a = {'a', 'b', 'c', 'd'}\n",
    "a.remove('b')\n",
    "print(a)"
   ]
  },
  {
   "cell_type": "markdown",
   "id": "9fc9363c",
   "metadata": {},
   "source": [
    "- `discard(elem)` - удаляет элемент, если он находится в множестве. Метод, вносящий изменения в множество"
   ]
  },
  {
   "cell_type": "code",
   "execution_count": null,
   "id": "7890fde2",
   "metadata": {},
   "outputs": [
    {
     "name": "stdout",
     "output_type": "stream",
     "text": [
      "{'a', 'b', 'd'}\n"
     ]
    }
   ],
   "source": [
    "a = {'a', 'b', 'c', 'd'}\n",
    "a.discard('c')\n",
    "print(a)"
   ]
  },
  {
   "cell_type": "markdown",
   "id": "4771964d",
   "metadata": {},
   "source": [
    "- `pop()` - удаляет первый элемент из множества. Так как множества не упорядочены, нельзя точно сказать, какой элемент будет первым. Метод, вносящий изменения в множество"
   ]
  },
  {
   "cell_type": "code",
   "execution_count": null,
   "id": "66207788",
   "metadata": {},
   "outputs": [
    {
     "data": {
      "text/plain": [
       "'a'"
      ]
     },
     "metadata": {},
     "output_type": "display_data"
    }
   ],
   "source": [
    "a = {'a', 'b', 'c', 'd'}\n",
    "a.pop()"
   ]
  },
  {
   "cell_type": "code",
   "execution_count": null,
   "id": "a0ac488f",
   "metadata": {},
   "outputs": [
    {
     "name": "stdout",
     "output_type": "stream",
     "text": [
      "{'b', 'd', 'c'}\n"
     ]
    }
   ],
   "source": [
    "print(a)"
   ]
  },
  {
   "cell_type": "markdown",
   "id": "4d303cc6",
   "metadata": {},
   "source": [
    "- `clear()` - очистка множества. Метод, вносящий изменения в множество"
   ]
  },
  {
   "cell_type": "code",
   "execution_count": null,
   "id": "a0d5a959",
   "metadata": {},
   "outputs": [
    {
     "name": "stdout",
     "output_type": "stream",
     "text": [
      "set()\n"
     ]
    }
   ],
   "source": [
    "a = {'a', 'b', 'c', 'd'}\n",
    "a.clear()\n",
    "print(a)"
   ]
  },
  {
   "cell_type": "markdown",
   "id": "c3790753",
   "metadata": {},
   "source": [
    "`frozenset`: единственное отличие от `set` заключается в том, что `frozenset` не меняется, соответственно, к `frozenset` можно применить только те методы, которые не меняют множество."
   ]
  },
  {
   "cell_type": "markdown",
   "id": "9cfa3e26",
   "metadata": {},
   "source": [
    "# Словари\n",
    "\n",
    "\n",
    "\n",
    "Словари - это неупорядоченные коллекции пар \"ключ-значение\". Т.к. словари являются неупорядоченными коллекциями, то к ним не применяется понятие индекса элемента и не применяется операция извлечения среза.\n",
    "\n",
    "\n",
    "Чтобы создать словарь можно использовать метод `dict()`:"
   ]
  },
  {
   "cell_type": "code",
   "execution_count": null,
   "id": "0a89ef94",
   "metadata": {},
   "outputs": [
    {
     "name": "stdout",
     "output_type": "stream",
     "text": [
      "{'short': 'dict', 'long': 'dictionary'}\n"
     ]
    }
   ],
   "source": [
    "d = dict(short='dict', long='dictionary')\n",
    "print(d)"
   ]
  },
  {
   "cell_type": "code",
   "execution_count": null,
   "id": "ef5a6316",
   "metadata": {},
   "outputs": [
    {
     "name": "stdout",
     "output_type": "stream",
     "text": [
      "{1: 1, 2: 4}\n"
     ]
    }
   ],
   "source": [
    "d = dict([(1, 1), (2, 4)])\n",
    "print(d)"
   ]
  },
  {
   "cell_type": "markdown",
   "id": "4f2c7461",
   "metadata": {},
   "source": [
    "В созданных выше словарях мы получили пары \"ключ-значение\", в частности ключ short и соответствующее ему значение dict.\n",
    "\n",
    "Также можно создать словарь следующим образом:"
   ]
  },
  {
   "cell_type": "code",
   "execution_count": null,
   "id": "2538fa28",
   "metadata": {},
   "outputs": [
    {
     "name": "stdout",
     "output_type": "stream",
     "text": [
      "{}\n",
      "{'dict': 1, 'dictionary': 2}\n"
     ]
    }
   ],
   "source": [
    "d = {}\n",
    "print(d)\n",
    "\n",
    "d = {'dict': 1, 'dictionary': 2}\n",
    "print(d)"
   ]
  },
  {
   "cell_type": "markdown",
   "id": "ea49c6fc",
   "metadata": {},
   "source": [
    "Еще один способ - использовать метод `fromkeys()`:"
   ]
  },
  {
   "cell_type": "code",
   "execution_count": null,
   "id": "47633058",
   "metadata": {},
   "outputs": [
    {
     "name": "stdout",
     "output_type": "stream",
     "text": [
      "{'a': None, 'b': None}\n"
     ]
    }
   ],
   "source": [
    "d = dict.fromkeys(['a', 'b'])\n",
    "print(d)"
   ]
  },
  {
   "cell_type": "code",
   "execution_count": null,
   "id": "bae5c362",
   "metadata": {},
   "outputs": [
    {
     "name": "stdout",
     "output_type": "stream",
     "text": [
      "{'a': 100, 'b': 100}\n"
     ]
    }
   ],
   "source": [
    "d = dict.fromkeys(['a', 'b'], 100)\n",
    "print(d)"
   ]
  },
  {
   "cell_type": "markdown",
   "id": "db61a1c0",
   "metadata": {},
   "source": [
    "Также можно использовать генератор словарей:"
   ]
  },
  {
   "cell_type": "code",
   "execution_count": null,
   "id": "c6707d4d",
   "metadata": {},
   "outputs": [
    {
     "name": "stdout",
     "output_type": "stream",
     "text": [
      "{0: 0, 1: 1, 2: 4, 3: 9, 4: 16, 5: 25, 6: 36}\n"
     ]
    }
   ],
   "source": [
    "d = {a: a ** 2 for a in range(7)}\n",
    "print(d)"
   ]
  },
  {
   "cell_type": "markdown",
   "id": "f1590926",
   "metadata": {},
   "source": [
    "Как можно работать со словарями:"
   ]
  },
  {
   "cell_type": "code",
   "execution_count": null,
   "id": "72398f56",
   "metadata": {},
   "outputs": [
    {
     "name": "stdout",
     "output_type": "stream",
     "text": [
      "2\n"
     ]
    }
   ],
   "source": [
    "d = {1: 2, 2: 4, 3: 9}\n",
    "print(d[1])"
   ]
  },
  {
   "cell_type": "code",
   "execution_count": null,
   "id": "b7d615ed",
   "metadata": {},
   "outputs": [
    {
     "name": "stdout",
     "output_type": "stream",
     "text": [
      "{1: 2, 2: 4, 3: 9, 4: 16}\n"
     ]
    }
   ],
   "source": [
    "d[4] = 4 ** 2\n",
    "print(d)"
   ]
  },
  {
   "cell_type": "code",
   "execution_count": null,
   "id": "98b7fadf",
   "metadata": {},
   "outputs": [
    {
     "ename": "KeyError",
     "evalue": "'1'",
     "output_type": "error",
     "traceback": [
      "\u001b[0;31m---------------------------------------------------------------------------\u001b[0m\n",
      "\u001b[0;31mKeyError\u001b[0m                                  Traceback (most recent call last)\n",
      "\u001b[0;32m<ipython-input-9-e142bffca921>\u001b[0m in \u001b[0;36m<module>\u001b[0;34m\u001b[0m\n",
      "\u001b[0;32m----> 1\u001b[0;31m \u001b[0md\u001b[0m\u001b[0;34m[\u001b[0m\u001b[0;34m'1'\u001b[0m\u001b[0;34m]\u001b[0m\u001b[0;34m\u001b[0m\u001b[0;34m\u001b[0m\u001b[0m\n",
      "\u001b[0m\n",
      "\u001b[0;31mKeyError\u001b[0m: '1'"
     ]
    }
   ],
   "source": [
    "d['1']"
   ]
  },
  {
   "cell_type": "markdown",
   "id": "60051a25",
   "metadata": {},
   "source": [
    "В первом случае мы обратились к ключу \"1\", после чего получили вывод на экран его значения \"2\". Затем мы создали новый ключ \"4\" и присвоили ему значение \"16\", после чего эта пара добавилась к нашему словарю. В последнем примере мы попробовали обратиться к несуществующему ключу, поскольку значение '1' стоит в кавычках, а значит это другой тип данных, которого нет в нашем словаре, после чего получили сообщение о том, что такого ключа нет."
   ]
  },
  {
   "cell_type": "markdown",
   "id": "6ff24810",
   "metadata": {},
   "source": [
    "## Методы для работы со словарями\n",
    "\n",
    "\n",
    "Методы вызываются по схеме: `dict.method()`. Ниже будут перечислены полезные методы для работы со словарями:\n",
    "\n",
    "- `clear()` - очищает словарь"
   ]
  },
  {
   "cell_type": "code",
   "execution_count": null,
   "id": "74ab3510",
   "metadata": {},
   "outputs": [
    {
     "name": "stdout",
     "output_type": "stream",
     "text": [
      "{}\n"
     ]
    }
   ],
   "source": [
    "d = {'a': 1, 'b': 2}\n",
    "d.clear()\n",
    "print(d)"
   ]
  },
  {
   "cell_type": "markdown",
   "id": "318d7d4f",
   "metadata": {},
   "source": [
    "- `copy()` - возвращает копию словаря"
   ]
  },
  {
   "cell_type": "code",
   "execution_count": null,
   "id": "8f1501d6",
   "metadata": {},
   "outputs": [
    {
     "name": "stdout",
     "output_type": "stream",
     "text": [
      "{'a': 1, 'b': 2}\n"
     ]
    }
   ],
   "source": [
    "d = {'a': 1, 'b': 2}\n",
    "b = d.copy()\n",
    "print(b)"
   ]
  },
  {
   "cell_type": "markdown",
   "id": "e5cf16d3",
   "metadata": {},
   "source": [
    "- `fromkeys(seq[,value])` - создает словарь с ключами из seq и значением value"
   ]
  },
  {
   "cell_type": "code",
   "execution_count": null,
   "id": "bb97213b",
   "metadata": {},
   "outputs": [
    {
     "data": {
      "text/plain": [
       "{'a': 10, 'b': 10}"
      ]
     },
     "metadata": {},
     "output_type": "display_data"
    }
   ],
   "source": [
    "d.fromkeys(['a', 'b'], 10)"
   ]
  },
  {
   "cell_type": "markdown",
   "id": "be4f649f",
   "metadata": {},
   "source": [
    "- `get(key[, default])` - возвращает значение ключа, но если его нет, возвращает `default`"
   ]
  },
  {
   "cell_type": "code",
   "execution_count": null,
   "id": "9ce6d93d",
   "metadata": {},
   "outputs": [
    {
     "data": {
      "text/plain": [
       "1"
      ]
     },
     "metadata": {},
     "output_type": "display_data"
    }
   ],
   "source": [
    "d = {'a': 1, 'b': 2}\n",
    "d.get('a')"
   ]
  },
  {
   "cell_type": "markdown",
   "id": "dba6d1ac",
   "metadata": {},
   "source": [
    "- `items()` - возвращает пары (ключ, значение)"
   ]
  },
  {
   "cell_type": "code",
   "execution_count": 40,
   "metadata": {},
   "outputs": [
    {
     "name": "stdout",
     "output_type": "stream",
     "text": [
      "dict_items([('a', 1), ('b', 2)])\n"
     ]
    }
   ],
   "source": [
    "d = {'a': 1, 'b': 2}\n",
    "print(d.items())"
   ]
  },
  {
   "cell_type": "code",
   "execution_count": 39,
   "id": "eb90fec7",
   "metadata": {},
   "outputs": [
    {
     "name": "stdout",
     "output_type": "stream",
     "text": [
      "('a', 1)\n",
      "('b', 2)\n"
     ]
    }
   ],
   "source": [
    "d = {'a': 1, 'b': 2}\n",
    "\n",
    "for el in d.items():\n",
    "    print(el)"
   ]
  },
  {
   "cell_type": "markdown",
   "id": "4f3b635a",
   "metadata": {},
   "source": [
    "-     `keys()` - возвращает ключи в словаре"
   ]
  },
  {
   "cell_type": "code",
   "execution_count": null,
   "id": "096047b9",
   "metadata": {},
   "outputs": [
    {
     "name": "stdout",
     "output_type": "stream",
     "text": [
      "dict_keys(['a', 'b'])\n"
     ]
    }
   ],
   "source": [
    "d = {'a': 1, 'b': 2}\n",
    "print(d.keys())"
   ]
  },
  {
   "cell_type": "markdown",
   "id": "96011b97",
   "metadata": {},
   "source": [
    "-     `pop(key[, default])` - удаляет ключ и возвращает значение. Если ключа нет, возвращает `default` (по умолчанию бросает исключение)."
   ]
  },
  {
   "cell_type": "code",
   "execution_count": 42,
   "id": "c9247177",
   "metadata": {},
   "outputs": [
    {
     "data": {
      "text/plain": [
       "1"
      ]
     },
     "execution_count": 42,
     "metadata": {},
     "output_type": "execute_result"
    }
   ],
   "source": [
    "d = {'a': 1, 'b': 2}\n",
    "d.pop('a')"
   ]
  },
  {
   "cell_type": "code",
   "execution_count": null,
   "id": "51590344",
   "metadata": {},
   "outputs": [
    {
     "name": "stdout",
     "output_type": "stream",
     "text": [
      "{'b': 2}\n"
     ]
    }
   ],
   "source": [
    "print(d)"
   ]
  },
  {
   "cell_type": "markdown",
   "id": "1c42bba0",
   "metadata": {},
   "source": [
    "-  `popitem()` - удаляет и возвращает пару (ключ, значение) с конца"
   ]
  },
  {
   "cell_type": "code",
   "execution_count": null,
   "id": "b67e9de1",
   "metadata": {},
   "outputs": [
    {
     "data": {
      "text/plain": [
       "('b', 2)"
      ]
     },
     "metadata": {},
     "output_type": "display_data"
    }
   ],
   "source": [
    "d = {'a': 1, 'b': 2}\n",
    "d.popitem()"
   ]
  },
  {
   "cell_type": "code",
   "execution_count": null,
   "id": "4e4606bb",
   "metadata": {},
   "outputs": [
    {
     "name": "stdout",
     "output_type": "stream",
     "text": [
      "{'a': 1}\n"
     ]
    }
   ],
   "source": [
    "print(d)"
   ]
  },
  {
   "cell_type": "markdown",
   "id": "e907cdea",
   "metadata": {},
   "source": [
    "-  `setdefault(key[, default])` - возвращает значение ключа, но если его нет, создает ключ с значением `default`"
   ]
  },
  {
   "cell_type": "code",
   "execution_count": 49,
   "id": "5b22528c",
   "metadata": {},
   "outputs": [
    {
     "data": {
      "text/plain": [
       "6"
      ]
     },
     "execution_count": 49,
     "metadata": {},
     "output_type": "execute_result"
    }
   ],
   "source": [
    "d = {'a': 1, 'b': 2}\n",
    "d.setdefault('e', 6)\n"
   ]
  },
  {
   "cell_type": "code",
   "execution_count": null,
   "id": "2ecfbd7c",
   "metadata": {},
   "outputs": [
    {
     "name": "stdout",
     "output_type": "stream",
     "text": [
      "{'a': 1, 'b': 2, 'e': 6, 'f': None}\n"
     ]
    }
   ],
   "source": [
    "d.setdefault('f')\n",
    "print(d)"
   ]
  },
  {
   "cell_type": "markdown",
   "id": "64c36738",
   "metadata": {},
   "source": [
    "-     `update([other])` - обновляет словарь, добавляя пары (ключ, значение) из other. Существующие ключи перезаписываются"
   ]
  },
  {
   "cell_type": "code",
   "execution_count": 51,
   "id": "4512fd69",
   "metadata": {},
   "outputs": [
    {
     "name": "stdout",
     "output_type": "stream",
     "text": [
      "{'a': 1, 'b': 2, 'c': 5}\n"
     ]
    }
   ],
   "source": [
    "d = {'a': 1, 'b': 2}\n",
    "d.update({'c':5})\n",
    "print(d)"
   ]
  },
  {
   "cell_type": "markdown",
   "id": "f9438db0",
   "metadata": {},
   "source": [
    "- `values()` - возвращает значения в словаре"
   ]
  },
  {
   "cell_type": "code",
   "execution_count": null,
   "id": "2c16d84d",
   "metadata": {},
   "outputs": [
    {
     "data": {
      "text/plain": [
       "dict_values([1, 2])"
      ]
     },
     "metadata": {},
     "output_type": "display_data"
    }
   ],
   "source": [
    "d = {'a': 1, 'b': 2}\n",
    "d.values()"
   ]
  },
  {
   "cell_type": "markdown",
   "id": "d36d4b75",
   "metadata": {},
   "source": [
    "# Подключение модулей\n",
    "\n",
    "\n",
    "Модулем в Python называется любой файл с программой с расширением `.py`. То есть любой ваш код, заключенный в файл, является модулем. Когда разрабатывается любая программа, она редко ограничивается одним файлом. Обычно это набор файлов. Для того, чтобы не писать один и тот же код в каждом файле, к каждому файлу можно подключить другой файл. Подключив другой файл (модуль), из него можно достать полезный метод, который может понадобиться.\n",
    "\n",
    "Давайте в качестве примера подключим стандартный модуль `datetime`, чтобы достать оттуда метод `datetime.today()`:"
   ]
  },
  {
   "cell_type": "code",
   "execution_count": null,
   "id": "6c492977",
   "metadata": {},
   "outputs": [
    {
     "name": "stdout",
     "output_type": "stream",
     "text": [
      "2021-09-18 22:03:07.956030\n"
     ]
    }
   ],
   "source": [
    "import datetime\n",
    "print(datetime.datetime.today()) "
   ]
  },
  {
   "cell_type": "markdown",
   "id": "57cf0812",
   "metadata": {},
   "source": [
    "Подключив стандартный модуль, мы достали метод получения текущей даты и времени, после чего вызвали его и получили вывод на экран. На языке Python очень много дополнительных библиотек, которые можно доустановить и затем вызвать необходимые методы для улучшения работоспособности своего кода, а зачастую и раскрывая новые возможности. Прежде чем начать работать с новой для себя библиотекой, стоит ознакомиться с ее методами, чтобы эффективно использовать в своей работе.\n",
    "\n",
    "Также можно использовать псевдонимы для модулей, чтобы сократить их названия:"
   ]
  },
  {
   "cell_type": "code",
   "execution_count": null,
   "id": "ebe77256",
   "metadata": {},
   "outputs": [
    {
     "name": "stdout",
     "output_type": "stream",
     "text": [
      "2021-09-18 22:03:36.903507\n"
     ]
    }
   ],
   "source": [
    "import datetime as m\n",
    "print(m.datetime.today())"
   ]
  },
  {
   "cell_type": "markdown",
   "id": "bbe97451",
   "metadata": {},
   "source": [
    "Можно сделать подключение модуля еще удобнее использовав инструкцию `from`:"
   ]
  },
  {
   "cell_type": "code",
   "execution_count": null,
   "id": "f9f2a8c0",
   "metadata": {},
   "outputs": [
    {
     "name": "stdout",
     "output_type": "stream",
     "text": [
      "2021-09-18 22:04:06.733078\n"
     ]
    }
   ],
   "source": [
    "from datetime import datetime as m\n",
    "print(m.today())"
   ]
  },
  {
   "cell_type": "markdown",
   "id": "70f44711",
   "metadata": {},
   "source": [
    "Также мы можем достать все методы сразу, использовав символ *:"
   ]
  },
  {
   "cell_type": "code",
   "execution_count": 57,
   "id": "6db10232",
   "metadata": {},
   "outputs": [
    {
     "data": {
      "text/plain": [
       "1"
      ]
     },
     "execution_count": 57,
     "metadata": {},
     "output_type": "execute_result"
    }
   ],
   "source": [
    "from datetime import *\n",
    "\n",
    "MINYEAR"
   ]
  },
  {
   "cell_type": "code",
   "execution_count": 68,
   "metadata": {},
   "outputs": [
    {
     "name": "stdout",
     "output_type": "stream",
     "text": [
      "['./img/2_loop.png', './img/2_pics.png', './img/1_pics.png', './img/set_symmetric_difference.png', './img/1_loop.png', './img/tuple_structure.jpg', './img/exeption.png', './img/3_loop.png', './img/set_intersection.png', './img/set_difference.png', './img/set_union.png']\n"
     ]
    }
   ],
   "source": [
    "from glob import glob\n",
    "\n",
    "img_paths = glob('./img/*')\n",
    "print(img_paths)"
   ]
  },
  {
   "cell_type": "code",
   "execution_count": 69,
   "metadata": {},
   "outputs": [
    {
     "name": "stdout",
     "output_type": "stream",
     "text": [
      "['./img/2_loop.png',\n",
      " './img/2_pics.png',\n",
      " './img/1_pics.png',\n",
      " './img/set_symmetric_difference.png',\n",
      " './img/1_loop.png',\n",
      " './img/tuple_structure.jpg',\n",
      " './img/exeption.png',\n",
      " './img/3_loop.png',\n",
      " './img/set_intersection.png',\n",
      " './img/set_difference.png',\n",
      " './img/set_union.png']\n"
     ]
    }
   ],
   "source": [
    "from glob import glob\n",
    "from pprint import pprint\n",
    "\n",
    "img_paths = glob('./img/*')\n",
    "pprint(img_paths)"
   ]
  },
  {
   "cell_type": "code",
   "execution_count": 64,
   "metadata": {},
   "outputs": [
    {
     "name": "stdout",
     "output_type": "stream",
     "text": [
      "tuple_structure.jpg\n"
     ]
    }
   ],
   "source": [
    "from glob import glob\n",
    "import os\n",
    "\n",
    "img_name = os.path.basename('./img/tuple_structure.jpg')\n",
    "print(img_name)"
   ]
  },
  {
   "cell_type": "markdown",
   "metadata": {},
   "source": [
    "# Сторонние библиотеки"
   ]
  },
  {
   "cell_type": "markdown",
   "metadata": {},
   "source": [
    "Сторонние модули можно установить через ```pip```.\n",
    "\n",
    "Что такое ```pip```? ```pip``` - стандартный менеджер пакетов для Python. Он позволяет устанавливать и управлять дополнительными пакетами, которые не являются частью стандартной библиотеки Python. \n",
    "\n",
    "\n",
    "Установщик Python устанавливает pip самостоятельно, и он готов к использованию, если вы не установили старую версию Python. Вы можете убедиться, что pip доступен, выполнив в консоли следующую команду:"
   ]
  },
  {
   "cell_type": "code",
   "execution_count": 99,
   "metadata": {},
   "outputs": [
    {
     "name": "stdout",
     "output_type": "stream",
     "text": [
      "pip 22.2.2 from /home/petr/anaconda3/envs/virtual_hydropost/lib/python3.10/site-packages/pip (python 3.10)\n"
     ]
    }
   ],
   "source": [
    "!pip --version"
   ]
  },
  {
   "cell_type": "markdown",
   "metadata": {},
   "source": [
    "```pip``` предоставляет команду ```install``` для установки модулей (пакетов).\n",
    "\n",
    "Вы используете ```pip``` с командой ```install```, за которой следует имя пакета, который вы хотите установить. ```pip``` ищет пакет свежей версии в ```PyPI```, вычисляет его зависимости и устанавливает их."
   ]
  },
  {
   "cell_type": "code",
   "execution_count": 70,
   "metadata": {},
   "outputs": [
    {
     "name": "stdout",
     "output_type": "stream",
     "text": [
      "Requirement already satisfied: numpy in /home/petr/anaconda3/envs/virtual_hydropost/lib/python3.10/site-packages (1.22.4)\n"
     ]
    }
   ],
   "source": [
    "!pip install numpy"
   ]
  },
  {
   "cell_type": "code",
   "execution_count": 73,
   "metadata": {},
   "outputs": [
    {
     "data": {
      "text/plain": [
       "array([[ 5,  4],\n",
       "       [11,  8]])"
      ]
     },
     "execution_count": 73,
     "metadata": {},
     "output_type": "execute_result"
    }
   ],
   "source": [
    "import numpy as np\n",
    "\n",
    "A = np.array([[1, 2], [3, 2]])\n",
    "B = np.array([[3, 2], [1, 1]])\n",
    "\n",
    "np.matmul(A, B)"
   ]
  },
  {
   "cell_type": "code",
   "execution_count": 74,
   "metadata": {},
   "outputs": [
    {
     "name": "stdout",
     "output_type": "stream",
     "text": [
      "Requirement already satisfied: matplotlib in /home/petr/anaconda3/envs/virtual_hydropost/lib/python3.10/site-packages (3.5.3)\n",
      "Requirement already satisfied: packaging>=20.0 in /home/petr/anaconda3/envs/virtual_hydropost/lib/python3.10/site-packages (from matplotlib) (21.3)\n",
      "Requirement already satisfied: cycler>=0.10 in /home/petr/anaconda3/envs/virtual_hydropost/lib/python3.10/site-packages (from matplotlib) (0.11.0)\n",
      "Requirement already satisfied: numpy>=1.17 in /home/petr/anaconda3/envs/virtual_hydropost/lib/python3.10/site-packages (from matplotlib) (1.22.4)\n",
      "Requirement already satisfied: python-dateutil>=2.7 in /home/petr/anaconda3/envs/virtual_hydropost/lib/python3.10/site-packages (from matplotlib) (2.8.2)\n",
      "Requirement already satisfied: fonttools>=4.22.0 in /home/petr/anaconda3/envs/virtual_hydropost/lib/python3.10/site-packages (from matplotlib) (4.36.0)\n",
      "Requirement already satisfied: pyparsing>=2.2.1 in /home/petr/anaconda3/envs/virtual_hydropost/lib/python3.10/site-packages (from matplotlib) (3.0.9)\n",
      "Requirement already satisfied: pillow>=6.2.0 in /home/petr/anaconda3/envs/virtual_hydropost/lib/python3.10/site-packages (from matplotlib) (9.2.0)\n",
      "Requirement already satisfied: kiwisolver>=1.0.1 in /home/petr/anaconda3/envs/virtual_hydropost/lib/python3.10/site-packages (from matplotlib) (1.4.4)\n",
      "Requirement already satisfied: six>=1.5 in /home/petr/anaconda3/envs/virtual_hydropost/lib/python3.10/site-packages (from python-dateutil>=2.7->matplotlib) (1.16.0)\n"
     ]
    }
   ],
   "source": [
    "!pip install matplotlib"
   ]
  },
  {
   "cell_type": "code",
   "execution_count": 97,
   "metadata": {},
   "outputs": [
    {
     "data": {
      "text/plain": [
       "[<matplotlib.lines.Line2D at 0x7f9136649090>]"
      ]
     },
     "execution_count": 97,
     "metadata": {},
     "output_type": "execute_result"
    },
    {
     "data": {
      "image/png": "[encoded data removed]",
      "text/plain": [
       "<Figure size 1000x500 with 1 Axes>"
      ]
     },
     "metadata": {},
     "output_type": "display_data"
    }
   ],
   "source": [
    "import matplotlib.pyplot as plt\n",
    "import numpy as np\n",
    "\n",
    "# make data\n",
    "x = np.linspace(0, 10, 100)\n",
    "y = 4 + 2 * np.sin(2 * x)\n",
    "\n",
    "# plot\n",
    "fig = plt.figure(figsize=(10,5))\n",
    "ax = fig.subplots()\n",
    "ax.plot(x, y, linewidth=2)"
   ]
  },
  {
   "cell_type": "code",
   "execution_count": 98,
   "metadata": {},
   "outputs": [
    {
     "name": "stdout",
     "output_type": "stream",
     "text": [
      "Requirement already satisfied: pandas in /home/petr/anaconda3/envs/virtual_hydropost/lib/python3.10/site-packages (1.4.3)\n",
      "Requirement already satisfied: numpy>=1.21.0 in /home/petr/anaconda3/envs/virtual_hydropost/lib/python3.10/site-packages (from pandas) (1.22.4)\n",
      "Requirement already satisfied: python-dateutil>=2.8.1 in /home/petr/anaconda3/envs/virtual_hydropost/lib/python3.10/site-packages (from pandas) (2.8.2)\n",
      "Requirement already satisfied: pytz>=2020.1 in /home/petr/anaconda3/envs/virtual_hydropost/lib/python3.10/site-packages (from pandas) (2022.2.1)\n",
      "Requirement already satisfied: six>=1.5 in /home/petr/anaconda3/envs/virtual_hydropost/lib/python3.10/site-packages (from python-dateutil>=2.8.1->pandas) (1.16.0)\n"
     ]
    }
   ],
   "source": [
    "!pip install pandas"
   ]
  },
  {
   "cell_type": "code",
   "execution_count": 101,
   "metadata": {},
   "outputs": [
    {
     "data": {
      "text/html": [
       "<div>\n",
       "<style scoped>\n",
       "    .dataframe tbody tr th:only-of-type {\n",
       "        vertical-align: middle;\n",
       "    }\n",
       "\n",
       "    .dataframe tbody tr th {\n",
       "        vertical-align: top;\n",
       "    }\n",
       "\n",
       "    .dataframe thead th {\n",
       "        text-align: right;\n",
       "    }\n",
       "</style>\n",
       "<table border=\"1\" class=\"dataframe\">\n",
       "  <thead>\n",
       "    <tr style=\"text-align: right;\">\n",
       "      <th></th>\n",
       "      <th>col_1</th>\n",
       "      <th>col_2</th>\n",
       "    </tr>\n",
       "  </thead>\n",
       "  <tbody>\n",
       "    <tr>\n",
       "      <th>0</th>\n",
       "      <td>3</td>\n",
       "      <td>a</td>\n",
       "    </tr>\n",
       "    <tr>\n",
       "      <th>1</th>\n",
       "      <td>2</td>\n",
       "      <td>b</td>\n",
       "    </tr>\n",
       "    <tr>\n",
       "      <th>2</th>\n",
       "      <td>1</td>\n",
       "      <td>c</td>\n",
       "    </tr>\n",
       "    <tr>\n",
       "      <th>3</th>\n",
       "      <td>0</td>\n",
       "      <td>d</td>\n",
       "    </tr>\n",
       "  </tbody>\n",
       "</table>\n",
       "</div>"
      ],
      "text/plain": [
       "   col_1 col_2\n",
       "0      3     a\n",
       "1      2     b\n",
       "2      1     c\n",
       "3      0     d"
      ]
     },
     "execution_count": 101,
     "metadata": {},
     "output_type": "execute_result"
    }
   ],
   "source": [
    "import pandas as pd\n",
    "\n",
    "data = {'col_1': [3, 2, 1, 0], 'col_2': ['a', 'b', 'c', 'd']}\n",
    "pd.DataFrame.from_dict(data)"
   ]
  }
 ],
 "metadata": {
  "kernelspec": {
   "display_name": "Python 3.10.5 ('virtual_hydropost')",
   "language": "python",
   "name": "python3"
  },
  "language_info": {
   "codemirror_mode": {
    "name": "ipython",
    "version": 3
   },
   "file_extension": ".py",
   "mimetype": "text/x-python",
   "name": "python",
   "nbconvert_exporter": "python",
   "pygments_lexer": "ipython3",
   "version": "3.10.5"
  },
  "orig_nbformat": 4,
  "vscode": {
   "interpreter": {
    "hash": "41bbce4ce343841af682e2dfdf54c043c4cecbdb0615f6257d395b705a0d642b"
   }
  }
 },
 "nbformat": 4,
 "nbformat_minor": 2
}
