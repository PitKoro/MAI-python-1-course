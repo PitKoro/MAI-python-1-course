{
 "cells": [
  {
   "cell_type": "markdown",
   "metadata": {},
   "source": [
    "# Лекция 9"
   ]
  },
  {
   "cell_type": "markdown",
   "metadata": {},
   "source": [
    "## Пользовательские исключения"
   ]
  },
  {
   "cell_type": "markdown",
   "metadata": {},
   "source": [
    "В Python можно создавать собственные исключения. Такая практика позволяет увеличить гибкость процесса обработки ошибок в рамках той предметной области, для которой написана ваша программа.\n",
    "\n",
    "Для реализации собственного типа исключения необходимо создать класс, являющийся наследником от одного из классов исключений.\n",
    "\n",
    "![](img/exeption.png)"
   ]
  },
  {
   "cell_type": "markdown",
   "metadata": {},
   "source": [
    "Создание класса исключения в Python выполняется так же, как и для обычного класса. Основное отличие состоит в том, что вы должны включить базовый класс ```Exception```."
   ]
  },
  {
   "cell_type": "code",
   "execution_count": 1,
   "metadata": {},
   "outputs": [
    {
     "ename": "MyOwnException",
     "evalue": "Выбросим пользовательское исключение",
     "output_type": "error",
     "traceback": [
      "\u001b[0;31m---------------------------------------------------------------------------\u001b[0m",
      "\u001b[0;31mMyOwnException\u001b[0m                            Traceback (most recent call last)",
      "Cell \u001b[0;32mIn [1], line 5\u001b[0m\n\u001b[1;32m      1\u001b[0m \u001b[39mclass\u001b[39;00m \u001b[39mMyOwnException\u001b[39;00m(\u001b[39mException\u001b[39;00m):\n\u001b[1;32m      2\u001b[0m     \u001b[39mpass\u001b[39;00m\n\u001b[0;32m----> 5\u001b[0m \u001b[39mraise\u001b[39;00m MyOwnException(\u001b[39m\"\u001b[39m\u001b[39mВыбросим пользовательское исключение\u001b[39m\u001b[39m\"\u001b[39m)\n",
      "\u001b[0;31mMyOwnException\u001b[0m: Выбросим пользовательское исключение"
     ]
    }
   ],
   "source": [
    "class MyOwnException(Exception):\n",
    "    pass\n",
    "\n",
    "\n",
    "raise MyOwnException(\"Выбросим пользовательское исключение\")"
   ]
  },
  {
   "cell_type": "markdown",
   "metadata": {},
   "source": [
    "**Почему мы наследуемся от класса ```Exception```?** \n",
    "\n",
    "Если вернуться к иерархии классов иключений, то можно увидить что класс ```Exception``` является базовым для многих стандартных классов исключений (```AttributeError```, ```ArifmeticError```, ...). А другие дочерние от ```BaseException``` классы исключений (```SystemExit```, ```GeneratorExit```, ```KeyboardInterrupt```) используются крайне редко и строго специализированно.\n",
    "\n",
    "Поэтому принято напрямую или опосредованно наследовать пользовательские классы исключения от класса ```Exception```"
   ]
  },
  {
   "cell_type": "code",
   "execution_count": 2,
   "metadata": {},
   "outputs": [
    {
     "name": "stdout",
     "output_type": "stream",
     "text": [
      "error: You give negative!\n"
     ]
    }
   ],
   "source": [
    "class MyError(Exception):\n",
    "    pass\n",
    "\n",
    "\n",
    "a = input(\"Input positive integer: \")\n",
    "\n",
    "try:\n",
    "    a = int(a)\n",
    "    if a < 0:\n",
    "        raise MyError(\"You give negative!\")\n",
    "except ValueError:\n",
    "    print(\"Error type of value!\")\n",
    "except MyError as mr:\n",
    "    \n",
    "    print('error:', mr)\n",
    "else:\n",
    "    print(a)"
   ]
  },
  {
   "cell_type": "markdown",
   "metadata": {},
   "source": [
    "В данном случае в выражении ```MyError(\"You give negative!\")``` создается экземпляр собственного класса исключений. С помощью ```raise``` исключение возбуждается. В перехватившей его соответствующей ветке ```except``` исключение присваивается переменной ```mr```.\n",
    "\n",
    "У объектов класса ```Exception``` (и производных от него) определен метод ```__str__()``` так, чтобы выводить значения атрибутов. Поэтому можно не обращаться напрямую к полям объекта, например, так: ```mr.txt```.\n",
    "\n",
    "Кроме того у экземпляров ```Exception``` есть атрибут ```args```. Через него можно получать доступ к отдельным полям:"
   ]
  },
  {
   "cell_type": "code",
   "execution_count": 4,
   "metadata": {},
   "outputs": [
    {
     "name": "stdout",
     "output_type": "stream",
     "text": [
      "mr = ('You give negative!', -12)\n",
      "mr.args = ('You give negative!', -12)\n",
      "mr.args[0] = You give negative!\n",
      "mr.args[1] = -12\n"
     ]
    }
   ],
   "source": [
    "class MyError(Exception):\n",
    "    def __init__(self, text, num):\n",
    "        self.txt = text\n",
    "        self.n = num\n",
    "        \n",
    "    # def __str__(self):\n",
    "    #     return f\"{self.txt} You got: {self.n}\"\n",
    "\n",
    "\n",
    "a = input(\"Input positive integer: \")\n",
    "\n",
    "try:\n",
    "    a = int(a)\n",
    "    if a < 0:\n",
    "        raise MyError(\"You give negative!\", a)\n",
    "except ValueError:\n",
    "    print(\"Error type of value!\")\n",
    "except MyError as mr:\n",
    "    print(f\"mr = {mr}\")\n",
    "    print(f\"mr.args = {mr.args}\")\n",
    "    print(f\"mr.args[0] = {mr.args[0]}\")\n",
    "    print(f\"mr.args[1] = {mr.args[1]}\")\n",
    "else:\n",
    "    print(a)"
   ]
  },
  {
   "cell_type": "markdown",
   "metadata": {},
   "source": [
    "Пример наследования от классов-исключений. При перехвате родительский класс \"ловит\" дочерние, но не наоборот.\n",
    "\n",
    ">Функция ```sys.exc_info()``` возвращает кортеж из трех значений, которые предоставляют информацию об исключении, которое в данный момент обрабатывается."
   ]
  },
  {
   "cell_type": "code",
   "execution_count": 6,
   "metadata": {},
   "outputs": [
    {
     "name": "stdout",
     "output_type": "stream",
     "text": [
      "<class '__main__.General'>\n",
      "<class '__main__.Specific1'>\n",
      "<class '__main__.Specific2'>\n"
     ]
    }
   ],
   "source": [
    "import sys\n",
    "\n",
    "class General(Exception): pass\n",
    "class Specific1(General): pass\n",
    "class Specific2(General): pass\n",
    " \n",
    "def raiser0():\n",
    "    x = General()\n",
    "    raise x\n",
    " \n",
    "def raiser1():\n",
    "    x = Specific1()\n",
    "    raise x\n",
    " \n",
    "def raiser2():\n",
    "    x = Specific2()\n",
    "    raise x\n",
    " \n",
    "for func in (raiser0, raiser1, raiser2):\n",
    "    try:\n",
    "        func()\n",
    "    except General:\n",
    "        print(sys.exc_info()[0])"
   ]
  },
  {
   "cell_type": "code",
   "execution_count": 13,
   "metadata": {},
   "outputs": [],
   "source": [
    "# Какой-нибудь пример со своим исключением для своего класса"
   ]
  },
  {
   "cell_type": "markdown",
   "metadata": {},
   "source": [
    "## Функции как объекты первого класса\n",
    "В Python всё является объектом, а не только объекты, которые вы создаёте из классов. В этом смысле он (Python) полностью соответствует идеям объектно-ориентированного программирования. Это значит, что в Python всё это — объекты:\n",
    "\n",
    "- числа;\n",
    "\n",
    "- строки;\n",
    "\n",
    "- классы;\n",
    "\n",
    "- функции (то, что нас интересует).\n",
    "\n",
    "Тот факт, что всё является объектами, открывает перед нами множество возможностей. Мы можем сохранять функции в переменные, передавать их в качестве аргументов и возвращать из других функций. Можно даже определить одну функцию внутри другой. \n",
    "\n",
    "Иными словами, **функции — это объекты первого класса**. Из определения в Википедии:\n",
    "\n",
    ">Объектами первого класса в контексте конкретного языка программирования называются элементы, с которыми можно делать всё то же, что и с любым другим объектом: передавать как параметр, возвращать из функции и присваивать переменной.\n",
    "\n",
    "Примеры:\n",
    "\n",
    "\n",
    "\n"
   ]
  },
  {
   "cell_type": "code",
   "execution_count": 20,
   "metadata": {},
   "outputs": [],
   "source": [
    "#Определим простую функцию\n",
    "def hello_world():\n",
    "    print('Hello world!')"
   ]
  },
  {
   "cell_type": "markdown",
   "metadata": {},
   "source": [
    "Убедимся, что функция является объектом:"
   ]
  },
  {
   "cell_type": "code",
   "execution_count": 25,
   "metadata": {},
   "outputs": [
    {
     "name": "stdout",
     "output_type": "stream",
     "text": [
      "<class 'function'>\n",
      "<class 'int'>\n",
      "<class 'str'>\n"
     ]
    }
   ],
   "source": [
    "print(type(hello_world))\n",
    "print(type(10))\n",
    "print(type(\"10\"))"
   ]
  },
  {
   "cell_type": "markdown",
   "metadata": {},
   "source": [
    "Функция hello_world принадлежит типу ```<class 'function'>```. Это означает, что она является объектом класса ```function```."
   ]
  },
  {
   "cell_type": "markdown",
   "metadata": {},
   "source": [
    "Теперь давайте посмотрим на функции в качестве объектов первого класса."
   ]
  },
  {
   "cell_type": "markdown",
   "metadata": {},
   "source": [
    "- Мы можем хранить функции в переменных:"
   ]
  },
  {
   "cell_type": "code",
   "execution_count": 26,
   "metadata": {},
   "outputs": [
    {
     "name": "stdout",
     "output_type": "stream",
     "text": [
      "Hello world!\n"
     ]
    }
   ],
   "source": [
    "hello = hello_world\n",
    "hello()"
   ]
  },
  {
   "cell_type": "markdown",
   "metadata": {},
   "source": [
    "- Определять функции внутри других функций:"
   ]
  },
  {
   "cell_type": "code",
   "execution_count": 27,
   "metadata": {},
   "outputs": [
    {
     "name": "stdout",
     "output_type": "stream",
     "text": [
      "Hello world!\n"
     ]
    }
   ],
   "source": [
    "def wrapper_function():\n",
    "    def hello_world():\n",
    "        print('Hello world!')\n",
    "    hello_world()\n",
    "\n",
    "wrapper_function()\n"
   ]
  },
  {
   "cell_type": "markdown",
   "metadata": {},
   "source": [
    "- Передавать функции в качестве аргументов и возвращать их из других функций:"
   ]
  },
  {
   "cell_type": "code",
   "execution_count": 29,
   "metadata": {},
   "outputs": [
    {
     "name": "stdout",
     "output_type": "stream",
     "text": [
      "Получена функция <function hello_world at 0x7fd2cb5129e0> в качестве аргумента\n",
      "Hello world!\n"
     ]
    },
    {
     "data": {
      "text/plain": [
       "<function __main__.hello_world()>"
      ]
     },
     "execution_count": 29,
     "metadata": {},
     "output_type": "execute_result"
    }
   ],
   "source": [
    "def higher_order(func):\n",
    "    print(f'Получена функция {func} в качестве аргумента')\n",
    "    func()\n",
    "    return func\n",
    "\n",
    "higher_order(hello_world)"
   ]
  },
  {
   "cell_type": "markdown",
   "metadata": {},
   "source": [
    "И тут в дело вступают замыкания и декораторы\n",
    "## Замыкания\n",
    "\n",
    "Python позволяет определять функции внутри других функций. «Внутренняя» функция называется вложенной."
   ]
  },
  {
   "cell_type": "code",
   "execution_count": 2,
   "metadata": {},
   "outputs": [
    {
     "name": "stdout",
     "output_type": "stream",
     "text": [
      "Привет\n"
     ]
    }
   ],
   "source": [
    "def say():\n",
    "    greeting = \"Привет\"\n",
    "\n",
    "    def display():\n",
    "        print(greeting)\n",
    "\n",
    "    display()\n",
    "    \n",
    "say()"
   ]
  },
  {
   "cell_type": "markdown",
   "metadata": {},
   "source": [
    "В этом примере мы объявили функцию ```display()``` внутри функции ```say()```. Функция ```display()``` — вложенная."
   ]
  },
  {
   "cell_type": "markdown",
   "metadata": {},
   "source": [
    "При этом в функции ```display()``` используется переменная ```greeting```, которая инициализирована вне этой функции, то есть из нелокальной области видимости. \n",
    "\n",
    "В Python такие переменные как ```greeting``` называются **свободными переменными**.\n",
    "\n",
    "На самом деле функция ```display()``` состоит из двух частей:\n",
    "\n",
    "- Сама функция ```display()```.\n",
    "\n",
    "- Переменная ```greeting```, в которой содержится значение ```\"Привет\"```.\n",
    "\n",
    "\n",
    "Так вот все вместе это называется **замыканием (closure)**.\n",
    "\n",
    "![](img/closures_1.png)"
   ]
  },
  {
   "cell_type": "markdown",
   "metadata": {},
   "source": [
    ">**Замыкание (closure)** — это вложенная функция, которая ссылается на одну или более переменных из объемлющей (enclosing) области видимости."
   ]
  },
  {
   "cell_type": "markdown",
   "metadata": {},
   "source": [
    "### Функция как возвращаемое значение\n",
    "\n",
    "В Python функция может возвращать другую функцию:"
   ]
  },
  {
   "cell_type": "code",
   "execution_count": 4,
   "metadata": {},
   "outputs": [],
   "source": [
    "def say():\n",
    "    greeting = \"Привет\"\n",
    "\n",
    "    def display():\n",
    "        print(greeting)\n",
    "\n",
    "    return display  \n",
    "\n"
   ]
  },
  {
   "cell_type": "markdown",
   "metadata": {},
   "source": [
    "В этом примере функция ```say()``` возвращает функцию ```display()```, а не выполняет ее.\n",
    "\n",
    "Когда ```say()``` возвращает ```display()```, на самом деле возвращается замыкание:\n",
    "\n",
    "![](img/closures_2.png)"
   ]
  },
  {
   "cell_type": "markdown",
   "metadata": {},
   "source": [
    "Следующая инструкция присваивает возвращаемое значение функции ```say()``` переменной ```fn```. Поскольку в переменной ```fn``` теперь лежит объект типа функция, ее можно вызвать:\n",
    "\n"
   ]
  },
  {
   "cell_type": "code",
   "execution_count": 6,
   "metadata": {},
   "outputs": [
    {
     "name": "stdout",
     "output_type": "stream",
     "text": [
      "Привет\n"
     ]
    }
   ],
   "source": [
    "def say():\n",
    "    greeting = \"Привет\"\n",
    "\n",
    "    def display():\n",
    "        print(greeting)\n",
    "\n",
    "    return display  \n",
    "\n",
    "fn = say()\n",
    "fn()"
   ]
  },
  {
   "cell_type": "markdown",
   "metadata": {},
   "source": [
    "Функция ```say()``` выполняется и возвращает функцию ```fn()```. Когда выполняется ```fn()```, функция ```say()``` уже завершила выполнение. \n",
    "\n",
    "Это значит, что область видимости функции ```say()``` уже не существует к тому моменту, когда выполняется ```fn()```.\n",
    "\n",
    "Поскольку переменная greeting принадлежит области видимости функции ```say()```, она, по идеи, тоже должна уничтожаться после выполнения ```say()```.\n",
    "\n",
    "Однако ```fn()``` все равно как-то выводит значение переменной ```greeting```, как вы видите в примере выше.\n",
    "\n",
    "Разберемся, как это работает и почему так происходит."
   ]
  },
  {
   "cell_type": "markdown",
   "metadata": {},
   "source": [
    "### Ячейки и переменные с несколькими областями видимости\n",
    "\n",
    "Переменная ```greeting``` «разделяется» между двумя областями видимости:\n",
    "\n",
    "- Функции ```say()```\n",
    "\n",
    "- Замыкания\n",
    "\n",
    "\n",
    "То есть ```greeting``` находится одновременно в двух областях видимости. Тем не менее, она всегда ссылается на один и тот же строковый объект ```\"Привет\"```.\n",
    "\n",
    "Для этого Python создает промежуточный объект — ячейку (cell).\n",
    "\n",
    "![](img/closures_3.png)"
   ]
  },
  {
   "cell_type": "markdown",
   "metadata": {},
   "source": [
    "Python создает новую область видимости каждый раз, когда выполняется функция. Если функция создает замыкание, Python тоже создаст новое замыкание.\n",
    "\n",
    "1. Сначала определим функцию ```multiplier()```, которая возвращает замыкание:"
   ]
  },
  {
   "cell_type": "code",
   "execution_count": 8,
   "metadata": {},
   "outputs": [],
   "source": [
    "def multiplier(x):\n",
    "    def multiply(y):\n",
    "        return x * y\n",
    "    \n",
    "    return multiply"
   ]
  },
  {
   "cell_type": "markdown",
   "metadata": {},
   "source": [
    "Функция ```multiplier()``` возвращает произведение двух аргументов. Но возвращается не само произведение, а замыкание. \n",
    "\n",
    "2. Теперь вызовем функцию ```multiplier()``` три раза:"
   ]
  },
  {
   "cell_type": "code",
   "execution_count": 9,
   "metadata": {},
   "outputs": [],
   "source": [
    "m1 = multiplier(1)\n",
    "m2 = multiplier(2)\n",
    "m3 = multiplier(3)"
   ]
  },
  {
   "cell_type": "markdown",
   "metadata": {},
   "source": [
    "Вызовы функция создадут три замыкания. Каждая функция умножает число на ```1```, ```2```, и ```3``` соответсвенно.\n",
    "\n",
    "3. А теперь выполним функции замыканий:"
   ]
  },
  {
   "cell_type": "code",
   "execution_count": 10,
   "metadata": {},
   "outputs": [
    {
     "name": "stdout",
     "output_type": "stream",
     "text": [
      "10\n",
      "20\n",
      "30\n"
     ]
    }
   ],
   "source": [
    "print(m1(10))\n",
    "print(m2(10))\n",
    "print(m3(10))"
   ]
  },
  {
   "cell_type": "markdown",
   "metadata": {},
   "source": [
    "Как вы видите, у ```m1```, ```m2``` и ```m3``` разные инстансы замыкания."
   ]
  },
  {
   "cell_type": "markdown",
   "metadata": {},
   "source": [
    "Чтобы узнать, какие свободные переменные содержатся в замыкание, можно использовать ```__code__.co_freevars``` и ```__closure__[0].cell_contents```:\n",
    "\n"
   ]
  },
  {
   "cell_type": "code",
   "execution_count": 19,
   "metadata": {},
   "outputs": [
    {
     "name": "stdout",
     "output_type": "stream",
     "text": [
      "('x',)\n",
      "1\n",
      "('x',)\n",
      "2\n",
      "('x',)\n",
      "3\n"
     ]
    }
   ],
   "source": [
    "print(m1.__code__.co_freevars)\n",
    "print(m1.__closure__[0].cell_contents)\n",
    "\n",
    "print(m2.__code__.co_freevars)\n",
    "print(m2.__closure__[0].cell_contents)\n",
    "\n",
    "print(m3.__code__.co_freevars)\n",
    "print(m3.__closure__[0].cell_contents)"
   ]
  },
  {
   "cell_type": "markdown",
   "metadata": {},
   "source": [
    "### Когда стоит использовать замыкания?\n",
    "\n",
    "Замыкания позволяют избежать использования глобальных (global) значений и обеспечивают некоторую форму сокрытия данных. Для этого также может использоваться объектно-ориентированный подход.\n",
    "\n",
    "Если в классе необходимо реализовать небольшое количество методов (в большинстве случаев один метод), замыкания могут обеспечить альтернативное и более элегантное решение. Но когда количество атрибутов и методов становится больше, лучше реализовать класс.\n",
    "\n",
    "**Декораторы** в Python также широко используют замыкания.\n",
    "\n",
    "О декораторах на следующей лекции."
   ]
  }
 ],
 "metadata": {
  "kernelspec": {
   "display_name": "Python 3.10.5 ('virtual_hydropost')",
   "language": "python",
   "name": "python3"
  },
  "language_info": {
   "codemirror_mode": {
    "name": "ipython",
    "version": 3
   },
   "file_extension": ".py",
   "mimetype": "text/x-python",
   "name": "python",
   "nbconvert_exporter": "python",
   "pygments_lexer": "ipython3",
   "version": "3.10.5"
  },
  "orig_nbformat": 4,
  "vscode": {
   "interpreter": {
    "hash": "41bbce4ce343841af682e2dfdf54c043c4cecbdb0615f6257d395b705a0d642b"
   }
  }
 },
 "nbformat": 4,
 "nbformat_minor": 2
}
