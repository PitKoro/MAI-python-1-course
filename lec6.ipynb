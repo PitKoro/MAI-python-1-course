{
 "cells": [
  {
   "cell_type": "markdown",
   "metadata": {},
   "source": [
    "# Лекция 6 (Модули и пакеты)\n",
    "\n",
    "Чтобы не хранить вереницу кода в одном файле, его удобно разбивать по отдельным документам. В результате такого действия разработчик структурирует свой проект и делит его на модули и пакеты. Библиотеки можно легко переносить по своим проектам, их проще править и рефакторить."
   ]
  },
  {
   "cell_type": "markdown",
   "metadata": {},
   "source": [
    "## Определение и подключение модулей"
   ]
  },
  {
   "cell_type": "markdown",
   "metadata": {},
   "source": [
    "Модуль в языке Python представляет отдельный файл с кодом, который можно повторно использовать в других программах.\n",
    "\n",
    "Для создания модуля необходимо создать собственно файл с расширением ```*.py```, который будет представлять модуль.\n",
    "Название файла будет представлять название модуля. Затем в этом файле надо определить одну или несколько функций.\n",
    "\n",
    "Допустим, основной файл программы называется ```main.py```. И мы хотим подключить к нему внешние модули.\n",
    "\n",
    "Для этого сначала определим новый модуль: создадим в той же папке, где находится ```main.py```, новый файл, который назовем ```message.py```.\n",
    "\n",
    "Соответственно модуль будет называться ```message```.\n",
    "\n",
    "В нем определим переменную ```hello``` и функцию ```print_message```, которая в качестве параметра получает некоторый текст и выводит его на консоль.\n",
    "\n",
    "В основном файле программы - ```main.py``` используем наш модуль.\n",
    "\n",
    "Для использования модуля его надо импортировать с помощью оператора ```import```, после которого указывается имя модуля: ```import message```.\n",
    "\n",
    "Чтобы обращаться к функциональности модуля, нам нужно получить его пространство имен. По умолчанию оно будет совпадать с именем модуля, то есть в нашем случае также будет называться ```message```.\n",
    "\n",
    "Получив пространство имен модуля, мы сможем обратиться к его функциям по схеме ```пространство_имен.функция```\n",
    "Например, обращение к функции ```print_message()``` из модуля ```message```:\n",
    "\n",
    "```message.print_message(\"Hello work\")```\n",
    "\n",
    "И после этого мы можем запустить главный скрипт ```main.py```, и он задействует модуль ```message.py```."
   ]
  },
  {
   "cell_type": "code",
   "execution_count": 10,
   "metadata": {},
   "outputs": [
    {
     "name": "stdout",
     "output_type": "stream",
     "text": [
      "Hello all\n",
      "Message: Hello work\n"
     ]
    }
   ],
   "source": [
    "!python src/lec6/main.py"
   ]
  },
  {
   "cell_type": "markdown",
   "metadata": {},
   "source": [
    "## Подключение функциональности модуля в глобальное пространство имен"
   ]
  },
  {
   "cell_type": "markdown",
   "metadata": {},
   "source": [
    "Другой вариант настройки предполагает импорт функциональности модуля в глобальное пространство имен текущего модуля с помощью ключевого слова ```from```:"
   ]
  },
  {
   "cell_type": "code",
   "execution_count": 11,
   "metadata": {},
   "outputs": [
    {
     "name": "stdout",
     "output_type": "stream",
     "text": [
      "Message: Hello work\n"
     ]
    }
   ],
   "source": [
    "from src.lec6.message import print_message\n",
    "\n",
    "# обращаемся к функии print_message из модуля message\n",
    "print_message(\"Hello work\")  # Message: Hello work\n",
    " \n",
    "# переменная hello из модуля message не доступна, так как она не импортирована\n",
    "# print(message.hello)   \n",
    "# print(hello) "
   ]
  },
  {
   "cell_type": "markdown",
   "metadata": {},
   "source": [
    "В данном случае мы импортируем из модуля message в глобальное пространство имен функцию print_message(). Поэтому мы сможем ее использовать без указания пространства имен модуля как если бы она была определена в этом же файле.\n",
    "\n",
    "Все остальные функции, переменные из модуля недоступны (как например, в примере выше переменная hello). Если мы хотим их также использовать, то их можно подключить по отдельности:"
   ]
  },
  {
   "cell_type": "code",
   "execution_count": 12,
   "metadata": {},
   "outputs": [
    {
     "name": "stdout",
     "output_type": "stream",
     "text": [
      "Message: Hello work\n",
      "Hello all\n"
     ]
    }
   ],
   "source": [
    "from src.lec6.message import print_message\n",
    "from src.lec6.message import hello\n",
    " \n",
    "# обращаемся к функции print_message из модуля message\n",
    "print_message(\"Hello work\")  # Message: Hello work\n",
    " \n",
    "# обращаемся к переменной hello из модуля message\n",
    "print(hello)    # Hello all"
   ]
  },
  {
   "cell_type": "markdown",
   "metadata": {},
   "source": [
    "Если необходимо импортировать в глобальное пространство имен весь функционал, то вместо названий отдельных функций \n",
    "и переменных можно использовать символ зводочки ```*```:"
   ]
  },
  {
   "cell_type": "code",
   "execution_count": 13,
   "metadata": {},
   "outputs": [
    {
     "name": "stdout",
     "output_type": "stream",
     "text": [
      "Message: Hello work\n",
      "Hello all\n"
     ]
    }
   ],
   "source": [
    "from src.lec6.message import *\n",
    " \n",
    "# обращаемся к функции print_message из модуля message\n",
    "print_message(\"Hello work\")  # Message: Hello work\n",
    " \n",
    "# обращаемся к переменной hello из модуля message\n",
    "print(hello)    # Hello all"
   ]
  },
  {
   "cell_type": "markdown",
   "metadata": {},
   "source": [
    "Но стоит отметить, что импорт в глобальное пространство имен чреват коллизиями имен функций. Например, если у нас том же файле определена функция с тем же именем до ее вызова, то будет вызываться функция, которая определена последней:"
   ]
  },
  {
   "cell_type": "code",
   "execution_count": 14,
   "metadata": {},
   "outputs": [
    {
     "name": "stdout",
     "output_type": "stream",
     "text": [
      "Message: Hello work\n",
      "Text: Hello work\n"
     ]
    }
   ],
   "source": [
    "from src.lec6.message import *\n",
    "  \n",
    "print_message(\"Hello work\")  # Message: Hello work - применяется функция из модуля message\n",
    " \n",
    "def print_message(some_text):\n",
    "    print(f\"Text: {some_text}\")\n",
    "  \n",
    "print_message(\"Hello work\")  # Text: Hello work - применяется функция из текущего файла"
   ]
  },
  {
   "cell_type": "markdown",
   "metadata": {},
   "source": [
    "Таким образом, одноименная функция текущего файла скрывает функцию из подключенного модуля."
   ]
  },
  {
   "cell_type": "markdown",
   "metadata": {},
   "source": [
    "## Установка псевдонимов"
   ]
  },
  {
   "cell_type": "markdown",
   "metadata": {},
   "source": [
    "При импорте модуля и его функциональности мы можем установить для них псевдонимы. Для этого применяется ключевое слово ```as```, после которого указывается псевдоним. Например, установим псевдоним для модуля:"
   ]
  },
  {
   "cell_type": "code",
   "execution_count": 15,
   "metadata": {},
   "outputs": [
    {
     "name": "stdout",
     "output_type": "stream",
     "text": [
      "Hello all\n",
      "Message: Hello work\n"
     ]
    }
   ],
   "source": [
    "import src.lec6.message as mes  # модуль message проецируется на псевдоним mes\n",
    " \n",
    "# выводим значение переменной hello\n",
    "print(mes.hello)        # Hello all\n",
    "# обращаемся к функии print_message\n",
    "mes.print_message(\"Hello work\")  # Message: Hello work"
   ]
  },
  {
   "cell_type": "markdown",
   "metadata": {},
   "source": [
    "В данном случае пространство имен будет называться ```mes```, и через этот псевдоним можно обращаться к функциональности модуля.\n",
    "\n",
    "Подобным образом можно установить псевдонимы для отдельной функциональности модуля:"
   ]
  },
  {
   "cell_type": "code",
   "execution_count": 16,
   "metadata": {},
   "outputs": [
    {
     "name": "stdout",
     "output_type": "stream",
     "text": [
      "Hello all\n",
      "Message: Hello work\n"
     ]
    }
   ],
   "source": [
    "from src.lec6.message import print_message as display\n",
    "from src.lec6.message import hello as welcome\n",
    " \n",
    "print(welcome)          # Hello all - переменная hello из модуля message\n",
    "display(\"Hello work\")   # Message: Hello work - функция print_message из модуля message"
   ]
  },
  {
   "cell_type": "markdown",
   "metadata": {},
   "source": [
    "Здесь для функции ```print_message``` из модуля ```message``` устанавливается псевдоним ```display```, а для переменной ```hello``` - псевдоним ```welcome```. И через эти псевдонимы мы сможем к ним обращаться.\n",
    "\n",
    "Псевдонимы могут быть полезны, когда нас не устраивают имена функций и переменных, например, они слишком длинные, и мы хотим их сократить, либо мы хотим дать им более описательные, с нашей точки зрения, имена. Либо если в текущем файле уже есть функциональность с теми же именами, и с помощью установки псевдонимов мы можем избежать конфликта имен. Например:"
   ]
  },
  {
   "cell_type": "code",
   "execution_count": 17,
   "metadata": {},
   "outputs": [
    {
     "name": "stdout",
     "output_type": "stream",
     "text": [
      "Message: Hello work\n",
      "Text: Hello work\n"
     ]
    }
   ],
   "source": [
    "from src.lec6.message import print_message as display\n",
    " \n",
    "def print_message(some_text):\n",
    "    print(f\"Text: {some_text}\")\n",
    " \n",
    "# функция print_message из модуля message\n",
    "display(\"Hello work\")       # Message: Hello work\n",
    " \n",
    "# функция print_message из текущего файла\n",
    "print_message(\"Hello work\")  # Text: Hello work"
   ]
  },
  {
   "cell_type": "markdown",
   "metadata": {},
   "source": [
    "## Имя модуля\n",
    "\n",
    "В примере выше модуль ```main.py```, который является главным, использует модуль ```message.py```. При запуске модуля ```main.py``` программа выполнит всю необходимую работу. Однако, если мы запустим отдельно модуль ```message.py``` сам по себе, то ничего на консоли не увидим. Ведь модуль message просто определяет функцию и переменную и не выполняет никаких других действий. Но мы можем сделать так, чтобы модуль ```message.py``` мог использоваться как сам по себе, так и подключаться в другие модули."
   ]
  },
  {
   "cell_type": "code",
   "execution_count": 18,
   "metadata": {},
   "outputs": [],
   "source": [
    "!python src/lec6/message.py"
   ]
  },
  {
   "cell_type": "markdown",
   "metadata": {},
   "source": [
    "Для тестирования функциональности добавим в модуль ```message``` следующий код:\n",
    "\n",
    "```print_message(hello)```\n",
    "\n",
    "И запустим модуль ```message``` отдельно от основного файла ```main.py```: "
   ]
  },
  {
   "cell_type": "code",
   "execution_count": 20,
   "metadata": {},
   "outputs": [
    {
     "name": "stdout",
     "output_type": "stream",
     "text": [
      "Message: Hello all\n"
     ]
    }
   ],
   "source": [
    "!python src/lec6/message.py"
   ]
  },
  {
   "cell_type": "markdown",
   "metadata": {},
   "source": [
    "Модуль работает так как мы и ожидаем, теперь можем спокойно им пользоваться в основном файле ```main.py```:"
   ]
  },
  {
   "cell_type": "code",
   "execution_count": 21,
   "metadata": {},
   "outputs": [
    {
     "name": "stdout",
     "output_type": "stream",
     "text": [
      "Message: Hello all\n",
      "Hello all\n",
      "Message: Hello work\n"
     ]
    }
   ],
   "source": [
    "!python src/lec6/main.py"
   ]
  },
  {
   "cell_type": "markdown",
   "metadata": {},
   "source": [
    "Помимо того, что у нас отработала основная программа ```main.py```, код, предназначенный для тестирования модуля тоже выполнился (```не круто(```).\n",
    "\n",
    "Хорошая новость: эту логику можно настроить."
   ]
  },
  {
   "cell_type": "markdown",
   "metadata": {},
   "source": [
    "При выполнении модуля среда определяет его имя и присваивает его глобальной переменной ```__name__``` (с обеих сторон по два подчеркивания). Если модуль является запускаемым, то его имя равно ```__main__``` (также по два подчеркивания с каждой стороны). Если модуль используется в другом модуле, то в момент выполнения его имя аналогично названию файла без расширения ```py```. И мы можем это использовать. Добавим следующий код в файл ```message.py```:\n",
    "\n",
    "```\n",
    "def main():\n",
    "    print_message(hello)\n",
    " \n",
    " \n",
    "if __name__ == \"__main__\": \n",
    "    main()\n",
    "```"
   ]
  },
  {
   "cell_type": "code",
   "execution_count": 22,
   "metadata": {},
   "outputs": [
    {
     "name": "stdout",
     "output_type": "stream",
     "text": [
      "Message: Hello all\n"
     ]
    }
   ],
   "source": [
    "!python src/lec6/message.py"
   ]
  },
  {
   "cell_type": "code",
   "execution_count": 23,
   "metadata": {},
   "outputs": [
    {
     "name": "stdout",
     "output_type": "stream",
     "text": [
      "Hello all\n",
      "Message: Hello work\n"
     ]
    }
   ],
   "source": [
    "!python src/lec6/main.py"
   ]
  },
  {
   "cell_type": "markdown",
   "metadata": {},
   "source": [
    "В данном случае в модуль ```message.py``` для тестирования функциональности модуля добавлена функция ```main```. И мы можем сразу запустить файл ```message.py``` отдельно от всех и протестировать код.\n",
    "\n",
    "Следует обратить внимание на вызов функции ```main```:\n",
    "\n",
    "```\n",
    "if __name__ == \"__main__\":\n",
    "    main()\n",
    "```\n",
    "\n",
    "Переменная ```__name__``` указывает на имя модуля. Для главного модуля, который непосредственно запускается, эта переменная всегда будет иметь значение ```__main__``` вне зависимости от имени файла.\n",
    "\n",
    "Поэтому, если мы будем запускать скрипт ```message.py``` отдельно, сам по себе, то Python присвоит переменной ```__name__``` значение ```__main__```, далее в выражении ```if``` вызовет функцию ```main``` из этого же файла.\n",
    "\n",
    "Однако если мы будем запускать другой скрипт, а этот - ```message.py``` - будем подключать в качестве вспомогательного, для ```message.py``` переменная ```__name__``` будет иметь значение ```message```. И соответственно метод ```main``` в файле ```message.py``` не будет работать."
   ]
  },
  {
   "cell_type": "markdown",
   "metadata": {},
   "source": [
    "**Подытожим**:\n",
    "\n",
    "Модуль - это отдельный файл с кодом на Python, который:\n",
    "- Имеет расширение *.py (имя файла без расширения является именем модуля).\n",
    "- Может быть импортирован.\n",
    "- Может быть многократно использован.\n",
    "- Позволяет вам логически организовать ваш код на Python."
   ]
  },
  {
   "cell_type": "markdown",
   "metadata": {},
   "source": [
    "## Пакеты\n",
    "\n",
    "Если начать делить код достаточно большого проекта на модули, то довольно быстро может возникнуть желание сгруппировать несколько близких по тематике модулей. Или же мы захотим вынести часть модулей из проекта, чтобы их можно было использовать в других проектах. И тут нам на помощь приходят пакеты(packages) в Python, которые служат для объединения модулей в группы."
   ]
  },
  {
   "cell_type": "markdown",
   "metadata": {},
   "source": [
    "![ Структура пакета python ](img/python_pack.png)"
   ]
  },
  {
   "cell_type": "markdown",
   "metadata": {},
   "source": [
    "**Пакет** - это набор взаимосвязанных модулей(при этом стоит уточнить, что сам пакет тоже является модулем), предназначенных для решения задач определенного класса некоторой предметной области. \n",
    "\n",
    "Это такой способ структуризации модулей. \n",
    "\n",
    "Пакет представляет собой папку, в которой содержатся модули и другие пакеты и обязательный файл (для ```python >= 3.3``` уже необязательный) ```__init__.py```, отвечающий за инициализацию пакета."
   ]
  },
  {
   "cell_type": "markdown",
   "metadata": {},
   "source": [
    "Пакет импортируется так же как и модуль, с помощью ключевого слова ```import```."
   ]
  },
  {
   "cell_type": "code",
   "execution_count": 25,
   "metadata": {},
   "outputs": [
    {
     "name": "stdout",
     "output_type": "stream",
     "text": [
      "my_print1\n",
      "my_print2\n"
     ]
    }
   ],
   "source": [
    "import src.lec6.my_package as my_p\n",
    "\n",
    "my_p.my_print1()\n",
    "my_p.my_print2()"
   ]
  },
  {
   "cell_type": "markdown",
   "metadata": {},
   "source": [
    "**Подытожим**\n",
    "\n",
    "Пакет - это каталог с модулями, другими пакетами и файлом __init__.py. При этом:\n",
    "- Именем пакета является название данного каталога.\n",
    "- С версии Python 3.3 любая папка (даже без __init__.py) считается пакетом.\n",
    "- Пакет может быть импортирован(так же как и модуль).\n",
    "- Пакет может быть многократно использован(так же как и модуль)."
   ]
  },
  {
   "cell_type": "markdown",
   "metadata": {},
   "source": [
    "## Классификация модулей\n",
    "\n",
    "Для удобной и эффективной разработки на Python создано огромное количество модулей и пакетов. Их все можно разделить на 3 группы в зависимости от того, кем создается и где хранится код конкретного модуля:\n",
    "- Стандартная библиотека Python (англ. Standard Library).\n",
    "- Сторонние модули (англ. 3rd Party Modules)\n",
    "- Пользовательские модули\n",
    "\n",
    "![ классификация моделей ](img/python_libr.png)\n",
    "\n",
    "\n",
    "**Примеры модулей стандартной библиотеки:**\n",
    "\n",
    "| Библиотека | Описание |\n",
    "| --- | --- |\n",
    "| ```sys``` | Обеспечивает доступ к некоторым переменным и функциям, взаимодействующим с интерпретатором Python, например - доступ к аргументам командной строки, списку встроенных модулей Python, текущим исключениям, информации об операционной системе. |\n",
    "| ```os``` | Предоставляет множество функций для работы с операционной системой. Например, получение версии и другой информации о текущей ОС, работа с переменными окружения и файловой системой. |\n",
    "| ```os.path``` | Является вложенным в модуль os(по сути os является пакетом), и реализует некоторые полезные функции для работы с файлами - доступ к характеристикам файла и манипуляции с путями. |\n",
    "| ```time, datetime``` | Данные модули предоставляют классы для обработки времени и даты разными способами. |\n",
    "| ```random``` | Предоставляет функции для генерации случайных чисел, букв, случайного выбора элементов последовательности. |\n",
    "| ```json``` | Позволяет кодировать и декодировать данные в формате JSON. |\n",
    "\n",
    "\n",
    "**Примеры сторонних модулей:**\n",
    "\n",
    "| Библиотека | Описание |\n",
    "| --- | --- |\n",
    "| ```requests``` | HTTP клиент для Python. Технически является более удобной оберткой над urllib3. |\n",
    "| ```numpy``` | Пакет для вычислений с многомерными массивами.  |\n",
    "| ```pytest``` | Библиотека для создания и запуска автоматизированных unit тестов(альтернатива unittest) |\n",
    "| ```flask``` | Фреймворк для создания веб-приложений на Python |"
   ]
  },
  {
   "cell_type": "code",
   "execution_count": 2,
   "metadata": {},
   "outputs": [
    {
     "data": {
      "text/plain": [
       "1666830175.1464849"
      ]
     },
     "execution_count": 2,
     "metadata": {},
     "output_type": "execute_result"
    }
   ],
   "source": [
    "import time\n",
    "\n",
    "# Получаем текущее время в секундах в формате Unix time через модуль time и одноименную функцию time()\n",
    "time.time()"
   ]
  },
  {
   "cell_type": "code",
   "execution_count": 3,
   "metadata": {},
   "outputs": [
    {
     "data": {
      "text/plain": [
       "0.4879442791270303"
      ]
     },
     "execution_count": 3,
     "metadata": {},
     "output_type": "execute_result"
    }
   ],
   "source": [
    "import random\n",
    "# Генерируем рандомное число в диапазоне [0, 1) через модуль random и функцию random()\n",
    "random.random()"
   ]
  },
  {
   "cell_type": "code",
   "execution_count": 4,
   "metadata": {},
   "outputs": [
    {
     "data": {
      "text/plain": [
       "'/home/petr/Desktop/repos/MAI-python-1-course'"
      ]
     },
     "execution_count": 4,
     "metadata": {},
     "output_type": "execute_result"
    }
   ],
   "source": [
    "# Импортируем модуль os с псевдонимом linux_os\n",
    "import os as linux_os\n",
    "# Вызываем функцию getcwd() для получения текущей директории, обращаемся через псевдоним\n",
    "linux_os.getcwd()"
   ]
  },
  {
   "cell_type": "code",
   "execution_count": 5,
   "metadata": {},
   "outputs": [
    {
     "data": {
      "text/plain": [
       "2.718281828459045"
      ]
     },
     "execution_count": 5,
     "metadata": {},
     "output_type": "execute_result"
    }
   ],
   "source": [
    "# Импортируем модуль math с псевдонимом m и обратимся к числу e\n",
    "import math as m\n",
    "m.e"
   ]
  },
  {
   "cell_type": "markdown",
   "metadata": {},
   "source": [
    "## Относительный и абсолютный импорт\n",
    "\n",
    "При работе с пакетами может возникнуть ситуация, когда необходимо импортировать подпакет или модуль из другого каталога - соседнего или на уровень выше/ниже. \n",
    "\n",
    "Чтобы интерпретатор Python понял, где искать, ему нужно указать правильный путь в дереве каталогов к модулю/пакету, который вы собираетесь импортировать. \n",
    "\n",
    "В Python данный путь(как и сам импорт) может быть двух видов:\n",
    "- Абсолютный\n",
    "- Относительный"
   ]
  },
  {
   "cell_type": "markdown",
   "metadata": {},
   "source": [
    "### Абсолютный импорт\n",
    "\n",
    "При абсолютном импорте используется полный путь к желаемому(импортируемому) модулю.\n",
    "\n",
    "Полный путь к модулю - это путь от корневой папки проекта. \n",
    "\n",
    "Формат абсолютного пути:\n",
    "```<пакет_1>.<пакет_2>.<пакет_n>.<модуль/пакет>```"
   ]
  },
  {
   "cell_type": "markdown",
   "metadata": {},
   "source": [
    "Например, если рассмотреть проект со следующей структурой:\n",
    "\n",
    "```\n",
    "projectfruits\n",
    "    ├── citrus\n",
    "          ├── __init__.py\n",
    "          ├── grapefruit.py\n",
    "          ├── lemon.py\n",
    "          └── orange.py\n",
    "    ├── apple.py\n",
    "    └── banana.py\n",
    "```\n",
    "\n",
    "То абсолютные пути модулей проекта будут выглядеть следующим образом:\n",
    "```\n",
    "citrus.grapefruit\n",
    "citrus.lemon\n",
    "citrus.orange\n",
    "apple\n",
    "banana\n",
    "```\n"
   ]
  },
  {
   "cell_type": "markdown",
   "metadata": {},
   "source": [
    "При абсолютном импорте одинаково могут использоваться обе выше рассмотренные инструкции:\n",
    "\n",
    "- ```import <полный_путь>```\n",
    "- ```from <полный_путь> import <объект_импорта>```"
   ]
  },
  {
   "cell_type": "code",
   "execution_count": null,
   "metadata": {},
   "outputs": [],
   "source": [
    "# Импортируем модуль apple в модуль lemon\n",
    "import apple\n",
    "\n",
    "# Импортируем функцию baz из модуля apple в модуль lemon\n",
    "from apple import baz\n",
    "\n",
    "# Импортируем модуль lemon в модуль apple двумя равнозначными способами\n",
    "import citrus.lemon\n",
    "from citrus import lemon\n",
    "\n",
    "# Импортируем функцию foo из модуля lemon в модуль apple\n",
    "from citrus.lemon import foo"
   ]
  },
  {
   "cell_type": "markdown",
   "metadata": {},
   "source": [
    "### Относительный импорт\n",
    "\n",
    "При относительном виде импорта используются относительные пути к импортируемому файлу. Относительный путь показывает, на сколько директорий вверх необходимо подняться. \n",
    "\n",
    "Формат относительного пути:\n",
    "\n",
    "```.<модуль/пакет>```\n",
    "\n",
    "Количество точек в начале указывает, как необходимо перемещаться по директориям пакета.\n",
    "Одна точка ```.``` означает, что пакет/модуль лежит в текущей директории. Две точки ```..``` говорят о том, что необходимо подняться на уровень выше и так далее.\n",
    "\n",
    "При относительном импорте(в отличие от абсолютного) может использоваться только вторая инструкция:\n",
    "\n",
    "```from <относительный путь> import <объект_импорта>```"
   ]
  },
  {
   "cell_type": "code",
   "execution_count": null,
   "metadata": {},
   "outputs": [],
   "source": [
    "# Импортируем модуль lemon в модуль orange(находятся в одном пакете citrus)\n",
    "from . import lemon\n",
    "\n",
    "# Импортируем функцию foo из модуля lemon в модуль orange(находятся в одном пакете citrus)\n",
    "from .lemon import foo"
   ]
  },
  {
   "cell_type": "markdown",
   "metadata": {},
   "source": [
    "**Все импорты, которые начинаются не с точки ```.``` , считаются абсолютными.**"
   ]
  },
  {
   "cell_type": "markdown",
   "metadata": {},
   "source": []
  },
  {
   "cell_type": "code",
   "execution_count": 1,
   "metadata": {},
   "outputs": [
    {
     "name": "stdout",
     "output_type": "stream",
     "text": [
      "circle_area |default var|\n"
     ]
    }
   ],
   "source": [
    "from src.lec6.figures import circle_area\n",
    "\n",
    "circle_area()\n"
   ]
  }
 ],
 "metadata": {
  "kernelspec": {
   "display_name": "Python 3.10.5 ('virtual_hydropost')",
   "language": "python",
   "name": "python3"
  },
  "language_info": {
   "codemirror_mode": {
    "name": "ipython",
    "version": 3
   },
   "file_extension": ".py",
   "mimetype": "text/x-python",
   "name": "python",
   "nbconvert_exporter": "python",
   "pygments_lexer": "ipython3",
   "version": "3.10.5"
  },
  "orig_nbformat": 4,
  "vscode": {
   "interpreter": {
    "hash": "41bbce4ce343841af682e2dfdf54c043c4cecbdb0615f6257d395b705a0d642b"
   }
  }
 },
 "nbformat": 4,
 "nbformat_minor": 2
}
